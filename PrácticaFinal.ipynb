{
  "nbformat": 4,
  "nbformat_minor": 0,
  "metadata": {
    "colab": {
      "name": "PrácticaFinal.ipynb",
      "version": "0.3.2",
      "provenance": [],
      "collapsed_sections": [],
      "toc_visible": true,
      "include_colab_link": true
    },
    "kernelspec": {
      "name": "python3",
      "display_name": "Python 3"
    },
    "accelerator": "GPU"
  },
  "cells": [
    {
      "cell_type": "markdown",
      "metadata": {
        "id": "view-in-github",
        "colab_type": "text"
      },
      "source": [
        "<a href=\"https://colab.research.google.com/github/Pimateos/Deep-Learning/blob/master/Pr%C3%A1cticaFinal.ipynb\" target=\"_parent\"><img src=\"https://colab.research.google.com/assets/colab-badge.svg\" alt=\"Open In Colab\"/></a>"
      ]
    },
    {
      "metadata": {
        "colab_type": "text",
        "id": "5H1nWhikvlVl"
      },
      "cell_type": "markdown",
      "source": [
        "# Parte 1: Cuestionario (2.5 puntos)"
      ]
    },
    {
      "metadata": {
        "colab_type": "text",
        "id": "ggztemaDwvQC"
      },
      "cell_type": "markdown",
      "source": [
        "### 1.1 *(0.5 puntos)* Explicar por qué es preferible hacer np.dot(X, Y), donde X e Y son arrays bidimensionales, que ejecutar un triple bucle con el algoritmo básico de la multiplicación de matrices."
      ]
    },
    {
      "metadata": {
        "colab_type": "text",
        "id": "fmPuCTrqxFbS"
      },
      "cell_type": "markdown",
      "source": [
        "Porque numpy calcula en paralelo las matrices en lugar del metodo clasico que se itera."
      ]
    },
    {
      "metadata": {
        "colab_type": "text",
        "id": "FLtL4jdOxJNY"
      },
      "cell_type": "markdown",
      "source": [
        "### 1.2 *(0.5 puntos)* Explicar qué ventajas nos aporta utilizar un grafo de computación a la hora de entrenar redes neuronales."
      ]
    },
    {
      "metadata": {
        "colab_type": "text",
        "id": "JvFvPIkix044"
      },
      "cell_type": "markdown",
      "source": [
        "Sabemos el orden que tienen las operaciones y si son compatibles.\n",
        "\n",
        "Mas velocidad de ejecución.\n",
        "\n",
        "Nos permite poder establecer el punto desde el cual queremos computar. Ademas de establecer paralelismos. Esto nos ayuda a ejecutar en entornos distribuidos y/o GPUs.\n",
        "\n",
        "Los frameworks modernos tienen operaciones embebidas en los nodos de los grafos, por ejemplo, el backward propagation.  Esto lo hacen automaticamente y es muy importante en redes muy grandes(autodiferenciación)"
      ]
    },
    {
      "metadata": {
        "colab_type": "text",
        "id": "tsZHOJWdx2yV"
      },
      "cell_type": "markdown",
      "source": [
        "### 1.3 *(0.5 puntos)* Hemos visto cómo con TensorFlow es posible añadir una operación de optimización (como *tf.train.GradientDescentOptimizer*) y aplicar con ésta la minimización de la función de pérdida. Explicar cómo afecta esto al grafo de computación y cuál es su relación con el entrenamiento de una red neuronal."
      ]
    },
    {
      "metadata": {
        "colab_type": "text",
        "id": "i_c_BBjzx25o"
      },
      "cell_type": "markdown",
      "source": [
        "Gradient Descent Optimizer nos permite calcular el array cuando tenemos variables variables minimizando el error de las mismas al valor que establezcamos, pero computandola optimizando el calculo de matrices."
      ]
    },
    {
      "metadata": {
        "colab_type": "text",
        "id": "1vFhP_iYx281"
      },
      "cell_type": "markdown",
      "source": [
        "### 1.4 *(0.5 puntos)* ¿Qué diferencias hay entre grafos estáticos y grafos dinámicos?\n",
        "\n",
        "\n"
      ]
    },
    {
      "metadata": {
        "colab_type": "text",
        "id": "xcgjyogx0FOw"
      },
      "cell_type": "markdown",
      "source": [
        "Los grafos estáticos se calculan antes de ejecutar el código. Mientras que los grafos dinámicos se calculan mientras se estan ejecutando. Pytorch los calcula dinámicamente. Mientras que Tensorflow estáticamente en versiones antiguas. A partir de Tensorflow 2.0 se calculan por defecto dinámicamente y se puede cambiar a forma estática.\n",
        "\n",
        "Los grafos dinamicos son buenos para experimentación. Sin embargo, para producción son mejores los estáticos."
      ]
    },
    {
      "metadata": {
        "colab_type": "text",
        "id": "0Rm79mkb0FT3"
      },
      "cell_type": "markdown",
      "source": [
        "### 1.5 *(0.5 puntos)* Algunas ops en redes neuronales tienen un comportamiento diferente durante *training time* (cuando entrenamos la red) que durante *inference time* (cuando utilizamos la red ya entrenada). Da un ejemplo de una operación usada en redes neuronales de este tipo y explicar la diferencia en ejecución. ¿Qué consecuencias tiene esto en relación al grafo de computación?"
      ]
    },
    {
      "metadata": {
        "colab_type": "text",
        "id": "32uwO8Gc0FYf"
      },
      "cell_type": "markdown",
      "source": [
        "Dropout se utiliza para prevenir el overfitting. No teniendo en cuenta aleatoriamente una neurona. Consiguiendo con su introduccion en el entrenamiento, modelos mas robustos.\n",
        "\n",
        "En la parte de inferencia no tendria sentido utilizar esta técnica, ya que, ya tenemos entrenada la red y no tendria sentido meter un componente aleatorio en la predicción también. Porque la salida nos daria una predicción aleatoria.\n"
      ]
    },
    {
      "metadata": {
        "colab_type": "text",
        "id": "mX8gZlVyCCbz"
      },
      "cell_type": "markdown",
      "source": [
        "# Parte 2: Laboratorio (7.5 puntos)\n",
        "\n",
        "---\n",
        "\n",
        "\n",
        "\n",
        "En este laboratorio, vamos a trabajar con Convolutional Neural Networks para resolver un problema de clasificación de imágenes. En particular, vamos a clasificar imágenes de personajes de la conocida serie de los Simpsons.\n",
        "\n",
        "Como las CNN profundas son un tipo de modelo bastante avanzado y computacionalmente costoso, se recomienda hacer la práctica en Google Colaboratory con soporte para GPUs. En [este enlace](https://medium.com/deep-learning-turkey/google-colab-free-gpu-tutorial-e113627b9f5d) se explica cómo activar un entorno con GPUs. *Nota: para leer las imágenes y estandarizarlas al mismo tamaño se usa la librería opencv. Esta ĺibrería está ya instalada en el entorno de Colab, pero si trabajáis de manera local tendréis que instalarla.*\n",
        "\n",
        "<center><img src=\"https://i.imgur.com/i8zIGqX.jpg\" style=\"text-align: center\" height=\"300px\"></center>\n",
        "\n",
        "El dataset a utilizar consiste en imágenes de personajes de los Simpsons extraídas directamente de capítulos de la serie. Este dataset ha sido recopilado por [Alexandre Attia](http://www.alexattia.fr/) y es más complejo que el clásico dataset de MNIST. Aparte de tener más clases (vamos a utilizar los 18 personajes con más imágenes), los personajes pueden aparecer en distintas poses, en distintas posiciones de la imagen o con otros personajes en pantalla (si bien el personaje a clasificar siempre aparece en la posición predominante).\n",
        "\n",
        "El dataset de training puede ser descargado desde aquí:\n",
        "\n",
        "[Training data](https://onedrive.live.com/download?cid=C506CF0A4F373B0F&resid=C506CF0A4F373B0F%219337&authkey=AMzI92bJPx8Sd60) (~500MB)\n",
        "\n",
        "Por otro lado, el dataset de test puede ser descargado de aquí:\n",
        "\n",
        "[Test data](https://onedrive.live.com/download?cid=C506CF0A4F373B0F&resid=C506CF0A4F373B0F%219341&authkey=ANnjK3Uq1FhuAe8) (~10MB)\n",
        "\n",
        "Antes de empezar la práctica, se recomienda descargar las imágenes y echarlas un vistazo.\n"
      ]
    },
    {
      "metadata": {
        "colab_type": "text",
        "id": "QI274F8LQC59"
      },
      "cell_type": "markdown",
      "source": [
        "## Carga de los datos"
      ]
    },
    {
      "metadata": {
        "colab_type": "code",
        "id": "D7tKOZ9BFfki",
        "colab": {}
      },
      "cell_type": "code",
      "source": [
        "import cv2\n",
        "import os\n",
        "import numpy as np \n",
        "import keras\n",
        "import matplotlib.pyplot as plt\n",
        "import glob\n",
        "\n",
        "\n",
        "# Primero, bajamos los datos de entrenamiento\n",
        "keras.utils.get_file(fname=\"simpsons_train.tar.gz\", \n",
        "                     origin=\"https://onedrive.live.com/download?cid=C506CF0A4F373B0F&resid=C506CF0A4F373B0F%219337&authkey=AMzI92bJPx8Sd60\")\n",
        "\n",
        "# Descomprimimos el archivo\n",
        "!tar -xzf /root/.keras/datasets/simpsons_train.tar.gz -C /root/.keras/datasets\n",
        "\n",
        "# Hacemos lo mismo con los datos de test\n",
        "keras.utils.get_file(fname=\"simpsons_test.tar.gz\", \n",
        "                     origin=\"https://onedrive.live.com/download?cid=C506CF0A4F373B0F&resid=C506CF0A4F373B0F%219341&authkey=ANnjK3Uq1FhuAe8\")\n",
        "!tar -xzf /root/.keras/datasets/simpsons_test.tar.gz -C /root/.keras/datasets"
      ],
      "execution_count": 0,
      "outputs": []
    },
    {
      "metadata": {
        "colab_type": "code",
        "id": "hMFhe3COFwSD",
        "colab": {}
      },
      "cell_type": "code",
      "source": [
        "# Esta variable contiene un mapeo de número de clase a personaje.\n",
        "# Utilizamos sólo los 18 personajes del dataset que tienen más imágenes.\n",
        "MAP_CHARACTERS = {\n",
        "    0: 'abraham_grampa_simpson', 1: 'apu_nahasapeemapetilon', 2: 'bart_simpson',\n",
        "    3: 'charles_montgomery_burns', 4: 'chief_wiggum', 5: 'comic_book_guy', 6: 'edna_krabappel', \n",
        "    7: 'homer_simpson', 8: 'kent_brockman', 9: 'krusty_the_clown', 10: 'lisa_simpson', \n",
        "    11: 'marge_simpson', 12: 'milhouse_van_houten', 13: 'moe_szyslak', \n",
        "    14: 'ned_flanders', 15: 'nelson_muntz', 16: 'principal_skinner', 17: 'sideshow_bob'\n",
        "}\n",
        "\n",
        "# Vamos a standarizar todas las imágenes a tamaño 64x64\n",
        "IMG_SIZE = 64"
      ],
      "execution_count": 0,
      "outputs": []
    },
    {
      "metadata": {
        "colab_type": "code",
        "id": "5bJ0NsbCbupF",
        "colab": {}
      },
      "cell_type": "code",
      "source": [
        "def load_train_set(dirname, map_characters, verbose=True):\n",
        "    \"\"\"Esta función carga los datos de training en imágenes.\n",
        "    \n",
        "    Como las imágenes tienen tamaños distintas, utilizamos la librería opencv\n",
        "    para hacer un resize y adaptarlas todas a tamaño IMG_SIZE x IMG_SIZE.\n",
        "    \n",
        "    Args:\n",
        "        dirname: directorio completo del que leer los datos\n",
        "        map_characters: variable de mapeo entre labels y personajes\n",
        "        verbose: si es True, muestra información de las imágenes cargadas\n",
        "     \n",
        "    Returns:\n",
        "        X, y: X es un array con todas las imágenes cargadas con tamaño\n",
        "                IMG_SIZE x IMG_SIZE\n",
        "              y es un array con las labels de correspondientes a cada imagen\n",
        "    \"\"\"\n",
        "    X_train = []\n",
        "    y_train = []\n",
        "    for label, character in map_characters.items():        \n",
        "        files = os.listdir(os.path.join(dirname, character))\n",
        "        images = [file for file in files if file.endswith(\"jpg\")]\n",
        "        if verbose:\n",
        "          print(\"Leyendo {} imágenes encontradas de {}\".format(len(images), character))\n",
        "        for image_name in images:\n",
        "            image = cv2.imread(os.path.join(dirname, character, image_name))\n",
        "            X_train.append(cv2.resize(image,(IMG_SIZE, IMG_SIZE)))\n",
        "            y_train.append(label)\n",
        "    return np.array(X_train), np.array(y_train)\n"
      ],
      "execution_count": 0,
      "outputs": []
    },
    {
      "metadata": {
        "colab_type": "code",
        "id": "NslxhnnDK6uA",
        "colab": {}
      },
      "cell_type": "code",
      "source": [
        "def load_test_set(dirname, map_characters, verbose=True):\n",
        "    \"\"\"Esta función funciona de manera equivalente a la función load_train_set\n",
        "    pero cargando los datos de test.\"\"\"\n",
        "    X_test = []\n",
        "    y_test = []\n",
        "    reverse_dict = {v: k for k, v in map_characters.items()}\n",
        "    for filename in glob.glob(dirname + '/*.*'):\n",
        "        char_name = \"_\".join(filename.split('/')[-1].split('_')[:-1])\n",
        "        if char_name in reverse_dict:\n",
        "            image = cv2.imread(filename)\n",
        "            image = cv2.resize(image, (IMG_SIZE, IMG_SIZE))\n",
        "            X_test.append(image)\n",
        "            y_test.append(reverse_dict[char_name])\n",
        "    if verbose:\n",
        "        print(\"Leídas {} imágenes de test\".format(len(X_test)))\n",
        "    return np.array(X_test), np.array(y_test)\n"
      ],
      "execution_count": 0,
      "outputs": []
    },
    {
      "metadata": {
        "colab_type": "code",
        "id": "WVWqKxFcbwTu",
        "outputId": "323e2e94-b647-4c35-d72a-4395d7edf67b",
        "colab": {
          "base_uri": "https://localhost:8080/",
          "height": 340
        }
      },
      "cell_type": "code",
      "source": [
        "# Cargamos los datos. Si no estás trabajando en colab, cambia los paths por\n",
        "# los de los ficheros donde hayas descargado los datos.\n",
        "DATASET_TRAIN_PATH_COLAB = \"/root/.keras/datasets/simpsons\"\n",
        "DATASET_TEST_PATH_COLAB = \"/root/.keras/datasets/simpsons_testset\"\n",
        "\n",
        "X, y = load_train_set(DATASET_TRAIN_PATH_COLAB, MAP_CHARACTERS)\n",
        "X_t, y_t = load_test_set(DATASET_TEST_PATH_COLAB, MAP_CHARACTERS)"
      ],
      "execution_count": 91,
      "outputs": [
        {
          "output_type": "stream",
          "text": [
            "Leyendo 913 imágenes encontradas de abraham_grampa_simpson\n",
            "Leyendo 623 imágenes encontradas de apu_nahasapeemapetilon\n",
            "Leyendo 1342 imágenes encontradas de bart_simpson\n",
            "Leyendo 1193 imágenes encontradas de charles_montgomery_burns\n",
            "Leyendo 986 imágenes encontradas de chief_wiggum\n",
            "Leyendo 469 imágenes encontradas de comic_book_guy\n",
            "Leyendo 457 imágenes encontradas de edna_krabappel\n",
            "Leyendo 2246 imágenes encontradas de homer_simpson\n",
            "Leyendo 498 imágenes encontradas de kent_brockman\n",
            "Leyendo 1206 imágenes encontradas de krusty_the_clown\n",
            "Leyendo 1354 imágenes encontradas de lisa_simpson\n",
            "Leyendo 1291 imágenes encontradas de marge_simpson\n",
            "Leyendo 1079 imágenes encontradas de milhouse_van_houten\n",
            "Leyendo 1452 imágenes encontradas de moe_szyslak\n",
            "Leyendo 1454 imágenes encontradas de ned_flanders\n",
            "Leyendo 358 imágenes encontradas de nelson_muntz\n",
            "Leyendo 1194 imágenes encontradas de principal_skinner\n",
            "Leyendo 877 imágenes encontradas de sideshow_bob\n",
            "Leídas 890 imágenes de test\n"
          ],
          "name": "stdout"
        }
      ]
    },
    {
      "metadata": {
        "colab_type": "text",
        "id": "pBbmz9DMhVhc"
      },
      "cell_type": "markdown",
      "source": [
        "## Entregable\n",
        "\n",
        "Utilizando Convolutional Neural Networks con TensorFlow (ya sea tf.keras, TensorFlow Eager, o TensorFlow tradicional), entrenar un clasificador que sea capaz de reconocer personajes en imágenes de los Simpsons con una accuracy en el dataset de test de **88%**. Redactar un informe analizando varias de las alternativas probadas y los resultados obtenidos.\n",
        "\n",
        "El entregable (en formato .ipynb, aunque puede apoyarse con un archivo pdf) tiene que contener los siguientes elementos:\n",
        "\n",
        "**1 (1.5 puntos): Implementación con una red neuronal clásica**. Implementar primero un modelo feed-forward clásico, sin convoluciones. Mostrar código y  resultados de entrenamiento y accuracy en el test set.\n",
        "\n"
      ]
    },
    {
      "metadata": {
        "id": "zu2H1KqzsNdu",
        "colab_type": "code",
        "colab": {
          "base_uri": "https://localhost:8080/",
          "height": 51
        },
        "outputId": "c6673627-2e7c-4b44-bc5a-f525682250d9"
      },
      "cell_type": "code",
      "source": [
        "print(X.shape)\n",
        "print(X_t.shape)"
      ],
      "execution_count": 92,
      "outputs": [
        {
          "output_type": "stream",
          "text": [
            "(18992, 64, 64, 3)\n",
            "(890, 64, 64, 3)\n"
          ],
          "name": "stdout"
        }
      ]
    },
    {
      "metadata": {
        "id": "n_4L-HYngDje",
        "colab_type": "code",
        "colab": {}
      },
      "cell_type": "code",
      "source": [
        "def plot_history(history):\n",
        "    \n",
        "    # Plot training & validation accuracy values\n",
        "    plt.plot(history.history['acc'])\n",
        "    plt.plot(history.history['val_acc'])\n",
        "    plt.title('Model accuracy')\n",
        "    plt.ylabel('Accuracy')\n",
        "    plt.xlabel('Epoch')\n",
        "    plt.legend(['Train', 'Test'], loc='upper left')\n",
        "    plt.show()\n",
        "\n",
        "    # Plot training & validation loss values\n",
        "    plt.plot(history.history['loss'])\n",
        "    plt.plot(history.history['val_loss'])\n",
        "    plt.title('Model loss')\n",
        "    plt.ylabel('Loss')\n",
        "    plt.xlabel('Epoch')\n",
        "    plt.legend(['Train', 'Test'], loc='upper left')\n",
        "    plt.show()"
      ],
      "execution_count": 0,
      "outputs": []
    },
    {
      "metadata": {
        "id": "Iwq-DPLbqzG6",
        "colab_type": "code",
        "colab": {}
      },
      "cell_type": "code",
      "source": [
        "from __future__ import print_function\n",
        "\n",
        "import keras\n",
        "from keras.datasets import mnist\n",
        "from keras.models import Sequential\n",
        "from keras.layers import Dense, Dropout, Flatten\n",
        "from keras.optimizers import RMSprop\n",
        "from keras import backend as K\n"
      ],
      "execution_count": 0,
      "outputs": []
    },
    {
      "metadata": {
        "id": "7m9YDLS7Ef9r",
        "colab_type": "code",
        "colab": {}
      },
      "cell_type": "code",
      "source": [
        "batch_size = 32\n",
        "num_classes = 18\n",
        "epochs = 20\n",
        "\n"
      ],
      "execution_count": 0,
      "outputs": []
    },
    {
      "metadata": {
        "id": "2HL3OIeUCWQx",
        "colab_type": "code",
        "colab": {
          "base_uri": "https://localhost:8080/",
          "height": 68
        },
        "outputId": "bacadc1e-d687-477e-bca0-8a5213838a8e"
      },
      "cell_type": "code",
      "source": [
        "# the data, split between train and test sets\n",
        "img_rows=64\n",
        "img_cols=64\n",
        "if K.image_data_format() == 'channels_first':\n",
        "    x_train = X.reshape(X.shape[0], 1, img_rows, img_cols)\n",
        "    x_test = X_t.reshape(X_t.shape[0], 1, img_rows, img_cols)\n",
        "    input_shape = (1, img_rows, img_cols)\n",
        "else:\n",
        "    x_train = X.reshape(X.shape[0], img_rows, img_cols,3)\n",
        "    x_test = X_t.reshape(X_t.shape[0], img_rows, img_cols,3)\n",
        "    input_shape = (img_rows, img_cols,3)\n",
        "\n",
        "x_train = x_train.astype('float32')\n",
        "x_test = x_test.astype('float32')\n",
        "x_train /= 255\n",
        "x_test /= 255\n",
        "y_train= y\n",
        "y_test=y_t\n",
        "print('x_train shape:', x_train.shape)\n",
        "print(x_train.shape[0], 'train samples')\n",
        "print(x_test.shape[0], 'test samples')\n",
        "\n",
        "# convert class vectors to binary class matrices\n",
        "y_train = keras.utils.to_categorical(y_train, num_classes)\n",
        "y_test = keras.utils.to_categorical(y_test, num_classes)\n"
      ],
      "execution_count": 96,
      "outputs": [
        {
          "output_type": "stream",
          "text": [
            "x_train shape: (18992, 64, 64, 3)\n",
            "18992 train samples\n",
            "890 test samples\n"
          ],
          "name": "stdout"
        }
      ]
    },
    {
      "metadata": {
        "id": "SmJW2gmtuSOC",
        "colab_type": "code",
        "colab": {
          "base_uri": "https://localhost:8080/",
          "height": 68
        },
        "outputId": "2200bc28-43ef-4115-9eac-c7f32e60807e"
      },
      "cell_type": "code",
      "source": [
        "print(64*64*3)\n",
        "print(input_shape)\n",
        "print(x_test.shape)"
      ],
      "execution_count": 97,
      "outputs": [
        {
          "output_type": "stream",
          "text": [
            "12288\n",
            "(64, 64, 3)\n",
            "(890, 64, 64, 3)\n"
          ],
          "name": "stdout"
        }
      ]
    },
    {
      "metadata": {
        "id": "DsxJ4lINtw4I",
        "colab_type": "code",
        "colab": {
          "base_uri": "https://localhost:8080/",
          "height": 340
        },
        "outputId": "497783a8-ae6f-439d-827e-09841178c5fb"
      },
      "cell_type": "code",
      "source": [
        "model = Sequential()\n",
        "model.add(Dense(3, activation='relu', input_shape=input_shape))\n",
        "model.add(Dropout(0.2))\n",
        "model.add(Dense(512, activation='relu'))\n",
        "model.add(Dropout(0.2))\n",
        "model.add(Flatten())\n",
        "model.add(Dense(num_classes, activation='softmax'))\n",
        "model.summary()"
      ],
      "execution_count": 98,
      "outputs": [
        {
          "output_type": "stream",
          "text": [
            "_________________________________________________________________\n",
            "Layer (type)                 Output Shape              Param #   \n",
            "=================================================================\n",
            "dense_64 (Dense)             (None, 64, 64, 3)         12        \n",
            "_________________________________________________________________\n",
            "dropout_46 (Dropout)         (None, 64, 64, 3)         0         \n",
            "_________________________________________________________________\n",
            "dense_65 (Dense)             (None, 64, 64, 512)       2048      \n",
            "_________________________________________________________________\n",
            "dropout_47 (Dropout)         (None, 64, 64, 512)       0         \n",
            "_________________________________________________________________\n",
            "flatten_9 (Flatten)          (None, 2097152)           0         \n",
            "_________________________________________________________________\n",
            "dense_66 (Dense)             (None, 18)                37748754  \n",
            "=================================================================\n",
            "Total params: 37,750,814\n",
            "Trainable params: 37,750,814\n",
            "Non-trainable params: 0\n",
            "_________________________________________________________________\n"
          ],
          "name": "stdout"
        }
      ]
    },
    {
      "metadata": {
        "id": "jZAcCmK5t0IK",
        "colab_type": "code",
        "colab": {
          "base_uri": "https://localhost:8080/",
          "height": 1466
        },
        "outputId": "9ce4484f-9482-495c-ed92-7bcc194ea4ed"
      },
      "cell_type": "code",
      "source": [
        "model.compile(loss='categorical_crossentropy',\n",
        "              optimizer=RMSprop(),\n",
        "              metrics=['accuracy'])\n",
        "history = model.fit(x_train, y_train,\n",
        "                    batch_size=batch_size,\n",
        "                    epochs=epochs,\n",
        "                    verbose=1,\n",
        "                    validation_data=(x_test, y_test),shuffle=True)\n",
        "\n",
        "score = model.evaluate(x_test, y_test, verbose=0)\n",
        "print('Test loss:', score[0])\n",
        "print('Test accuracy:', score[1])\n",
        "plot_history(history)"
      ],
      "execution_count": 99,
      "outputs": [
        {
          "output_type": "stream",
          "text": [
            "Train on 18992 samples, validate on 890 samples\n",
            "Epoch 1/20\n",
            "18992/18992 [==============================] - 219s 12ms/step - loss: 4.4603 - acc: 0.3718 - val_loss: 1.7693 - val_acc: 0.4989\n",
            "Epoch 2/20\n",
            "18992/18992 [==============================] - 216s 11ms/step - loss: 1.5078 - acc: 0.5785 - val_loss: 1.6404 - val_acc: 0.5292\n",
            "Epoch 3/20\n",
            "18992/18992 [==============================] - 217s 11ms/step - loss: 1.3222 - acc: 0.6325 - val_loss: 1.4097 - val_acc: 0.6022\n",
            "Epoch 4/20\n",
            "18992/18992 [==============================] - 217s 11ms/step - loss: 1.1916 - acc: 0.6705 - val_loss: 1.3522 - val_acc: 0.5831\n",
            "Epoch 5/20\n",
            "18992/18992 [==============================] - 216s 11ms/step - loss: 1.0850 - acc: 0.6993 - val_loss: 1.5002 - val_acc: 0.5449\n",
            "Epoch 6/20\n",
            "18992/18992 [==============================] - 216s 11ms/step - loss: 0.9967 - acc: 0.7269 - val_loss: 1.0815 - val_acc: 0.6798\n",
            "Epoch 7/20\n",
            "18992/18992 [==============================] - 219s 12ms/step - loss: 0.9194 - acc: 0.7434 - val_loss: 1.2121 - val_acc: 0.6213\n",
            "Epoch 8/20\n",
            "18992/18992 [==============================] - 218s 12ms/step - loss: 0.8466 - acc: 0.7645 - val_loss: 1.0844 - val_acc: 0.6629\n",
            "Epoch 9/20\n",
            "18992/18992 [==============================] - 220s 12ms/step - loss: 0.7766 - acc: 0.7856 - val_loss: 1.0582 - val_acc: 0.6787\n",
            "Epoch 10/20\n",
            "18992/18992 [==============================] - 220s 12ms/step - loss: 0.7229 - acc: 0.7983 - val_loss: 0.9411 - val_acc: 0.7281\n",
            "Epoch 11/20\n",
            "18992/18992 [==============================] - 218s 11ms/step - loss: 0.6750 - acc: 0.8147 - val_loss: 1.0258 - val_acc: 0.6843\n",
            "Epoch 12/20\n",
            "18992/18992 [==============================] - 217s 11ms/step - loss: 0.6398 - acc: 0.8221 - val_loss: 0.9049 - val_acc: 0.7191\n",
            "Epoch 13/20\n",
            "18992/18992 [==============================] - 217s 11ms/step - loss: 0.5895 - acc: 0.8360 - val_loss: 1.0458 - val_acc: 0.6787\n",
            "Epoch 14/20\n",
            "18992/18992 [==============================] - 216s 11ms/step - loss: 0.5528 - acc: 0.8454 - val_loss: 0.9036 - val_acc: 0.7191\n",
            "Epoch 15/20\n",
            "18992/18992 [==============================] - 216s 11ms/step - loss: 0.5277 - acc: 0.8538 - val_loss: 0.9972 - val_acc: 0.6966\n",
            "Epoch 16/20\n",
            "18992/18992 [==============================] - 217s 11ms/step - loss: 0.4847 - acc: 0.8638 - val_loss: 0.8859 - val_acc: 0.7337\n",
            "Epoch 17/20\n",
            "18992/18992 [==============================] - 216s 11ms/step - loss: 0.4729 - acc: 0.8690 - val_loss: 0.8269 - val_acc: 0.7573\n",
            "Epoch 18/20\n",
            "18992/18992 [==============================] - 216s 11ms/step - loss: 0.4338 - acc: 0.8786 - val_loss: 0.9646 - val_acc: 0.7090\n",
            "Epoch 19/20\n",
            "18992/18992 [==============================] - 216s 11ms/step - loss: 0.4124 - acc: 0.8823 - val_loss: 0.5820 - val_acc: 0.8258\n",
            "Epoch 20/20\n",
            "18992/18992 [==============================] - 216s 11ms/step - loss: 0.3902 - acc: 0.8915 - val_loss: 0.8263 - val_acc: 0.7584\n",
            "Test loss: 0.8262672248851047\n",
            "Test accuracy: 0.7584269657563627\n"
          ],
          "name": "stdout"
        },
        {
          "output_type": "display_data",
          "data": {
            "image/png": "[encoded data removed]",
            "text/plain": [
              "<Figure size 576x396 with 1 Axes>"
            ]
          },
          "metadata": {
            "tags": []
          }
        },
        {
          "output_type": "display_data",
          "data": {
            "image/png": "[encoded data removed]",
            "text/plain": [
              "<Figure size 576x396 with 1 Axes>"
            ]
          },
          "metadata": {
            "tags": []
          }
        }
      ]
    },
    {
      "metadata": {
        "id": "B4GD0ck6q0SE",
        "colab_type": "text"
      },
      "cell_type": "markdown",
      "source": [
        "**2 (4.5 puntos): Implementación con CNNs**. Implementar una arquitectura CNN que consiga un 88% de accuracy en el test set. Mostrar código y resultados de entrenamiento y accuracy en el test set. Explicar brevemente la arquitectura utilizada y las pruebas realizadas.\n",
        "\n"
      ]
    },
    {
      "metadata": {
        "id": "ZrSD_W_WcQbX",
        "colab_type": "text"
      },
      "cell_type": "markdown",
      "source": [
        "# Implementacion con CNN"
      ]
    },
    {
      "metadata": {
        "id": "h2uOAt1Vu_kd",
        "colab_type": "code",
        "colab": {}
      },
      "cell_type": "code",
      "source": [
        "from keras.models import Sequential\n",
        "from keras.layers import Conv2D\n",
        "from keras.layers import MaxPooling2D\n",
        "from keras.layers import Flatten\n",
        "from keras.layers import Dense\n",
        "from keras.preprocessing.image import ImageDataGenerator\n",
        "from timeit import default_timer as timer\n",
        "from keras.preprocessing import image\n",
        "import numpy as np\n",
        "import os\n",
        "image_height = 64\n",
        "image_width = 64"
      ],
      "execution_count": 0,
      "outputs": []
    },
    {
      "metadata": {
        "id": "FETKEBIS8aI7",
        "colab_type": "code",
        "colab": {
          "base_uri": "https://localhost:8080/",
          "height": 340
        },
        "outputId": "9f4fd443-064d-40f3-888b-fa25087ac479"
      },
      "cell_type": "code",
      "source": [
        "# Cargamos los datos. Si no estás trabajando en colab, cambia los paths por\n",
        "# los de los ficheros donde hayas descargado los datos.\n",
        "DATASET_TRAIN_PATH_COLAB = \"/root/.keras/datasets/simpsons\"\n",
        "DATASET_TEST_PATH_COLAB = \"/root/.keras/datasets/simpsons_testset\"\n",
        "\n",
        "X, y = load_train_set(DATASET_TRAIN_PATH_COLAB, MAP_CHARACTERS)\n",
        "X_t, y_t = load_test_set(DATASET_TEST_PATH_COLAB, MAP_CHARACTERS)"
      ],
      "execution_count": 150,
      "outputs": [
        {
          "output_type": "stream",
          "text": [
            "Leyendo 913 imágenes encontradas de abraham_grampa_simpson\n",
            "Leyendo 623 imágenes encontradas de apu_nahasapeemapetilon\n",
            "Leyendo 1342 imágenes encontradas de bart_simpson\n",
            "Leyendo 1193 imágenes encontradas de charles_montgomery_burns\n",
            "Leyendo 986 imágenes encontradas de chief_wiggum\n",
            "Leyendo 469 imágenes encontradas de comic_book_guy\n",
            "Leyendo 457 imágenes encontradas de edna_krabappel\n",
            "Leyendo 2246 imágenes encontradas de homer_simpson\n",
            "Leyendo 498 imágenes encontradas de kent_brockman\n",
            "Leyendo 1206 imágenes encontradas de krusty_the_clown\n",
            "Leyendo 1354 imágenes encontradas de lisa_simpson\n",
            "Leyendo 1291 imágenes encontradas de marge_simpson\n",
            "Leyendo 1079 imágenes encontradas de milhouse_van_houten\n",
            "Leyendo 1452 imágenes encontradas de moe_szyslak\n",
            "Leyendo 1454 imágenes encontradas de ned_flanders\n",
            "Leyendo 358 imágenes encontradas de nelson_muntz\n",
            "Leyendo 1194 imágenes encontradas de principal_skinner\n",
            "Leyendo 877 imágenes encontradas de sideshow_bob\n",
            "Leídas 890 imágenes de test\n"
          ],
          "name": "stdout"
        }
      ]
    },
    {
      "metadata": {
        "id": "zjmOy024A6SB",
        "colab_type": "code",
        "colab": {
          "base_uri": "https://localhost:8080/",
          "height": 68
        },
        "outputId": "cc9e33fd-a041-4d4f-81c0-3dc6a5e25ca0"
      },
      "cell_type": "code",
      "source": [
        "from __future__ import print_function\n",
        "import keras\n",
        "from keras.datasets import mnist\n",
        "from keras.models import Sequential\n",
        "from keras.layers import Dense, Dropout, Flatten\n",
        "from keras.layers import Conv2D, MaxPooling2D\n",
        "from keras import backend as K\n",
        "\n",
        "batch_size = 128\n",
        "num_classes = 18\n",
        "epochs = 12\n",
        "\n",
        "img_rows=64\n",
        "img_cols=64\n",
        "if K.image_data_format() == 'channels_first':\n",
        "    x_train = X.reshape(X.shape[0], 3, img_rows, img_cols)\n",
        "    x_test = X_t.reshape(X_t.shape[0],3, img_rows, img_cols)\n",
        "    input_shape = (1, img_rows, img_cols)\n",
        "else:\n",
        "    x_train = X.reshape(X.shape[0], img_rows, img_cols,3)\n",
        "    x_test = X_t.reshape(X_t.shape[0], img_rows, img_cols,3)\n",
        "    input_shape = (img_rows, img_cols,3)\n",
        "\n",
        "x_train = x_train.astype('float32')\n",
        "x_test = x_test.astype('float32')\n",
        "x_train /= 255\n",
        "x_test /= 255\n",
        "y_train= y\n",
        "y_test=y_t\n",
        "print('x_train shape:', x_train.shape)\n",
        "print(x_train.shape[0], 'train samples')\n",
        "print(x_test.shape[0], 'test samples')\n",
        "\n",
        "# convert class vectors to binary class matrices\n",
        "y_train = keras.utils.to_categorical(y_train, num_classes)\n",
        "y_test = keras.utils.to_categorical(y_test, num_classes)\n",
        "\n",
        "\n",
        "input_shape=(64,64,3)\n",
        "\n",
        "\n",
        "\n",
        "\n",
        "\n"
      ],
      "execution_count": 166,
      "outputs": [
        {
          "output_type": "stream",
          "text": [
            "x_train shape: (18992, 3, 64, 64)\n",
            "18992 train samples\n",
            "890 test samples\n"
          ],
          "name": "stdout"
        }
      ]
    },
    {
      "metadata": {
        "id": "kishhiUPEZdc",
        "colab_type": "code",
        "colab": {
          "base_uri": "https://localhost:8080/",
          "height": 34
        },
        "outputId": "b2e06a1a-636e-4d47-9a6e-c69dedb1e521"
      },
      "cell_type": "code",
      "source": [
        "x_train.shape"
      ],
      "execution_count": 170,
      "outputs": [
        {
          "output_type": "execute_result",
          "data": {
            "text/plain": [
              "(18992, 3, 64, 64)"
            ]
          },
          "metadata": {
            "tags": []
          },
          "execution_count": 170
        }
      ]
    },
    {
      "metadata": {
        "id": "mTjxYRo3EeTU",
        "colab_type": "code",
        "colab": {
          "base_uri": "https://localhost:8080/",
          "height": 34
        },
        "outputId": "cc4e6948-710e-48ff-c59b-d1ee1938751f"
      },
      "cell_type": "code",
      "source": [
        "x_test.shape"
      ],
      "execution_count": 171,
      "outputs": [
        {
          "output_type": "execute_result",
          "data": {
            "text/plain": [
              "(890, 3, 64, 64)"
            ]
          },
          "metadata": {
            "tags": []
          },
          "execution_count": 171
        }
      ]
    },
    {
      "metadata": {
        "id": "bjmNyihvCPsn",
        "colab_type": "code",
        "colab": {}
      },
      "cell_type": "code",
      "source": [
        "from keras.preprocessing.image import ImageDataGenerator, array_to_img, img_to_array, load_img\n",
        "from keras.models import Sequential\n",
        "from keras.layers import Conv2D, MaxPooling2D\n",
        "from keras.layers import Activation, Dropout, Flatten, Dense\n",
        "from keras import backend as K\n",
        "import os\n",
        "import sys\n",
        "import tarfile\n",
        "import numpy as np\n",
        "img_width, img_height = 64, 64\n",
        "if K.image_data_format() == 'channels_first':\n",
        "    input_shape = (3, img_width, img_height)\n",
        "else:\n",
        "    input_shape = (img_width, img_height, 3)\n",
        "\n",
        "model = Sequential()\n",
        "model.add(Conv2D(32, (5, 5), input_shape=input_shape))\n",
        "model.add(Activation('relu'))\n",
        "model.add(MaxPooling2D(pool_size=(2, 2)))\n",
        "\n",
        "model.add(Conv2D(64, (3, 3)))\n",
        "model.add(Activation('relu'))\n",
        "model.add(MaxPooling2D(pool_size=(2, 2)))\n",
        "\n",
        "model.add(Conv2D(128, (3, 3)))\n",
        "model.add(Activation('relu'))\n",
        "model.add(MaxPooling2D(pool_size=(2, 2)))\n",
        "\n",
        "model.add(Flatten())\n",
        "model.add(Dense(128))\n",
        "model.add(Activation('relu'))\n",
        "model.add(Dropout(0.5))\n",
        "model.add(Dense(64))\n",
        "model.add(Activation('relu'))\n",
        "model.add(Dropout(0.5))\n",
        "model.add(Dense(18))\n",
        "model.add(Activation('softmax'))\n",
        "\n",
        "model.compile(loss='categorical_crossentropy',\n",
        "              optimizer='adam',\n",
        "              metrics=['accuracy'])"
      ],
      "execution_count": 0,
      "outputs": []
    },
    {
      "metadata": {
        "id": "JRZ91OUkGH_W",
        "colab_type": "code",
        "colab": {
          "base_uri": "https://localhost:8080/",
          "height": 232
        },
        "outputId": "b96d5e8c-fbc8-4625-a013-8dfb1a9841ef"
      },
      "cell_type": "code",
      "source": [
        "\n",
        "from keras.preprocessing.image import ImageDataGenerator\n",
        "\n",
        "image_gen = ImageDataGenerator(rotation_range=15,\n",
        "                               width_shift_range=0.1,\n",
        "                               height_shift_range=0.1,\n",
        "                               shear_range=0.01,\n",
        "                               zoom_range=[0.9, 1.25],\n",
        "                               horizontal_flip=True,\n",
        "                               vertical_flip=False,\n",
        "                               fill_mode='reflect',\n",
        "                               data_format='channels_last',\n",
        "                               brightness_range=[0.5, 1.5])\n",
        "\n",
        "\n",
        "def create_aug_gen(in_gen):\n",
        "\n",
        "    for in_x, in_y in in_gen:\n",
        "        g_x = image_gen.flow(255*in_x, in_y,\n",
        "                             batch_size=in_x.shape[0])\n",
        "        x, y = next(g_x)\n",
        "\n",
        "        yield x/255.0, y\n",
        "\n",
        "train_gen = \n",
        "cur_gen = create_aug_gen(train_gen)\n",
        "t_x, t_y = next(cur_gen)\n",
        "print('x', t_x.shape, t_x.dtype, t_x.min(), t_x.max())\n",
        "print('y', t_y.shape, t_y.dtype, t_y.min(), t_y.max())"
      ],
      "execution_count": 189,
      "outputs": [
        {
          "output_type": "error",
          "ename": "NameError",
          "evalue": "ignored",
          "traceback": [
            "\u001b[0;31m---------------------------------------------------------------------------\u001b[0m",
            "\u001b[0;31mNameError\u001b[0m                                 Traceback (most recent call last)",
            "\u001b[0;32m<ipython-input-189-ba6f324eb163>\u001b[0m in \u001b[0;36m<module>\u001b[0;34m()\u001b[0m\n\u001b[1;32m     23\u001b[0m         \u001b[0;32myield\u001b[0m \u001b[0mx\u001b[0m\u001b[0;34m/\u001b[0m\u001b[0;36m255.0\u001b[0m\u001b[0;34m,\u001b[0m \u001b[0my\u001b[0m\u001b[0;34m\u001b[0m\u001b[0;34m\u001b[0m\u001b[0m\n\u001b[1;32m     24\u001b[0m \u001b[0;34m\u001b[0m\u001b[0m\n\u001b[0;32m---> 25\u001b[0;31m \u001b[0mtrain_gen\u001b[0m \u001b[0;34m=\u001b[0m \u001b[0mgenerator\u001b[0m\u001b[0;34m(\u001b[0m\u001b[0mdata\u001b[0m\u001b[0;34m)\u001b[0m\u001b[0;34m\u001b[0m\u001b[0;34m\u001b[0m\u001b[0m\n\u001b[0m\u001b[1;32m     26\u001b[0m \u001b[0mcur_gen\u001b[0m \u001b[0;34m=\u001b[0m \u001b[0mcreate_aug_gen\u001b[0m\u001b[0;34m(\u001b[0m\u001b[0mtrain_gen\u001b[0m\u001b[0;34m)\u001b[0m\u001b[0;34m\u001b[0m\u001b[0;34m\u001b[0m\u001b[0m\n\u001b[1;32m     27\u001b[0m \u001b[0mt_x\u001b[0m\u001b[0;34m,\u001b[0m \u001b[0mt_y\u001b[0m \u001b[0;34m=\u001b[0m \u001b[0mnext\u001b[0m\u001b[0;34m(\u001b[0m\u001b[0mcur_gen\u001b[0m\u001b[0;34m)\u001b[0m\u001b[0;34m\u001b[0m\u001b[0;34m\u001b[0m\u001b[0m\n",
            "\u001b[0;31mNameError\u001b[0m: name 'generator' is not defined"
          ]
        }
      ]
    },
    {
      "metadata": {
        "id": "mf4566QAvB7V",
        "colab_type": "code",
        "colab": {
          "base_uri": "https://localhost:8080/",
          "height": 1850
        },
        "outputId": "ff7eeb39-524a-4625-fb9b-5173a4ead634"
      },
      "cell_type": "code",
      "source": [
        "# Initialising the CNN\n",
        "predator = Sequential()\n",
        "# Step 1 - Convolution\n",
        "predator.add(Conv2D(64, (3, 3), activation=\"relu\", input_shape=(image_height, image_width, 3)))\n",
        "# Step 2 - Pooling\n",
        "predator.add(MaxPooling2D(pool_size = (2, 2)))\n",
        "# Adding a second convolutional layer\n",
        "predator.add(Conv2D(128, (3, 3), activation=\"relu\"))\n",
        "predator.add(MaxPooling2D(pool_size = (2, 2)))\n",
        "# Adding a third convolutional layer\n",
        "predator.add(Conv2D(256, (3, 3), activation=\"relu\"))\n",
        "predator.add(MaxPooling2D(pool_size = (2, 2)))\n",
        "# Adding a fourth convolutional layer\n",
        "predator.add(Conv2D(128, (3, 3), activation=\"relu\"))\n",
        "predator.add(MaxPooling2D(pool_size = (2, 2)))\n",
        "# Adding a fifth convolutional layer\n",
        "predator.add(Conv2D(64, (3, 3), activation=\"relu\"))\n",
        "predator.add(MaxPooling2D(pool_size = (2, 2)))\n",
        "# Step 3 - Flattening\n",
        "predator.add(Flatten())    #flattens the 3D image array to a single row array\n",
        "# Step 4 - Full connection\n",
        "predator.add(Dense(units=18, activation=\"relu\"))\n",
        "predator.add(Dense(units=18, activation=\"softmax\"))   #output layer with 10 neurons.. each corresponding to a character\n",
        "# Compiling the CNN\n",
        "predator.compile(optimizer = 'adam', loss = 'categorical_crossentropy', metrics = ['accuracy'])"
      ],
      "execution_count": 187,
      "outputs": [
        {
          "output_type": "error",
          "ename": "ValueError",
          "evalue": "ignored",
          "traceback": [
            "\u001b[0;31m---------------------------------------------------------------------------\u001b[0m",
            "\u001b[0;31mInvalidArgumentError\u001b[0m                      Traceback (most recent call last)",
            "\u001b[0;32m/usr/local/lib/python3.6/dist-packages/tensorflow/python/framework/ops.py\u001b[0m in \u001b[0;36m_create_c_op\u001b[0;34m(graph, node_def, inputs, control_inputs)\u001b[0m\n\u001b[1;32m   1658\u001b[0m   \u001b[0;32mtry\u001b[0m\u001b[0;34m:\u001b[0m\u001b[0;34m\u001b[0m\u001b[0;34m\u001b[0m\u001b[0m\n\u001b[0;32m-> 1659\u001b[0;31m     \u001b[0mc_op\u001b[0m \u001b[0;34m=\u001b[0m \u001b[0mc_api\u001b[0m\u001b[0;34m.\u001b[0m\u001b[0mTF_FinishOperation\u001b[0m\u001b[0;34m(\u001b[0m\u001b[0mop_desc\u001b[0m\u001b[0;34m)\u001b[0m\u001b[0;34m\u001b[0m\u001b[0;34m\u001b[0m\u001b[0m\n\u001b[0m\u001b[1;32m   1660\u001b[0m   \u001b[0;32mexcept\u001b[0m \u001b[0merrors\u001b[0m\u001b[0;34m.\u001b[0m\u001b[0mInvalidArgumentError\u001b[0m \u001b[0;32mas\u001b[0m \u001b[0me\u001b[0m\u001b[0;34m:\u001b[0m\u001b[0;34m\u001b[0m\u001b[0;34m\u001b[0m\u001b[0m\n",
            "\u001b[0;31mInvalidArgumentError\u001b[0m: Negative dimension size caused by subtracting 2 from 1 for 'max_pooling2d_20/MaxPool' (op: 'MaxPool') with input shapes: [?,64,62,1].",
            "\nDuring handling of the above exception, another exception occurred:\n",
            "\u001b[0;31mValueError\u001b[0m                                Traceback (most recent call last)",
            "\u001b[0;32m<ipython-input-187-71bffbe45267>\u001b[0m in \u001b[0;36m<module>\u001b[0;34m()\u001b[0m\n\u001b[1;32m      3\u001b[0m \u001b[0mpredator\u001b[0m\u001b[0;34m.\u001b[0m\u001b[0madd\u001b[0m\u001b[0;34m(\u001b[0m\u001b[0mConv2D\u001b[0m\u001b[0;34m(\u001b[0m\u001b[0;36m64\u001b[0m\u001b[0;34m,\u001b[0m \u001b[0;34m(\u001b[0m\u001b[0;36m3\u001b[0m\u001b[0;34m,\u001b[0m \u001b[0;36m3\u001b[0m\u001b[0;34m)\u001b[0m\u001b[0;34m,\u001b[0m \u001b[0mactivation\u001b[0m\u001b[0;34m=\u001b[0m\u001b[0;34m\"relu\"\u001b[0m\u001b[0;34m,\u001b[0m \u001b[0minput_shape\u001b[0m\u001b[0;34m=\u001b[0m\u001b[0;34m(\u001b[0m\u001b[0mimage_height\u001b[0m\u001b[0;34m,\u001b[0m \u001b[0mimage_width\u001b[0m\u001b[0;34m,\u001b[0m \u001b[0;36m3\u001b[0m\u001b[0;34m)\u001b[0m\u001b[0;34m)\u001b[0m\u001b[0;34m)\u001b[0m\u001b[0;34m\u001b[0m\u001b[0;34m\u001b[0m\u001b[0m\n\u001b[1;32m      4\u001b[0m \u001b[0;31m# Step 2 - Pooling\u001b[0m\u001b[0;34m\u001b[0m\u001b[0;34m\u001b[0m\u001b[0;34m\u001b[0m\u001b[0m\n\u001b[0;32m----> 5\u001b[0;31m \u001b[0mpredator\u001b[0m\u001b[0;34m.\u001b[0m\u001b[0madd\u001b[0m\u001b[0;34m(\u001b[0m\u001b[0mMaxPooling2D\u001b[0m\u001b[0;34m(\u001b[0m\u001b[0mpool_size\u001b[0m \u001b[0;34m=\u001b[0m \u001b[0;34m(\u001b[0m\u001b[0;36m2\u001b[0m\u001b[0;34m,\u001b[0m \u001b[0;36m2\u001b[0m\u001b[0;34m)\u001b[0m\u001b[0;34m)\u001b[0m\u001b[0;34m)\u001b[0m\u001b[0;34m\u001b[0m\u001b[0;34m\u001b[0m\u001b[0m\n\u001b[0m\u001b[1;32m      6\u001b[0m \u001b[0;31m# Adding a second convolutional layer\u001b[0m\u001b[0;34m\u001b[0m\u001b[0;34m\u001b[0m\u001b[0;34m\u001b[0m\u001b[0m\n\u001b[1;32m      7\u001b[0m \u001b[0mpredator\u001b[0m\u001b[0;34m.\u001b[0m\u001b[0madd\u001b[0m\u001b[0;34m(\u001b[0m\u001b[0mConv2D\u001b[0m\u001b[0;34m(\u001b[0m\u001b[0;36m128\u001b[0m\u001b[0;34m,\u001b[0m \u001b[0;34m(\u001b[0m\u001b[0;36m3\u001b[0m\u001b[0;34m,\u001b[0m \u001b[0;36m3\u001b[0m\u001b[0;34m)\u001b[0m\u001b[0;34m,\u001b[0m \u001b[0mactivation\u001b[0m\u001b[0;34m=\u001b[0m\u001b[0;34m\"relu\"\u001b[0m\u001b[0;34m)\u001b[0m\u001b[0;34m)\u001b[0m\u001b[0;34m\u001b[0m\u001b[0;34m\u001b[0m\u001b[0m\n",
            "\u001b[0;32m/usr/local/lib/python3.6/dist-packages/keras/engine/sequential.py\u001b[0m in \u001b[0;36madd\u001b[0;34m(self, layer)\u001b[0m\n\u001b[1;32m    179\u001b[0m                 \u001b[0mself\u001b[0m\u001b[0;34m.\u001b[0m\u001b[0minputs\u001b[0m \u001b[0;34m=\u001b[0m \u001b[0mnetwork\u001b[0m\u001b[0;34m.\u001b[0m\u001b[0mget_source_inputs\u001b[0m\u001b[0;34m(\u001b[0m\u001b[0mself\u001b[0m\u001b[0;34m.\u001b[0m\u001b[0moutputs\u001b[0m\u001b[0;34m[\u001b[0m\u001b[0;36m0\u001b[0m\u001b[0;34m]\u001b[0m\u001b[0;34m)\u001b[0m\u001b[0;34m\u001b[0m\u001b[0;34m\u001b[0m\u001b[0m\n\u001b[1;32m    180\u001b[0m         \u001b[0;32melif\u001b[0m \u001b[0mself\u001b[0m\u001b[0;34m.\u001b[0m\u001b[0moutputs\u001b[0m\u001b[0;34m:\u001b[0m\u001b[0;34m\u001b[0m\u001b[0;34m\u001b[0m\u001b[0m\n\u001b[0;32m--> 181\u001b[0;31m             \u001b[0moutput_tensor\u001b[0m \u001b[0;34m=\u001b[0m \u001b[0mlayer\u001b[0m\u001b[0;34m(\u001b[0m\u001b[0mself\u001b[0m\u001b[0;34m.\u001b[0m\u001b[0moutputs\u001b[0m\u001b[0;34m[\u001b[0m\u001b[0;36m0\u001b[0m\u001b[0;34m]\u001b[0m\u001b[0;34m)\u001b[0m\u001b[0;34m\u001b[0m\u001b[0;34m\u001b[0m\u001b[0m\n\u001b[0m\u001b[1;32m    182\u001b[0m             \u001b[0;32mif\u001b[0m \u001b[0misinstance\u001b[0m\u001b[0;34m(\u001b[0m\u001b[0moutput_tensor\u001b[0m\u001b[0;34m,\u001b[0m \u001b[0mlist\u001b[0m\u001b[0;34m)\u001b[0m\u001b[0;34m:\u001b[0m\u001b[0;34m\u001b[0m\u001b[0;34m\u001b[0m\u001b[0m\n\u001b[1;32m    183\u001b[0m                 raise TypeError('All layers in a Sequential model '\n",
            "\u001b[0;32m/usr/local/lib/python3.6/dist-packages/keras/engine/base_layer.py\u001b[0m in \u001b[0;36m__call__\u001b[0;34m(self, inputs, **kwargs)\u001b[0m\n\u001b[1;32m    455\u001b[0m             \u001b[0;31m# Actually call the layer,\u001b[0m\u001b[0;34m\u001b[0m\u001b[0;34m\u001b[0m\u001b[0;34m\u001b[0m\u001b[0m\n\u001b[1;32m    456\u001b[0m             \u001b[0;31m# collecting output(s), mask(s), and shape(s).\u001b[0m\u001b[0;34m\u001b[0m\u001b[0;34m\u001b[0m\u001b[0;34m\u001b[0m\u001b[0m\n\u001b[0;32m--> 457\u001b[0;31m             \u001b[0moutput\u001b[0m \u001b[0;34m=\u001b[0m \u001b[0mself\u001b[0m\u001b[0;34m.\u001b[0m\u001b[0mcall\u001b[0m\u001b[0;34m(\u001b[0m\u001b[0minputs\u001b[0m\u001b[0;34m,\u001b[0m \u001b[0;34m**\u001b[0m\u001b[0mkwargs\u001b[0m\u001b[0;34m)\u001b[0m\u001b[0;34m\u001b[0m\u001b[0;34m\u001b[0m\u001b[0m\n\u001b[0m\u001b[1;32m    458\u001b[0m             \u001b[0moutput_mask\u001b[0m \u001b[0;34m=\u001b[0m \u001b[0mself\u001b[0m\u001b[0;34m.\u001b[0m\u001b[0mcompute_mask\u001b[0m\u001b[0;34m(\u001b[0m\u001b[0minputs\u001b[0m\u001b[0;34m,\u001b[0m \u001b[0mprevious_mask\u001b[0m\u001b[0;34m)\u001b[0m\u001b[0;34m\u001b[0m\u001b[0;34m\u001b[0m\u001b[0m\n\u001b[1;32m    459\u001b[0m \u001b[0;34m\u001b[0m\u001b[0m\n",
            "\u001b[0;32m/usr/local/lib/python3.6/dist-packages/keras/layers/pooling.py\u001b[0m in \u001b[0;36mcall\u001b[0;34m(self, inputs)\u001b[0m\n\u001b[1;32m    203\u001b[0m                                         \u001b[0mstrides\u001b[0m\u001b[0;34m=\u001b[0m\u001b[0mself\u001b[0m\u001b[0;34m.\u001b[0m\u001b[0mstrides\u001b[0m\u001b[0;34m,\u001b[0m\u001b[0;34m\u001b[0m\u001b[0;34m\u001b[0m\u001b[0m\n\u001b[1;32m    204\u001b[0m                                         \u001b[0mpadding\u001b[0m\u001b[0;34m=\u001b[0m\u001b[0mself\u001b[0m\u001b[0;34m.\u001b[0m\u001b[0mpadding\u001b[0m\u001b[0;34m,\u001b[0m\u001b[0;34m\u001b[0m\u001b[0;34m\u001b[0m\u001b[0m\n\u001b[0;32m--> 205\u001b[0;31m                                         data_format=self.data_format)\n\u001b[0m\u001b[1;32m    206\u001b[0m         \u001b[0;32mreturn\u001b[0m \u001b[0moutput\u001b[0m\u001b[0;34m\u001b[0m\u001b[0;34m\u001b[0m\u001b[0m\n\u001b[1;32m    207\u001b[0m \u001b[0;34m\u001b[0m\u001b[0m\n",
            "\u001b[0;32m/usr/local/lib/python3.6/dist-packages/keras/layers/pooling.py\u001b[0m in \u001b[0;36m_pooling_function\u001b[0;34m(self, inputs, pool_size, strides, padding, data_format)\u001b[0m\n\u001b[1;32m    266\u001b[0m         output = K.pool2d(inputs, pool_size, strides,\n\u001b[1;32m    267\u001b[0m                           \u001b[0mpadding\u001b[0m\u001b[0;34m,\u001b[0m \u001b[0mdata_format\u001b[0m\u001b[0;34m,\u001b[0m\u001b[0;34m\u001b[0m\u001b[0;34m\u001b[0m\u001b[0m\n\u001b[0;32m--> 268\u001b[0;31m                           pool_mode='max')\n\u001b[0m\u001b[1;32m    269\u001b[0m         \u001b[0;32mreturn\u001b[0m \u001b[0moutput\u001b[0m\u001b[0;34m\u001b[0m\u001b[0;34m\u001b[0m\u001b[0m\n\u001b[1;32m    270\u001b[0m \u001b[0;34m\u001b[0m\u001b[0m\n",
            "\u001b[0;32m/usr/local/lib/python3.6/dist-packages/keras/backend/tensorflow_backend.py\u001b[0m in \u001b[0;36mpool2d\u001b[0;34m(x, pool_size, strides, padding, data_format, pool_mode)\u001b[0m\n\u001b[1;32m   3976\u001b[0m         x = tf.nn.max_pool(x, pool_size, strides,\n\u001b[1;32m   3977\u001b[0m                            \u001b[0mpadding\u001b[0m\u001b[0;34m=\u001b[0m\u001b[0mpadding\u001b[0m\u001b[0;34m,\u001b[0m\u001b[0;34m\u001b[0m\u001b[0;34m\u001b[0m\u001b[0m\n\u001b[0;32m-> 3978\u001b[0;31m                            data_format=tf_data_format)\n\u001b[0m\u001b[1;32m   3979\u001b[0m     \u001b[0;32melif\u001b[0m \u001b[0mpool_mode\u001b[0m \u001b[0;34m==\u001b[0m \u001b[0;34m'avg'\u001b[0m\u001b[0;34m:\u001b[0m\u001b[0;34m\u001b[0m\u001b[0;34m\u001b[0m\u001b[0m\n\u001b[1;32m   3980\u001b[0m         x = tf.nn.avg_pool(x, pool_size, strides,\n",
            "\u001b[0;32m/usr/local/lib/python3.6/dist-packages/tensorflow/python/ops/nn_ops.py\u001b[0m in \u001b[0;36mmax_pool\u001b[0;34m(value, ksize, strides, padding, data_format, name)\u001b[0m\n\u001b[1;32m   2746\u001b[0m         \u001b[0mpadding\u001b[0m\u001b[0;34m=\u001b[0m\u001b[0mpadding\u001b[0m\u001b[0;34m,\u001b[0m\u001b[0;34m\u001b[0m\u001b[0;34m\u001b[0m\u001b[0m\n\u001b[1;32m   2747\u001b[0m         \u001b[0mdata_format\u001b[0m\u001b[0;34m=\u001b[0m\u001b[0mdata_format\u001b[0m\u001b[0;34m,\u001b[0m\u001b[0;34m\u001b[0m\u001b[0;34m\u001b[0m\u001b[0m\n\u001b[0;32m-> 2748\u001b[0;31m         name=name)\n\u001b[0m\u001b[1;32m   2749\u001b[0m \u001b[0;34m\u001b[0m\u001b[0m\n\u001b[1;32m   2750\u001b[0m \u001b[0;34m\u001b[0m\u001b[0m\n",
            "\u001b[0;32m/usr/local/lib/python3.6/dist-packages/tensorflow/python/ops/gen_nn_ops.py\u001b[0m in \u001b[0;36mmax_pool\u001b[0;34m(input, ksize, strides, padding, data_format, name)\u001b[0m\n\u001b[1;32m   5135\u001b[0m   _, _, _op = _op_def_lib._apply_op_helper(\n\u001b[1;32m   5136\u001b[0m         \u001b[0;34m\"MaxPool\"\u001b[0m\u001b[0;34m,\u001b[0m \u001b[0minput\u001b[0m\u001b[0;34m=\u001b[0m\u001b[0minput\u001b[0m\u001b[0;34m,\u001b[0m \u001b[0mksize\u001b[0m\u001b[0;34m=\u001b[0m\u001b[0mksize\u001b[0m\u001b[0;34m,\u001b[0m \u001b[0mstrides\u001b[0m\u001b[0;34m=\u001b[0m\u001b[0mstrides\u001b[0m\u001b[0;34m,\u001b[0m \u001b[0mpadding\u001b[0m\u001b[0;34m=\u001b[0m\u001b[0mpadding\u001b[0m\u001b[0;34m,\u001b[0m\u001b[0;34m\u001b[0m\u001b[0;34m\u001b[0m\u001b[0m\n\u001b[0;32m-> 5137\u001b[0;31m                    data_format=data_format, name=name)\n\u001b[0m\u001b[1;32m   5138\u001b[0m   \u001b[0m_result\u001b[0m \u001b[0;34m=\u001b[0m \u001b[0m_op\u001b[0m\u001b[0;34m.\u001b[0m\u001b[0moutputs\u001b[0m\u001b[0;34m[\u001b[0m\u001b[0;34m:\u001b[0m\u001b[0;34m]\u001b[0m\u001b[0;34m\u001b[0m\u001b[0;34m\u001b[0m\u001b[0m\n\u001b[1;32m   5139\u001b[0m   \u001b[0m_inputs_flat\u001b[0m \u001b[0;34m=\u001b[0m \u001b[0m_op\u001b[0m\u001b[0;34m.\u001b[0m\u001b[0minputs\u001b[0m\u001b[0;34m\u001b[0m\u001b[0;34m\u001b[0m\u001b[0m\n",
            "\u001b[0;32m/usr/local/lib/python3.6/dist-packages/tensorflow/python/framework/op_def_library.py\u001b[0m in \u001b[0;36m_apply_op_helper\u001b[0;34m(self, op_type_name, name, **keywords)\u001b[0m\n\u001b[1;32m    786\u001b[0m         op = g.create_op(op_type_name, inputs, output_types, name=scope,\n\u001b[1;32m    787\u001b[0m                          \u001b[0minput_types\u001b[0m\u001b[0;34m=\u001b[0m\u001b[0minput_types\u001b[0m\u001b[0;34m,\u001b[0m \u001b[0mattrs\u001b[0m\u001b[0;34m=\u001b[0m\u001b[0mattr_protos\u001b[0m\u001b[0;34m,\u001b[0m\u001b[0;34m\u001b[0m\u001b[0;34m\u001b[0m\u001b[0m\n\u001b[0;32m--> 788\u001b[0;31m                          op_def=op_def)\n\u001b[0m\u001b[1;32m    789\u001b[0m       \u001b[0;32mreturn\u001b[0m \u001b[0moutput_structure\u001b[0m\u001b[0;34m,\u001b[0m \u001b[0mop_def\u001b[0m\u001b[0;34m.\u001b[0m\u001b[0mis_stateful\u001b[0m\u001b[0;34m,\u001b[0m \u001b[0mop\u001b[0m\u001b[0;34m\u001b[0m\u001b[0;34m\u001b[0m\u001b[0m\n\u001b[1;32m    790\u001b[0m \u001b[0;34m\u001b[0m\u001b[0m\n",
            "\u001b[0;32m/usr/local/lib/python3.6/dist-packages/tensorflow/python/util/deprecation.py\u001b[0m in \u001b[0;36mnew_func\u001b[0;34m(*args, **kwargs)\u001b[0m\n\u001b[1;32m    505\u001b[0m                 \u001b[0;34m'in a future version'\u001b[0m \u001b[0;32mif\u001b[0m \u001b[0mdate\u001b[0m \u001b[0;32mis\u001b[0m \u001b[0;32mNone\u001b[0m \u001b[0;32melse\u001b[0m \u001b[0;34m(\u001b[0m\u001b[0;34m'after %s'\u001b[0m \u001b[0;34m%\u001b[0m \u001b[0mdate\u001b[0m\u001b[0;34m)\u001b[0m\u001b[0;34m,\u001b[0m\u001b[0;34m\u001b[0m\u001b[0;34m\u001b[0m\u001b[0m\n\u001b[1;32m    506\u001b[0m                 instructions)\n\u001b[0;32m--> 507\u001b[0;31m       \u001b[0;32mreturn\u001b[0m \u001b[0mfunc\u001b[0m\u001b[0;34m(\u001b[0m\u001b[0;34m*\u001b[0m\u001b[0margs\u001b[0m\u001b[0;34m,\u001b[0m \u001b[0;34m**\u001b[0m\u001b[0mkwargs\u001b[0m\u001b[0;34m)\u001b[0m\u001b[0;34m\u001b[0m\u001b[0;34m\u001b[0m\u001b[0m\n\u001b[0m\u001b[1;32m    508\u001b[0m \u001b[0;34m\u001b[0m\u001b[0m\n\u001b[1;32m    509\u001b[0m     doc = _add_deprecated_arg_notice_to_docstring(\n",
            "\u001b[0;32m/usr/local/lib/python3.6/dist-packages/tensorflow/python/framework/ops.py\u001b[0m in \u001b[0;36mcreate_op\u001b[0;34m(***failed resolving arguments***)\u001b[0m\n\u001b[1;32m   3298\u001b[0m           \u001b[0minput_types\u001b[0m\u001b[0;34m=\u001b[0m\u001b[0minput_types\u001b[0m\u001b[0;34m,\u001b[0m\u001b[0;34m\u001b[0m\u001b[0;34m\u001b[0m\u001b[0m\n\u001b[1;32m   3299\u001b[0m           \u001b[0moriginal_op\u001b[0m\u001b[0;34m=\u001b[0m\u001b[0mself\u001b[0m\u001b[0;34m.\u001b[0m\u001b[0m_default_original_op\u001b[0m\u001b[0;34m,\u001b[0m\u001b[0;34m\u001b[0m\u001b[0;34m\u001b[0m\u001b[0m\n\u001b[0;32m-> 3300\u001b[0;31m           op_def=op_def)\n\u001b[0m\u001b[1;32m   3301\u001b[0m       \u001b[0mself\u001b[0m\u001b[0;34m.\u001b[0m\u001b[0m_create_op_helper\u001b[0m\u001b[0;34m(\u001b[0m\u001b[0mret\u001b[0m\u001b[0;34m,\u001b[0m \u001b[0mcompute_device\u001b[0m\u001b[0;34m=\u001b[0m\u001b[0mcompute_device\u001b[0m\u001b[0;34m)\u001b[0m\u001b[0;34m\u001b[0m\u001b[0;34m\u001b[0m\u001b[0m\n\u001b[1;32m   3302\u001b[0m     \u001b[0;32mreturn\u001b[0m \u001b[0mret\u001b[0m\u001b[0;34m\u001b[0m\u001b[0;34m\u001b[0m\u001b[0m\n",
            "\u001b[0;32m/usr/local/lib/python3.6/dist-packages/tensorflow/python/framework/ops.py\u001b[0m in \u001b[0;36m__init__\u001b[0;34m(self, node_def, g, inputs, output_types, control_inputs, input_types, original_op, op_def)\u001b[0m\n\u001b[1;32m   1821\u001b[0m           op_def, inputs, node_def.attr)\n\u001b[1;32m   1822\u001b[0m       self._c_op = _create_c_op(self._graph, node_def, grouped_inputs,\n\u001b[0;32m-> 1823\u001b[0;31m                                 control_input_ops)\n\u001b[0m\u001b[1;32m   1824\u001b[0m \u001b[0;34m\u001b[0m\u001b[0m\n\u001b[1;32m   1825\u001b[0m     \u001b[0;31m# Initialize self._outputs.\u001b[0m\u001b[0;34m\u001b[0m\u001b[0;34m\u001b[0m\u001b[0;34m\u001b[0m\u001b[0m\n",
            "\u001b[0;32m/usr/local/lib/python3.6/dist-packages/tensorflow/python/framework/ops.py\u001b[0m in \u001b[0;36m_create_c_op\u001b[0;34m(graph, node_def, inputs, control_inputs)\u001b[0m\n\u001b[1;32m   1660\u001b[0m   \u001b[0;32mexcept\u001b[0m \u001b[0merrors\u001b[0m\u001b[0;34m.\u001b[0m\u001b[0mInvalidArgumentError\u001b[0m \u001b[0;32mas\u001b[0m \u001b[0me\u001b[0m\u001b[0;34m:\u001b[0m\u001b[0;34m\u001b[0m\u001b[0;34m\u001b[0m\u001b[0m\n\u001b[1;32m   1661\u001b[0m     \u001b[0;31m# Convert to ValueError for backwards compatibility.\u001b[0m\u001b[0;34m\u001b[0m\u001b[0;34m\u001b[0m\u001b[0;34m\u001b[0m\u001b[0m\n\u001b[0;32m-> 1662\u001b[0;31m     \u001b[0;32mraise\u001b[0m \u001b[0mValueError\u001b[0m\u001b[0;34m(\u001b[0m\u001b[0mstr\u001b[0m\u001b[0;34m(\u001b[0m\u001b[0me\u001b[0m\u001b[0;34m)\u001b[0m\u001b[0;34m)\u001b[0m\u001b[0;34m\u001b[0m\u001b[0;34m\u001b[0m\u001b[0m\n\u001b[0m\u001b[1;32m   1663\u001b[0m \u001b[0;34m\u001b[0m\u001b[0m\n\u001b[1;32m   1664\u001b[0m   \u001b[0;32mreturn\u001b[0m \u001b[0mc_op\u001b[0m\u001b[0;34m\u001b[0m\u001b[0;34m\u001b[0m\u001b[0m\n",
            "\u001b[0;31mValueError\u001b[0m: Negative dimension size caused by subtracting 2 from 1 for 'max_pooling2d_20/MaxPool' (op: 'MaxPool') with input shapes: [?,64,62,1]."
          ]
        }
      ]
    },
    {
      "metadata": {
        "id": "KgRBz8YMy5FB",
        "colab_type": "code",
        "colab": {
          "base_uri": "https://localhost:8080/",
          "height": 68
        },
        "outputId": "3f8efe5b-fe3a-41cf-e496-b8d6ddb7a7a6"
      },
      "cell_type": "code",
      "source": [
        "img_rows=64\n",
        "img_cols=64\n",
        "if K.image_data_format() == 'channels_first':\n",
        "    x_train = X.reshape(X.shape[0], 1, img_rows, img_cols)\n",
        "    x_test = X_t.reshape(X_t.shape[0], 1, img_rows, img_cols)\n",
        "    input_shape = (1, img_rows, img_cols)\n",
        "else:\n",
        "    x_train = X.reshape(X.shape[0], img_rows, img_cols,3)\n",
        "    x_test = X_t.reshape(X_t.shape[0], img_rows, img_cols,3)\n",
        "    input_shape = (img_rows, img_cols,3)\n",
        "\n",
        "x_train = x_train.astype('float32')\n",
        "x_test = x_test.astype('float32')\n",
        "x_train /= 255\n",
        "x_test /= 255\n",
        "y_train= y\n",
        "y_test=y_t\n",
        "print('x_train shape:', x_train.shape)\n",
        "print(x_train.shape[0], 'train samples')\n",
        "print(x_test.shape[0], 'test samples')\n",
        "\n",
        "# convert class vectors to binary class matrices\n",
        "y_train = keras.utils.to_categorical(y_train, num_classes)\n",
        "y_test = keras.utils.to_categorical(y_test, num_classes)"
      ],
      "execution_count": 108,
      "outputs": [
        {
          "output_type": "stream",
          "text": [
            "x_train shape: (18992, 64, 64, 3)\n",
            "18992 train samples\n",
            "890 test samples\n"
          ],
          "name": "stdout"
        }
      ]
    },
    {
      "metadata": {
        "id": "eDseD4hxvbAg",
        "colab_type": "code",
        "colab": {}
      },
      "cell_type": "code",
      "source": [
        "\n",
        "from keras.preprocessing.image import ImageDataGenerator\n",
        "from matplotlib import pyplot\n",
        "from keras import backend as K\n",
        "K.set_image_dim_ordering('th')\n",
        "# load data\n",
        "\n",
        "# reshape to be [samples][pixels][width][height]\n",
        "X_train = X.reshape(X.shape[0],3,64, 64)\n",
        "X_test = X_t.reshape(X_t.shape[0], 3, 64, 64)\n",
        "# convert from int to float\n",
        "X_train = X_train.astype('float32')\n",
        "X_test = X_test.astype('float32')\n",
        "# define data preparation\n",
        "datagen = ImageDataGenerator(featurewise_center=False, samplewise_center=False, featurewise_std_normalization=False, samplewise_std_normalization=False, zca_whitening=False, zca_epsilon=1e-06, rotation_range=0, width_shift_range=0.0, height_shift_range=0.0, brightness_range=None, shear_range=0.0, zoom_range=0.0, channel_shift_range=0.0, fill_mode='nearest', cval=0.0, horizontal_flip=False, vertical_flip=False, rescale=None, preprocessing_function=None, data_format=None, validation_split=0.30, dtype=None)\n",
        "# fit parameters from data\n",
        "datagen.fit(X_train)\n",
        "\n"
      ],
      "execution_count": 0,
      "outputs": []
    },
    {
      "metadata": {
        "id": "sJtDm1vyrAha",
        "colab_type": "text"
      },
      "cell_type": "markdown",
      "source": [
        "**3 (1 punto): Comparación GPU/CPU**. Comparar el tiempo de entrenamiento de tu modelo por epoch utilizando GPUs y CPUs. Explicar por qué el uso de una aceleradora como una GPU acelera el entrenamiento de la red neuronal.\n",
        "\n"
      ]
    },
    {
      "metadata": {
        "id": "iHmxmEv34ziP",
        "colab_type": "code",
        "outputId": "246e6c8f-4f4c-422c-fe92-9fa7ffa8497b",
        "colab": {
          "base_uri": "https://localhost:8080/",
          "height": 1020
        }
      },
      "cell_type": "code",
      "source": [
        "!cat /proc/cpuinfo"
      ],
      "execution_count": 0,
      "outputs": [
        {
          "output_type": "stream",
          "text": [
            "processor\t: 0\n",
            "vendor_id\t: GenuineIntel\n",
            "cpu family\t: 6\n",
            "model\t\t: 63\n",
            "model name\t: Intel(R) Xeon(R) CPU @ 2.30GHz\n",
            "stepping\t: 0\n",
            "microcode\t: 0x1\n",
            "cpu MHz\t\t: 2300.000\n",
            "cache size\t: 46080 KB\n",
            "physical id\t: 0\n",
            "siblings\t: 2\n",
            "core id\t\t: 0\n",
            "cpu cores\t: 1\n",
            "apicid\t\t: 0\n",
            "initial apicid\t: 0\n",
            "fpu\t\t: yes\n",
            "fpu_exception\t: yes\n",
            "cpuid level\t: 13\n",
            "wp\t\t: yes\n",
            "flags\t\t: fpu vme de pse tsc msr pae mce cx8 apic sep mtrr pge mca cmov pat pse36 clflush mmx fxsr sse sse2 ss ht syscall nx pdpe1gb rdtscp lm constant_tsc rep_good nopl xtopology nonstop_tsc cpuid tsc_known_freq pni pclmulqdq ssse3 fma cx16 pcid sse4_1 sse4_2 x2apic movbe popcnt aes xsave avx f16c rdrand hypervisor lahf_lm abm invpcid_single pti ssbd ibrs ibpb stibp fsgsbase tsc_adjust bmi1 avx2 smep bmi2 erms invpcid xsaveopt arat arch_capabilities\n",
            "bugs\t\t: cpu_meltdown spectre_v1 spectre_v2 spec_store_bypass l1tf\n",
            "bogomips\t: 4600.00\n",
            "clflush size\t: 64\n",
            "cache_alignment\t: 64\n",
            "address sizes\t: 46 bits physical, 48 bits virtual\n",
            "power management:\n",
            "\n",
            "processor\t: 1\n",
            "vendor_id\t: GenuineIntel\n",
            "cpu family\t: 6\n",
            "model\t\t: 63\n",
            "model name\t: Intel(R) Xeon(R) CPU @ 2.30GHz\n",
            "stepping\t: 0\n",
            "microcode\t: 0x1\n",
            "cpu MHz\t\t: 2300.000\n",
            "cache size\t: 46080 KB\n",
            "physical id\t: 0\n",
            "siblings\t: 2\n",
            "core id\t\t: 0\n",
            "cpu cores\t: 1\n",
            "apicid\t\t: 1\n",
            "initial apicid\t: 1\n",
            "fpu\t\t: yes\n",
            "fpu_exception\t: yes\n",
            "cpuid level\t: 13\n",
            "wp\t\t: yes\n",
            "flags\t\t: fpu vme de pse tsc msr pae mce cx8 apic sep mtrr pge mca cmov pat pse36 clflush mmx fxsr sse sse2 ss ht syscall nx pdpe1gb rdtscp lm constant_tsc rep_good nopl xtopology nonstop_tsc cpuid tsc_known_freq pni pclmulqdq ssse3 fma cx16 pcid sse4_1 sse4_2 x2apic movbe popcnt aes xsave avx f16c rdrand hypervisor lahf_lm abm invpcid_single pti ssbd ibrs ibpb stibp fsgsbase tsc_adjust bmi1 avx2 smep bmi2 erms invpcid xsaveopt arat arch_capabilities\n",
            "bugs\t\t: cpu_meltdown spectre_v1 spectre_v2 spec_store_bypass l1tf\n",
            "bogomips\t: 4600.00\n",
            "clflush size\t: 64\n",
            "cache_alignment\t: 64\n",
            "address sizes\t: 46 bits physical, 48 bits virtual\n",
            "power management:\n",
            "\n"
          ],
          "name": "stdout"
        }
      ]
    },
    {
      "metadata": {
        "id": "k8ZkwLe6x4z9",
        "colab_type": "code",
        "outputId": "f23e8632-606a-4883-d0ab-557a4140c3f1",
        "colab": {
          "base_uri": "https://localhost:8080/",
          "height": 425
        }
      },
      "cell_type": "code",
      "source": [
        "history = model.fit_generator(datagen.flow(X_train, y_train),\n",
        "                    \n",
        "                    steps_per_epoch=len(X_train) / 64, epochs=epochs)\n",
        "\n",
        "\n",
        "\n"
      ],
      "execution_count": 183,
      "outputs": [
        {
          "output_type": "stream",
          "text": [
            "Epoch 1/12\n",
            "297/296 [==============================] - 8s 25ms/step - loss: 14.9451 - acc: 0.0720\n",
            "Epoch 2/12\n",
            "297/296 [==============================] - 6s 19ms/step - loss: 15.0734 - acc: 0.0648\n",
            "Epoch 3/12\n",
            "297/296 [==============================] - 5s 18ms/step - loss: 15.0073 - acc: 0.0689\n",
            "Epoch 4/12\n",
            "297/296 [==============================] - 5s 18ms/step - loss: 14.9546 - acc: 0.0722\n",
            "Epoch 5/12\n",
            "297/296 [==============================] - 6s 19ms/step - loss: 14.9666 - acc: 0.0714\n",
            "Epoch 6/12\n",
            "297/296 [==============================] - 5s 19ms/step - loss: 14.9221 - acc: 0.0742\n",
            "Epoch 7/12\n",
            "297/296 [==============================] - 5s 18ms/step - loss: 15.0221 - acc: 0.0680\n",
            "Epoch 8/12\n",
            "297/296 [==============================] - 5s 18ms/step - loss: 14.9360 - acc: 0.0733\n",
            "Epoch 9/12\n",
            "297/296 [==============================] - 5s 18ms/step - loss: 15.0174 - acc: 0.0683\n",
            "Epoch 10/12\n",
            "297/296 [==============================] - 5s 18ms/step - loss: 14.9692 - acc: 0.0712\n",
            "Epoch 11/12\n",
            "297/296 [==============================] - 5s 18ms/step - loss: 14.9666 - acc: 0.0714\n",
            "Epoch 12/12\n",
            "297/296 [==============================] - 5s 18ms/step - loss: 14.8360 - acc: 0.0795\n"
          ],
          "name": "stdout"
        }
      ]
    },
    {
      "metadata": {
        "id": "gLDn9OP03kVf",
        "colab_type": "code",
        "colab": {
          "base_uri": "https://localhost:8080/",
          "height": 1143
        },
        "outputId": "14a62809-d0f2-4cda-fec4-552e36dff335"
      },
      "cell_type": "code",
      "source": [
        "test_datagen = ImageDataGenerator(rescale=1./255)\n",
        "validation_generator = test_datagen.flow(x_test,y_test)\n",
        "history = model.fit_generator(datagen.flow(X_train, y_train),\n",
        "                    \n",
        "                    steps_per_epoch=len(X_train) / 64, epochs=epochs,\n",
        "                                validation_data=validation_generator,\n",
        "        validation_steps=80)\n",
        "\n",
        "\n",
        "plot_history(history)\n"
      ],
      "execution_count": 185,
      "outputs": [
        {
          "output_type": "stream",
          "text": [
            "Epoch 1/12\n",
            "297/296 [==============================] - 6s 21ms/step - loss: 15.0316 - acc: 0.0673 - val_loss: 15.1865 - val_acc: 0.0573\n",
            "Epoch 2/12\n",
            "297/296 [==============================] - 6s 19ms/step - loss: 15.0734 - acc: 0.0648 - val_loss: 15.2669 - val_acc: 0.0523\n",
            "Epoch 3/12\n",
            "297/296 [==============================] - 6s 19ms/step - loss: 15.0310 - acc: 0.0674 - val_loss: 15.2095 - val_acc: 0.0559\n",
            "Epoch 4/12\n",
            "297/296 [==============================] - 6s 19ms/step - loss: 15.0217 - acc: 0.0680 - val_loss: 15.2367 - val_acc: 0.0547\n",
            "Epoch 5/12\n",
            "297/296 [==============================] - 6s 19ms/step - loss: 14.9292 - acc: 0.0738 - val_loss: 15.1860 - val_acc: 0.0578\n",
            "Epoch 6/12\n",
            "297/296 [==============================] - 6s 19ms/step - loss: 14.9394 - acc: 0.0731 - val_loss: 15.2684 - val_acc: 0.0527\n",
            "Epoch 7/12\n",
            "297/296 [==============================] - 6s 19ms/step - loss: 14.9004 - acc: 0.0755 - val_loss: 15.2367 - val_acc: 0.0547\n",
            "Epoch 8/12\n",
            "297/296 [==============================] - 6s 19ms/step - loss: 15.0191 - acc: 0.0682 - val_loss: 15.2262 - val_acc: 0.0553\n",
            "Epoch 9/12\n",
            "297/296 [==============================] - 6s 19ms/step - loss: 14.9007 - acc: 0.0754 - val_loss: 15.2684 - val_acc: 0.0527\n",
            "Epoch 10/12\n",
            "297/296 [==============================] - 6s 19ms/step - loss: 14.9123 - acc: 0.0748 - val_loss: 15.1733 - val_acc: 0.0586\n",
            "Epoch 11/12\n",
            "297/296 [==============================] - 6s 19ms/step - loss: 14.9343 - acc: 0.0734 - val_loss: 15.2431 - val_acc: 0.0543\n",
            "Epoch 12/12\n",
            "297/296 [==============================] - 6s 19ms/step - loss: 15.0090 - acc: 0.0688 - val_loss: 15.2494 - val_acc: 0.0539\n"
          ],
          "name": "stdout"
        },
        {
          "output_type": "display_data",
          "data": {
            "image/png": "[encoded data removed]",
            "text/plain": [
              "<Figure size 576x396 with 1 Axes>"
            ]
          },
          "metadata": {
            "tags": []
          }
        },
        {
          "output_type": "display_data",
          "data": {
            "image/png": "[encoded data removed]",
            "text/plain": [
              "<Figure size 576x396 with 1 Axes>"
            ]
          },
          "metadata": {
            "tags": []
          }
        }
      ]
    },
    {
      "metadata": {
        "id": "WeqeSchM5cGj",
        "colab_type": "code",
        "outputId": "f84816a3-9f52-489d-83c0-870b33843b8f",
        "colab": {
          "base_uri": "https://localhost:8080/",
          "height": 476
        }
      },
      "cell_type": "code",
      "source": [
        "from tensorflow.python.client import device_lib\n",
        "device_lib.list_local_devices()"
      ],
      "execution_count": 0,
      "outputs": [
        {
          "output_type": "execute_result",
          "data": {
            "text/plain": [
              "[name: \"/device:CPU:0\"\n",
              " device_type: \"CPU\"\n",
              " memory_limit: 268435456\n",
              " locality {\n",
              " }\n",
              " incarnation: 1644063023876894508, name: \"/device:XLA_CPU:0\"\n",
              " device_type: \"XLA_CPU\"\n",
              " memory_limit: 17179869184\n",
              " locality {\n",
              " }\n",
              " incarnation: 12567550679263706002\n",
              " physical_device_desc: \"device: XLA_CPU device\", name: \"/device:XLA_GPU:0\"\n",
              " device_type: \"XLA_GPU\"\n",
              " memory_limit: 17179869184\n",
              " locality {\n",
              " }\n",
              " incarnation: 5707053670130073214\n",
              " physical_device_desc: \"device: XLA_GPU device\", name: \"/device:GPU:0\"\n",
              " device_type: \"GPU\"\n",
              " memory_limit: 11276822119\n",
              " locality {\n",
              "   bus_id: 1\n",
              "   links {\n",
              "   }\n",
              " }\n",
              " incarnation: 7540789445114034281\n",
              " physical_device_desc: \"device: 0, name: Tesla K80, pci bus id: 0000:00:04.0, compute capability: 3.7\"]"
            ]
          },
          "metadata": {
            "tags": []
          },
          "execution_count": 1
        }
      ]
    },
    {
      "metadata": {
        "id": "5FjeYaixTbBH",
        "colab_type": "code",
        "colab": {}
      },
      "cell_type": "code",
      "source": [
        "import cv2\n",
        "import os\n",
        "import numpy as np \n",
        "import keras\n",
        "import matplotlib.pyplot as plt\n",
        "import glob\n",
        "\n",
        "\n",
        "# Primero, bajamos los datos de entrenamiento\n",
        "keras.utils.get_file(fname=\"simpsons_train.tar.gz\", \n",
        "                     origin=\"https://onedrive.live.com/download?cid=C506CF0A4F373B0F&resid=C506CF0A4F373B0F%219337&authkey=AMzI92bJPx8Sd60\")\n",
        "\n",
        "# Descomprimimos el archivo\n",
        "!tar -xzf /root/.keras/datasets/simpsons_train.tar.gz -C /root/.keras/datasets\n",
        "\n",
        "# Hacemos lo mismo con los datos de test\n",
        "keras.utils.get_file(fname=\"simpsons_test.tar.gz\", \n",
        "                     origin=\"https://onedrive.live.com/download?cid=C506CF0A4F373B0F&resid=C506CF0A4F373B0F%219341&authkey=ANnjK3Uq1FhuAe8\")\n",
        "!tar -xzf /root/.keras/datasets/simpsons_test.tar.gz -C /root/.keras/datasets"
      ],
      "execution_count": 0,
      "outputs": []
    },
    {
      "metadata": {
        "id": "5JP5_zUuTmv4",
        "colab_type": "code",
        "colab": {}
      },
      "cell_type": "code",
      "source": [
        "# Esta variable contiene un mapeo de número de clase a personaje.\n",
        "# Utilizamos sólo los 18 personajes del dataset que tienen más imágenes.\n",
        "MAP_CHARACTERS = {\n",
        "    0: 'abraham_grampa_simpson', 1: 'apu_nahasapeemapetilon', 2: 'bart_simpson',\n",
        "    3: 'charles_montgomery_burns', 4: 'chief_wiggum', 5: 'comic_book_guy', 6: 'edna_krabappel', \n",
        "    7: 'homer_simpson', 8: 'kent_brockman', 9: 'krusty_the_clown', 10: 'lisa_simpson', \n",
        "    11: 'marge_simpson', 12: 'milhouse_van_houten', 13: 'moe_szyslak', \n",
        "    14: 'ned_flanders', 15: 'nelson_muntz', 16: 'principal_skinner', 17: 'sideshow_bob'\n",
        "}\n",
        "\n",
        "# Vamos a standarizar todas las imágenes a tamaño 64x64\n",
        "IMG_SIZE = 64"
      ],
      "execution_count": 0,
      "outputs": []
    },
    {
      "metadata": {
        "id": "SBZKqf6ZT8LC",
        "colab_type": "code",
        "colab": {}
      },
      "cell_type": "code",
      "source": [
        "def load_train_set(dirname, map_characters, verbose=True):\n",
        "    \"\"\"Esta función carga los datos de training en imágenes.\n",
        "    \n",
        "    Como las imágenes tienen tamaños distintas, utilizamos la librería opencv\n",
        "    para hacer un resize y adaptarlas todas a tamaño IMG_SIZE x IMG_SIZE.\n",
        "    \n",
        "    Args:\n",
        "        dirname: directorio completo del que leer los datos\n",
        "        map_characters: variable de mapeo entre labels y personajes\n",
        "        verbose: si es True, muestra información de las imágenes cargadas\n",
        "     \n",
        "    Returns:\n",
        "        X, y: X es un array con todas las imágenes cargadas con tamaño\n",
        "                IMG_SIZE x IMG_SIZE\n",
        "              y es un array con las labels de correspondientes a cada imagen\n",
        "    \"\"\"\n",
        "    X_train = []\n",
        "    y_train = []\n",
        "    for label, character in map_characters.items():        \n",
        "        files = os.listdir(os.path.join(dirname, character))\n",
        "        images = [file for file in files if file.endswith(\"jpg\")]\n",
        "        if verbose:\n",
        "          print(\"Leyendo {} imágenes encontradas de {}\".format(len(images), character))\n",
        "        for image_name in images:\n",
        "            image = cv2.imread(os.path.join(dirname, character, image_name))\n",
        "            X_train.append(cv2.resize(image,(IMG_SIZE, IMG_SIZE)))\n",
        "            y_train.append(label)\n",
        "    return np.array(X_train), np.array(y_train)\n"
      ],
      "execution_count": 0,
      "outputs": []
    },
    {
      "metadata": {
        "id": "qEW_bIokT98p",
        "colab_type": "code",
        "colab": {}
      },
      "cell_type": "code",
      "source": [
        "def load_test_set(dirname, map_characters, verbose=True):\n",
        "    \"\"\"Esta función funciona de manera equivalente a la función load_train_set\n",
        "    pero cargando los datos de test.\"\"\"\n",
        "    X_test = []\n",
        "    y_test = []\n",
        "    reverse_dict = {v: k for k, v in map_characters.items()}\n",
        "    for filename in glob.glob(dirname + '/*.*'):\n",
        "        char_name = \"_\".join(filename.split('/')[-1].split('_')[:-1])\n",
        "        if char_name in reverse_dict:\n",
        "            image = cv2.imread(filename)\n",
        "            image = cv2.resize(image, (IMG_SIZE, IMG_SIZE))\n",
        "            X_test.append(image)\n",
        "            y_test.append(reverse_dict[char_name])\n",
        "    if verbose:\n",
        "        print(\"Leídas {} imágenes de test\".format(len(X_test)))\n",
        "    return np.array(X_test), np.array(y_test)\n"
      ],
      "execution_count": 0,
      "outputs": []
    },
    {
      "metadata": {
        "id": "IU0Btt0mTzbF",
        "colab_type": "code",
        "outputId": "576d4c0c-ec18-4243-ae94-175d41b6d20f",
        "colab": {
          "base_uri": "https://localhost:8080/",
          "height": 340
        }
      },
      "cell_type": "code",
      "source": [
        "# Cargamos los datos. Si no estás trabajando en colab, cambia los paths por\n",
        "# los de los ficheros donde hayas descargado los datos.\n",
        "DATASET_TRAIN_PATH_COLAB = \"/root/.keras/datasets/simpsons\"\n",
        "DATASET_TEST_PATH_COLAB = \"/root/.keras/datasets/simpsons_testset\"\n",
        "\n",
        "X, y = load_train_set(DATASET_TRAIN_PATH_COLAB, MAP_CHARACTERS)\n",
        "X_t, y_t = load_test_set(DATASET_TEST_PATH_COLAB, MAP_CHARACTERS)"
      ],
      "execution_count": 0,
      "outputs": [
        {
          "output_type": "stream",
          "text": [
            "Leyendo 913 imágenes encontradas de abraham_grampa_simpson\n",
            "Leyendo 623 imágenes encontradas de apu_nahasapeemapetilon\n",
            "Leyendo 1342 imágenes encontradas de bart_simpson\n",
            "Leyendo 1193 imágenes encontradas de charles_montgomery_burns\n",
            "Leyendo 986 imágenes encontradas de chief_wiggum\n",
            "Leyendo 469 imágenes encontradas de comic_book_guy\n",
            "Leyendo 457 imágenes encontradas de edna_krabappel\n",
            "Leyendo 2246 imágenes encontradas de homer_simpson\n",
            "Leyendo 498 imágenes encontradas de kent_brockman\n",
            "Leyendo 1206 imágenes encontradas de krusty_the_clown\n",
            "Leyendo 1354 imágenes encontradas de lisa_simpson\n",
            "Leyendo 1291 imágenes encontradas de marge_simpson\n",
            "Leyendo 1079 imágenes encontradas de milhouse_van_houten\n",
            "Leyendo 1452 imágenes encontradas de moe_szyslak\n",
            "Leyendo 1454 imágenes encontradas de ned_flanders\n",
            "Leyendo 358 imágenes encontradas de nelson_muntz\n",
            "Leyendo 1194 imágenes encontradas de principal_skinner\n",
            "Leyendo 877 imágenes encontradas de sideshow_bob\n",
            "Leídas 890 imágenes de test\n"
          ],
          "name": "stdout"
        }
      ]
    },
    {
      "metadata": {
        "id": "dRZlPSuh5jzW",
        "colab_type": "text"
      },
      "cell_type": "markdown",
      "source": [
        "# Ahora con **GPU** \n"
      ]
    },
    {
      "metadata": {
        "id": "dkRKCI7i5e5B",
        "colab_type": "code",
        "colab": {}
      },
      "cell_type": "code",
      "source": [
        "# Importing the Keras libraries and packages\n",
        "from keras.models import Sequential\n",
        "from keras.layers import Conv2D\n",
        "from keras.layers import MaxPooling2D\n",
        "from keras.layers import Flatten\n",
        "from keras.layers import Dense\n",
        "from keras.preprocessing.image import ImageDataGenerator\n",
        "from timeit import default_timer as timer\n",
        "from keras.preprocessing import image\n",
        "import numpy as np\n",
        "import os\n",
        "image_height = 128\n",
        "image_width = 128"
      ],
      "execution_count": 0,
      "outputs": []
    },
    {
      "metadata": {
        "id": "9hYU8E2u5xSW",
        "colab_type": "code",
        "colab": {}
      },
      "cell_type": "code",
      "source": [
        "# Initialising the CNN\n",
        "predator = Sequential()\n",
        "# Step 1 - Convolution\n",
        "predator.add(Conv2D(64, (3, 3), activation=\"relu\", input_shape=(image_height, image_width, 3)))\n",
        "# Step 2 - Pooling\n",
        "predator.add(MaxPooling2D(pool_size = (2, 2)))\n",
        "# Adding a second convolutional layer\n",
        "predator.add(Conv2D(128, (3, 3), activation=\"relu\"))\n",
        "predator.add(MaxPooling2D(pool_size = (2, 2)))\n",
        "# Adding a third convolutional layer\n",
        "predator.add(Conv2D(256, (3, 3), activation=\"relu\"))\n",
        "predator.add(MaxPooling2D(pool_size = (2, 2)))\n",
        "# Adding a fourth convolutional layer\n",
        "predator.add(Conv2D(128, (3, 3), activation=\"relu\"))\n",
        "predator.add(MaxPooling2D(pool_size = (2, 2)))\n",
        "# Adding a fifth convolutional layer\n",
        "predator.add(Conv2D(64, (3, 3), activation=\"relu\"))\n",
        "predator.add(MaxPooling2D(pool_size = (2, 2)))\n",
        "# Step 3 - Flattening\n",
        "predator.add(Flatten())    #flattens the 3D image array to a single row array\n",
        "# Step 4 - Full connection\n",
        "predator.add(Dense(units=32, activation=\"relu\"))\n",
        "predator.add(Dense(units=47, activation=\"softmax\"))   #output layer with 10 neurons.. each corresponding to a character\n",
        "# Compiling the CNN\n",
        "predator.compile(optimizer = 'adam', loss = 'categorical_crossentropy', metrics = ['accuracy'])"
      ],
      "execution_count": 0,
      "outputs": []
    },
    {
      "metadata": {
        "id": "c3jhs-iu5zV5",
        "colab_type": "code",
        "outputId": "c8de60de-db58-413e-a847-f5ea1db72a2e",
        "colab": {
          "base_uri": "https://localhost:8080/",
          "height": 1015
        }
      },
      "cell_type": "code",
      "source": [
        "from google.colab import drive\n",
        "drive.mount('/content/drive')\n",
        "\n",
        "path = os.path.join('/root/.keras/datasets/simpsons')\n",
        "for file in os.listdir(path):\n",
        "            print(file)\n",
        "train_datagen = ImageDataGenerator(rescale = 1./255,\n",
        "                                   shear_range = 0.2,\n",
        "                                   zoom_range = 0.2,\n",
        "                                   horizontal_flip = True)\n",
        "\n",
        "#ImageDataGenerator augments images, creating multiple versions of the same image\n",
        "test_datagen = ImageDataGenerator(rescale = 1./255)\n",
        "training_set = train_datagen.flow_from_directory('/root/.keras/datasets/simpsons',\n",
        "                                                 target_size = (image_height, image_width),\n",
        "                                                 batch_size = 10,\n",
        "                                                 class_mode = 'categorical')\n",
        "test_set = test_datagen.flow_from_directory('/root/.keras/datasets/simpsons_testset',\n",
        "                                            target_size = (image_height, image_width),\n",
        "                                            batch_size = 10,\n",
        "                                            class_mode = 'categorical')"
      ],
      "execution_count": 66,
      "outputs": [
        {
          "output_type": "stream",
          "text": [
            "Go to this URL in a browser: https://accounts.google.com/o/oauth2/auth?client_id=947318989803-6bn6qk8qdgf4n4g3pfee6491hc0brc4i.apps.googleusercontent.com&redirect_uri=urn%3Aietf%3Awg%3Aoauth%3A2.0%3Aoob&scope=email%20https%3A%2F%2Fwww.googleapis.com%2Fauth%2Fdocs.test%20https%3A%2F%2Fwww.googleapis.com%2Fauth%2Fdrive%20https%3A%2F%2Fwww.googleapis.com%2Fauth%2Fdrive.photos.readonly%20https%3A%2F%2Fwww.googleapis.com%2Fauth%2Fpeopleapi.readonly&response_type=code\n",
            "\n",
            "Enter your authorization code:\n",
            "··········\n",
            "Mounted at /content/drive\n",
            "milhouse_van_houten\n",
            "troy_mcclure\n",
            "agnes_skinner\n",
            "lisa_simpson\n",
            "marge_simpson\n",
            "sideshow_bob\n",
            "rainier_wolfcastle\n",
            "jimbo_jones\n",
            "bart_simpson\n",
            "carl_carlson\n",
            "fat_tony\n",
            "chief_wiggum\n",
            "sideshow_mel\n",
            "nelson_muntz\n",
            "snake_jailbird\n",
            "abraham_grampa_simpson\n",
            "gil\n",
            "martin_prince\n",
            "helen_lovejoy\n",
            "patty_bouvier\n",
            "krusty_the_clown\n",
            "cletus_spuckler\n",
            "waylon_smithers\n",
            "bumblebee_man\n",
            "otto_mann\n",
            "mayor_quimby\n",
            "selma_bouvier\n",
            "ned_flanders\n",
            "comic_book_guy\n",
            "principal_skinner\n",
            "ralph_wiggum\n",
            "moe_szyslak\n",
            "maggie_simpson\n",
            "miss_hoover\n",
            "apu_nahasapeemapetilon\n",
            "lionel_hutz\n",
            "groundskeeper_willie\n",
            "edna_krabappel\n",
            "kent_brockman\n",
            "disco_stu\n",
            "jasper_beardly\n",
            "lenny_leonard\n",
            "professor_john_frink\n",
            "homer_simpson\n",
            "hans_moleman\n",
            "charles_montgomery_burns\n",
            "barney_gumble\n",
            "Found 20933 images belonging to 47 classes.\n",
            "Found 0 images belonging to 0 classes.\n"
          ],
          "name": "stdout"
        }
      ]
    },
    {
      "metadata": {
        "id": "DZtbOnImWD25",
        "colab_type": "code",
        "outputId": "57d676ec-90eb-4ec6-c723-3a78aecc7b05",
        "colab": {
          "base_uri": "https://localhost:8080/",
          "height": 3434
        }
      },
      "cell_type": "code",
      "source": [
        "predator.fit_generator(training_set,\n",
        "                         steps_per_epoch = 16,\n",
        "                         epochs = 100,\n",
        "                         validation_data = test_set,\n",
        "                         validation_steps = 4)"
      ],
      "execution_count": 0,
      "outputs": [
        {
          "output_type": "stream",
          "text": [
            "Epoch 1/100\n",
            "16/16 [==============================] - 2s 102ms/step - loss: 0.9841 - acc: 0.7375\n",
            "Epoch 2/100\n",
            "16/16 [==============================] - 2s 114ms/step - loss: 1.1099 - acc: 0.7250\n",
            "Epoch 3/100\n",
            "16/16 [==============================] - 2s 116ms/step - loss: 0.7180 - acc: 0.7875\n",
            "Epoch 4/100\n",
            "16/16 [==============================] - 2s 114ms/step - loss: 0.7036 - acc: 0.8188\n",
            "Epoch 5/100\n",
            "16/16 [==============================] - 2s 116ms/step - loss: 0.7525 - acc: 0.7812\n",
            "Epoch 6/100\n",
            "16/16 [==============================] - 2s 113ms/step - loss: 0.8560 - acc: 0.7625\n",
            "Epoch 7/100\n",
            "16/16 [==============================] - 2s 115ms/step - loss: 1.0388 - acc: 0.7000\n",
            "Epoch 8/100\n",
            "16/16 [==============================] - 2s 113ms/step - loss: 0.7940 - acc: 0.7938\n",
            "Epoch 9/100\n",
            "16/16 [==============================] - 2s 116ms/step - loss: 0.9958 - acc: 0.7063\n",
            "Epoch 10/100\n",
            "16/16 [==============================] - 2s 116ms/step - loss: 0.9007 - acc: 0.7750\n",
            "Epoch 11/100\n",
            "16/16 [==============================] - 2s 114ms/step - loss: 0.7295 - acc: 0.7812\n",
            "Epoch 12/100\n",
            "16/16 [==============================] - 2s 115ms/step - loss: 1.1931 - acc: 0.7250\n",
            "Epoch 13/100\n",
            "16/16 [==============================] - 2s 113ms/step - loss: 0.7158 - acc: 0.8000\n",
            "Epoch 14/100\n",
            "16/16 [==============================] - 2s 113ms/step - loss: 1.0868 - acc: 0.7312\n",
            "Epoch 15/100\n",
            "16/16 [==============================] - 2s 113ms/step - loss: 1.0600 - acc: 0.7375\n",
            "Epoch 16/100\n",
            "16/16 [==============================] - 2s 116ms/step - loss: 0.8960 - acc: 0.7188\n",
            "Epoch 17/100\n",
            "16/16 [==============================] - 2s 113ms/step - loss: 0.8423 - acc: 0.7625\n",
            "Epoch 18/100\n",
            "16/16 [==============================] - 2s 115ms/step - loss: 0.8019 - acc: 0.7812\n",
            "Epoch 19/100\n",
            "16/16 [==============================] - 2s 115ms/step - loss: 0.7989 - acc: 0.7750\n",
            "Epoch 20/100\n",
            "16/16 [==============================] - 2s 113ms/step - loss: 0.7838 - acc: 0.7812\n",
            "Epoch 21/100\n",
            "16/16 [==============================] - 2s 114ms/step - loss: 0.7607 - acc: 0.7563\n",
            "Epoch 22/100\n",
            "16/16 [==============================] - 2s 115ms/step - loss: 0.8574 - acc: 0.7750\n",
            "Epoch 23/100\n",
            "16/16 [==============================] - 2s 116ms/step - loss: 0.8123 - acc: 0.7688\n",
            "Epoch 24/100\n",
            "16/16 [==============================] - 2s 113ms/step - loss: 0.7557 - acc: 0.7875\n",
            "Epoch 25/100\n",
            "16/16 [==============================] - 2s 117ms/step - loss: 1.1234 - acc: 0.6688\n",
            "Epoch 26/100\n",
            "16/16 [==============================] - 2s 114ms/step - loss: 1.0713 - acc: 0.6875\n",
            "Epoch 27/100\n",
            "16/16 [==============================] - 2s 113ms/step - loss: 0.9540 - acc: 0.7500\n",
            "Epoch 28/100\n",
            "16/16 [==============================] - 2s 114ms/step - loss: 0.9098 - acc: 0.7250\n",
            "Epoch 29/100\n",
            "16/16 [==============================] - 2s 114ms/step - loss: 0.6745 - acc: 0.8062\n",
            "Epoch 30/100\n",
            "16/16 [==============================] - 2s 114ms/step - loss: 0.8022 - acc: 0.7500\n",
            "Epoch 31/100\n",
            "16/16 [==============================] - 2s 114ms/step - loss: 0.9323 - acc: 0.7688\n",
            "Epoch 32/100\n",
            "16/16 [==============================] - 2s 114ms/step - loss: 0.7957 - acc: 0.8125\n",
            "Epoch 33/100\n",
            "16/16 [==============================] - 2s 113ms/step - loss: 0.8828 - acc: 0.7375\n",
            "Epoch 34/100\n",
            "16/16 [==============================] - 2s 119ms/step - loss: 0.8020 - acc: 0.7750\n",
            "Epoch 35/100\n",
            "16/16 [==============================] - 2s 114ms/step - loss: 0.5948 - acc: 0.8125\n",
            "Epoch 36/100\n",
            "16/16 [==============================] - 2s 114ms/step - loss: 0.8869 - acc: 0.7562\n",
            "Epoch 37/100\n",
            "16/16 [==============================] - 2s 116ms/step - loss: 0.8905 - acc: 0.7562\n",
            "Epoch 38/100\n",
            "16/16 [==============================] - 2s 117ms/step - loss: 0.6945 - acc: 0.8062\n",
            "Epoch 39/100\n",
            "16/16 [==============================] - 2s 116ms/step - loss: 0.7707 - acc: 0.7500\n",
            "Epoch 40/100\n",
            "16/16 [==============================] - 2s 115ms/step - loss: 0.9101 - acc: 0.7875\n",
            "Epoch 41/100\n",
            "16/16 [==============================] - 2s 115ms/step - loss: 1.0189 - acc: 0.7438\n",
            "Epoch 42/100\n",
            "16/16 [==============================] - 2s 114ms/step - loss: 0.8663 - acc: 0.7625\n",
            "Epoch 43/100\n",
            "16/16 [==============================] - 2s 113ms/step - loss: 1.0013 - acc: 0.7250\n",
            "Epoch 44/100\n",
            "16/16 [==============================] - 2s 114ms/step - loss: 0.9510 - acc: 0.7312\n",
            "Epoch 45/100\n",
            "16/16 [==============================] - 2s 114ms/step - loss: 0.5268 - acc: 0.8562\n",
            "Epoch 46/100\n",
            "16/16 [==============================] - 2s 113ms/step - loss: 1.0032 - acc: 0.7687\n",
            "Epoch 47/100\n",
            "16/16 [==============================] - 2s 113ms/step - loss: 0.6895 - acc: 0.8000\n",
            "Epoch 48/100\n",
            "16/16 [==============================] - 2s 112ms/step - loss: 1.0460 - acc: 0.7875\n",
            "Epoch 49/100\n",
            "16/16 [==============================] - 2s 113ms/step - loss: 0.7784 - acc: 0.7750\n",
            "Epoch 50/100\n",
            "16/16 [==============================] - 2s 114ms/step - loss: 0.8584 - acc: 0.7937\n",
            "Epoch 51/100\n",
            "16/16 [==============================] - 2s 113ms/step - loss: 0.9441 - acc: 0.7563\n",
            "Epoch 52/100\n",
            "16/16 [==============================] - 2s 114ms/step - loss: 0.8397 - acc: 0.7500\n",
            "Epoch 53/100\n",
            "16/16 [==============================] - 2s 114ms/step - loss: 0.9192 - acc: 0.7687\n",
            "Epoch 54/100\n",
            "16/16 [==============================] - 2s 114ms/step - loss: 0.8393 - acc: 0.7313\n",
            "Epoch 55/100\n",
            "16/16 [==============================] - 2s 114ms/step - loss: 0.7547 - acc: 0.7812\n",
            "Epoch 56/100\n",
            "16/16 [==============================] - 2s 115ms/step - loss: 0.6719 - acc: 0.8125\n",
            "Epoch 57/100\n",
            "16/16 [==============================] - 2s 115ms/step - loss: 0.8866 - acc: 0.7750\n",
            "Epoch 58/100\n",
            "16/16 [==============================] - 2s 115ms/step - loss: 1.0139 - acc: 0.7188\n",
            "Epoch 59/100\n",
            "16/16 [==============================] - 2s 114ms/step - loss: 0.7499 - acc: 0.7875\n",
            "Epoch 60/100\n",
            "16/16 [==============================] - 2s 115ms/step - loss: 0.8682 - acc: 0.7688\n",
            "Epoch 61/100\n",
            "16/16 [==============================] - 2s 114ms/step - loss: 0.7242 - acc: 0.8125\n",
            "Epoch 62/100\n",
            "16/16 [==============================] - 2s 115ms/step - loss: 0.7082 - acc: 0.7750\n",
            "Epoch 63/100\n",
            "16/16 [==============================] - 2s 112ms/step - loss: 0.7218 - acc: 0.7875\n",
            "Epoch 64/100\n",
            "16/16 [==============================] - 2s 113ms/step - loss: 1.0368 - acc: 0.7375\n",
            "Epoch 65/100\n",
            "16/16 [==============================] - 2s 112ms/step - loss: 0.6822 - acc: 0.8125\n",
            "Epoch 66/100\n",
            "16/16 [==============================] - 2s 113ms/step - loss: 0.8752 - acc: 0.7812\n",
            "Epoch 67/100\n",
            "16/16 [==============================] - 2s 113ms/step - loss: 0.9514 - acc: 0.7125\n",
            "Epoch 68/100\n",
            "16/16 [==============================] - 2s 112ms/step - loss: 0.7205 - acc: 0.8125\n",
            "Epoch 69/100\n",
            "16/16 [==============================] - 2s 113ms/step - loss: 0.9079 - acc: 0.7563\n",
            "Epoch 70/100\n",
            "16/16 [==============================] - 2s 114ms/step - loss: 0.7043 - acc: 0.8000\n",
            "Epoch 71/100\n",
            "16/16 [==============================] - 2s 116ms/step - loss: 0.8042 - acc: 0.7750\n",
            "Epoch 72/100\n",
            "16/16 [==============================] - 2s 113ms/step - loss: 0.8328 - acc: 0.7687\n",
            "Epoch 73/100\n",
            "16/16 [==============================] - 2s 115ms/step - loss: 0.8529 - acc: 0.7438\n",
            "Epoch 74/100\n",
            "16/16 [==============================] - 2s 113ms/step - loss: 0.7765 - acc: 0.7937\n",
            "Epoch 75/100\n",
            "16/16 [==============================] - 2s 115ms/step - loss: 0.8292 - acc: 0.7500\n",
            "Epoch 76/100\n",
            "16/16 [==============================] - 2s 114ms/step - loss: 0.4717 - acc: 0.8438\n",
            "Epoch 77/100\n",
            "16/16 [==============================] - 2s 114ms/step - loss: 0.9325 - acc: 0.7250\n",
            "Epoch 78/100\n",
            "16/16 [==============================] - 2s 115ms/step - loss: 0.8405 - acc: 0.8000\n",
            "Epoch 79/100\n",
            "16/16 [==============================] - 2s 114ms/step - loss: 0.9194 - acc: 0.7250\n",
            "Epoch 80/100\n",
            "16/16 [==============================] - 2s 112ms/step - loss: 0.6433 - acc: 0.8187\n",
            "Epoch 81/100\n",
            "16/16 [==============================] - 2s 114ms/step - loss: 0.7836 - acc: 0.7875\n",
            "Epoch 82/100\n",
            "16/16 [==============================] - 2s 110ms/step - loss: 0.7590 - acc: 0.7937\n",
            "Epoch 83/100\n",
            "16/16 [==============================] - 2s 113ms/step - loss: 0.8725 - acc: 0.7750\n",
            "Epoch 84/100\n",
            "16/16 [==============================] - 2s 113ms/step - loss: 0.8265 - acc: 0.7875\n",
            "Epoch 85/100\n",
            "16/16 [==============================] - 2s 114ms/step - loss: 0.6871 - acc: 0.7875\n",
            "Epoch 86/100\n",
            "16/16 [==============================] - 2s 112ms/step - loss: 0.8224 - acc: 0.7812\n",
            "Epoch 87/100\n",
            "16/16 [==============================] - 2s 112ms/step - loss: 0.7356 - acc: 0.7750\n",
            "Epoch 88/100\n",
            "16/16 [==============================] - 2s 115ms/step - loss: 0.6376 - acc: 0.8187\n",
            "Epoch 89/100\n",
            "16/16 [==============================] - 2s 115ms/step - loss: 0.6022 - acc: 0.8313\n",
            "Epoch 90/100\n",
            "16/16 [==============================] - 2s 115ms/step - loss: 0.6448 - acc: 0.8250\n",
            "Epoch 91/100\n",
            "16/16 [==============================] - 2s 116ms/step - loss: 0.6618 - acc: 0.8250\n",
            "Epoch 92/100\n",
            "16/16 [==============================] - 2s 115ms/step - loss: 0.8517 - acc: 0.7813\n",
            "Epoch 93/100\n",
            "16/16 [==============================] - 2s 116ms/step - loss: 0.7603 - acc: 0.7937\n",
            "Epoch 94/100\n",
            "16/16 [==============================] - 2s 114ms/step - loss: 0.7462 - acc: 0.8062\n",
            "Epoch 95/100\n",
            "16/16 [==============================] - 2s 114ms/step - loss: 0.5512 - acc: 0.8125\n",
            "Epoch 96/100\n",
            "16/16 [==============================] - 2s 113ms/step - loss: 0.6825 - acc: 0.7937\n",
            "Epoch 97/100\n",
            "16/16 [==============================] - 2s 112ms/step - loss: 0.6715 - acc: 0.7937\n",
            "Epoch 98/100\n",
            "16/16 [==============================] - 2s 114ms/step - loss: 0.9460 - acc: 0.7562\n",
            "Epoch 99/100\n",
            "16/16 [==============================] - 2s 114ms/step - loss: 0.6577 - acc: 0.8187\n",
            "Epoch 100/100\n",
            "16/16 [==============================] - 2s 113ms/step - loss: 0.7813 - acc: 0.7688\n"
          ],
          "name": "stdout"
        },
        {
          "output_type": "execute_result",
          "data": {
            "text/plain": [
              "<keras.callbacks.History at 0x7faf01cf0978>"
            ]
          },
          "metadata": {
            "tags": []
          },
          "execution_count": 32
        }
      ]
    },
    {
      "metadata": {
        "id": "vjwjw11qdbi8",
        "colab_type": "text"
      },
      "cell_type": "markdown",
      "source": [
        "El tiempo de entrenamiento se reduce drasticamente cuando se utiliza GPU. En el entrenamiento con CPU  ha tardado al menos una hora. Mientras  que con GPU se ha realizado en minutos.\n"
      ]
    },
    {
      "metadata": {
        "id": "AW75skhgdSgu",
        "colab_type": "text"
      },
      "cell_type": "markdown",
      "source": [
        "**4 (0.5 puntos): Utilización de tf.data**. Si no se ha entrenado el modelo en el paso 2 con tf.data, repetir la ingesta de datos (incluyendo el preprocesamiento de imágenes) para el modelo utilizando tf.data.\n",
        "\n",
        "**5 [optativo] (1 punto extra). Implementar el modelo en TensorFlow Eager o TF de bajo nivel, sin usar tf.keras.** El bucle de entrenamiento batch a batch también tiene que hacerse utilizando operaciones de bajo nivel. En resumen, no vale utilizar capas de Keras como convoluciones o Dense ni funciones como .fit(), hay que implementarlas. Podéis programar el modelo sin embargo utilizando Keras subclassing (tf.keras.Model).\n",
        "\n",
        "**6 [optativo] (0.5 puntos extra). Utilizar data augmentation.** Utilizar la técnica de data augmentation y comentar los resultados. Esto puede conseguirse con la clase [ImageDataGenerator](https://keras.io/preprocessing/image/#imagedatagenerator-class) de Keras o con tf.data.\n",
        "\n",
        "\n",
        "Notas: \n",
        "* Recuerda que suele ser útil partir los datos en training/validation para tener una buena estimación de los valores que nuestro modelo tendrá en los datos de test, así como comprobar que no estamos cayendo en overfitting. Una posible partición puede ser 80 / 20.\n",
        "* No es necesario mostrar en el notebook las trazas de entrenamiento de todos los modelos entrenados, si bien una buena idea seria guardar gráficas de esos entrenamientos para su análisis. Sin embargo, recordar que **se debe mostrar el entrenamiento completo del modelo final obtenido y la evaluación de los datos de test con este modelo**.\n",
        "* Las imágenes **no están normalizadas**. Hay que normalizarlas (píxeles de 0 a 255 tienen que ir a un número real entre 0 y 1).\n",
        "* El test set del problema tiene imágenes un poco más \"fáciles\", por lo que es posible encontrarse con métricas en el test set bastante mejores que lo que vemos en el validation set de nuestro modelo.\n",
        "* No es necesario probar modelos tan grandes que tarden horas en entrenar. Es posible alcanzar la accuracy requerida con modelos que entrenan rápido en GPUs.\n",
        "* Ojo: los datos devueltos por las funciones *load_train_set* y *load_test_set* están ordenados personaje a personaje."
      ]
    },
    {
      "metadata": {
        "id": "013X0oqHdLsQ",
        "colab_type": "code",
        "outputId": "84db1ae8-732f-4867-8729-e08b562b146d",
        "colab": {
          "base_uri": "https://localhost:8080/",
          "height": 85
        }
      },
      "cell_type": "code",
      "source": [
        ""
      ],
      "execution_count": 0,
      "outputs": [
        {
          "output_type": "stream",
          "text": [
            "18992 train samples\n",
            "890 test samples\n",
            "(18992, 64, 64, 3)\n",
            "(18992, 64, 64, 3)\n"
          ],
          "name": "stdout"
        }
      ]
    },
    {
      "metadata": {
        "id": "fFAZgfv_fSkl",
        "colab_type": "code",
        "colab": {}
      },
      "cell_type": "code",
      "source": [
        ""
      ],
      "execution_count": 0,
      "outputs": []
    },
    {
      "metadata": {
        "id": "qTXcSwWIeFM_",
        "colab_type": "code",
        "outputId": "d93c8985-5486-4779-9617-710fbfcca316",
        "colab": {
          "base_uri": "https://localhost:8080/",
          "height": 306
        }
      },
      "cell_type": "code",
      "source": [
        "model = Sequential()\n",
        "model.add(Dense(4096, activation='relu', input_shape=(12288,)))\n",
        "model.add(Dropout(0.2))\n",
        "model.add(Dense(4096, activation='relu'))\n",
        "model.add(Dropout(0.2))\n",
        "model.add(Dense(num_classes, activation='softmax'))\n",
        "\n",
        "model.summary()"
      ],
      "execution_count": 0,
      "outputs": [
        {
          "output_type": "stream",
          "text": [
            "_________________________________________________________________\n",
            "Layer (type)                 Output Shape              Param #   \n",
            "=================================================================\n",
            "dense_85 (Dense)             (None, 4096)              50335744  \n",
            "_________________________________________________________________\n",
            "dropout_41 (Dropout)         (None, 4096)              0         \n",
            "_________________________________________________________________\n",
            "dense_86 (Dense)             (None, 4096)              16781312  \n",
            "_________________________________________________________________\n",
            "dropout_42 (Dropout)         (None, 4096)              0         \n",
            "_________________________________________________________________\n",
            "dense_87 (Dense)             (None, 47)                192559    \n",
            "=================================================================\n",
            "Total params: 67,309,615\n",
            "Trainable params: 67,309,615\n",
            "Non-trainable params: 0\n",
            "_________________________________________________________________\n"
          ],
          "name": "stdout"
        }
      ]
    },
    {
      "metadata": {
        "id": "d_ioim0TeOjR",
        "colab_type": "code",
        "colab": {}
      },
      "cell_type": "code",
      "source": [
        "model.compile(loss='categorical_crossentropy',\n",
        "              optimizer=RMSprop(),\n",
        "              metrics=['accuracy'])"
      ],
      "execution_count": 0,
      "outputs": []
    },
    {
      "metadata": {
        "id": "1jH7PQrCeVbH",
        "colab_type": "code",
        "outputId": "43a11a42-d932-452e-928a-772eb5418b7a",
        "colab": {
          "base_uri": "https://localhost:8080/",
          "height": 629
        }
      },
      "cell_type": "code",
      "source": [
        "history = model.fit(x_train, y_train,\n",
        "                    batch_size=batch_size,\n",
        "                    epochs=epochs,\n",
        "                    verbose=1,\n",
        "                   validation_data=(x_test, y_test))\n",
        "score = model.evaluate(x_test, y_test, verbose=0)\n",
        "print('Test loss:', score[0])\n",
        "print('Test accuracy:', score[1])"
      ],
      "execution_count": 0,
      "outputs": [
        {
          "output_type": "error",
          "ename": "ValueError",
          "evalue": "ignored",
          "traceback": [
            "\u001b[0;31m---------------------------------------------------------------------------\u001b[0m",
            "\u001b[0;31mValueError\u001b[0m                                Traceback (most recent call last)",
            "\u001b[0;32m<ipython-input-156-3f2049d2fa35>\u001b[0m in \u001b[0;36m<module>\u001b[0;34m()\u001b[0m\n\u001b[1;32m      3\u001b[0m                     \u001b[0mepochs\u001b[0m\u001b[0;34m=\u001b[0m\u001b[0mepochs\u001b[0m\u001b[0;34m,\u001b[0m\u001b[0;34m\u001b[0m\u001b[0;34m\u001b[0m\u001b[0m\n\u001b[1;32m      4\u001b[0m                     \u001b[0mverbose\u001b[0m\u001b[0;34m=\u001b[0m\u001b[0;36m1\u001b[0m\u001b[0;34m,\u001b[0m\u001b[0;34m\u001b[0m\u001b[0;34m\u001b[0m\u001b[0m\n\u001b[0;32m----> 5\u001b[0;31m                    validation_data=(x_test, y_test))\n\u001b[0m\u001b[1;32m      6\u001b[0m \u001b[0mscore\u001b[0m \u001b[0;34m=\u001b[0m \u001b[0mmodel\u001b[0m\u001b[0;34m.\u001b[0m\u001b[0mevaluate\u001b[0m\u001b[0;34m(\u001b[0m\u001b[0mx_test\u001b[0m\u001b[0;34m,\u001b[0m \u001b[0my_test\u001b[0m\u001b[0;34m,\u001b[0m \u001b[0mverbose\u001b[0m\u001b[0;34m=\u001b[0m\u001b[0;36m0\u001b[0m\u001b[0;34m)\u001b[0m\u001b[0;34m\u001b[0m\u001b[0;34m\u001b[0m\u001b[0m\n\u001b[1;32m      7\u001b[0m \u001b[0mprint\u001b[0m\u001b[0;34m(\u001b[0m\u001b[0;34m'Test loss:'\u001b[0m\u001b[0;34m,\u001b[0m \u001b[0mscore\u001b[0m\u001b[0;34m[\u001b[0m\u001b[0;36m0\u001b[0m\u001b[0;34m]\u001b[0m\u001b[0;34m)\u001b[0m\u001b[0;34m\u001b[0m\u001b[0;34m\u001b[0m\u001b[0m\n",
            "\u001b[0;32m/usr/local/lib/python3.6/dist-packages/keras/engine/training.py\u001b[0m in \u001b[0;36mfit\u001b[0;34m(self, x, y, batch_size, epochs, verbose, callbacks, validation_split, validation_data, shuffle, class_weight, sample_weight, initial_epoch, steps_per_epoch, validation_steps, **kwargs)\u001b[0m\n\u001b[1;32m    950\u001b[0m             \u001b[0msample_weight\u001b[0m\u001b[0;34m=\u001b[0m\u001b[0msample_weight\u001b[0m\u001b[0;34m,\u001b[0m\u001b[0;34m\u001b[0m\u001b[0;34m\u001b[0m\u001b[0m\n\u001b[1;32m    951\u001b[0m             \u001b[0mclass_weight\u001b[0m\u001b[0;34m=\u001b[0m\u001b[0mclass_weight\u001b[0m\u001b[0;34m,\u001b[0m\u001b[0;34m\u001b[0m\u001b[0;34m\u001b[0m\u001b[0m\n\u001b[0;32m--> 952\u001b[0;31m             batch_size=batch_size)\n\u001b[0m\u001b[1;32m    953\u001b[0m         \u001b[0;31m# Prepare validation data.\u001b[0m\u001b[0;34m\u001b[0m\u001b[0;34m\u001b[0m\u001b[0;34m\u001b[0m\u001b[0m\n\u001b[1;32m    954\u001b[0m         \u001b[0mdo_validation\u001b[0m \u001b[0;34m=\u001b[0m \u001b[0;32mFalse\u001b[0m\u001b[0;34m\u001b[0m\u001b[0;34m\u001b[0m\u001b[0m\n",
            "\u001b[0;32m/usr/local/lib/python3.6/dist-packages/keras/engine/training.py\u001b[0m in \u001b[0;36m_standardize_user_data\u001b[0;34m(self, x, y, sample_weight, class_weight, check_array_lengths, batch_size)\u001b[0m\n\u001b[1;32m    749\u001b[0m             \u001b[0mfeed_input_shapes\u001b[0m\u001b[0;34m,\u001b[0m\u001b[0;34m\u001b[0m\u001b[0;34m\u001b[0m\u001b[0m\n\u001b[1;32m    750\u001b[0m             \u001b[0mcheck_batch_axis\u001b[0m\u001b[0;34m=\u001b[0m\u001b[0;32mFalse\u001b[0m\u001b[0;34m,\u001b[0m  \u001b[0;31m# Don't enforce the batch size.\u001b[0m\u001b[0;34m\u001b[0m\u001b[0;34m\u001b[0m\u001b[0m\n\u001b[0;32m--> 751\u001b[0;31m             exception_prefix='input')\n\u001b[0m\u001b[1;32m    752\u001b[0m \u001b[0;34m\u001b[0m\u001b[0m\n\u001b[1;32m    753\u001b[0m         \u001b[0;32mif\u001b[0m \u001b[0my\u001b[0m \u001b[0;32mis\u001b[0m \u001b[0;32mnot\u001b[0m \u001b[0;32mNone\u001b[0m\u001b[0;34m:\u001b[0m\u001b[0;34m\u001b[0m\u001b[0;34m\u001b[0m\u001b[0m\n",
            "\u001b[0;32m/usr/local/lib/python3.6/dist-packages/keras/engine/training_utils.py\u001b[0m in \u001b[0;36mstandardize_input_data\u001b[0;34m(data, names, shapes, check_batch_axis, exception_prefix)\u001b[0m\n\u001b[1;32m    126\u001b[0m                         \u001b[0;34m': expected '\u001b[0m \u001b[0;34m+\u001b[0m \u001b[0mnames\u001b[0m\u001b[0;34m[\u001b[0m\u001b[0mi\u001b[0m\u001b[0;34m]\u001b[0m \u001b[0;34m+\u001b[0m \u001b[0;34m' to have '\u001b[0m \u001b[0;34m+\u001b[0m\u001b[0;34m\u001b[0m\u001b[0;34m\u001b[0m\u001b[0m\n\u001b[1;32m    127\u001b[0m                         \u001b[0mstr\u001b[0m\u001b[0;34m(\u001b[0m\u001b[0mlen\u001b[0m\u001b[0;34m(\u001b[0m\u001b[0mshape\u001b[0m\u001b[0;34m)\u001b[0m\u001b[0;34m)\u001b[0m \u001b[0;34m+\u001b[0m \u001b[0;34m' dimensions, but got array '\u001b[0m\u001b[0;34m\u001b[0m\u001b[0;34m\u001b[0m\u001b[0m\n\u001b[0;32m--> 128\u001b[0;31m                         'with shape ' + str(data_shape))\n\u001b[0m\u001b[1;32m    129\u001b[0m                 \u001b[0;32mif\u001b[0m \u001b[0;32mnot\u001b[0m \u001b[0mcheck_batch_axis\u001b[0m\u001b[0;34m:\u001b[0m\u001b[0;34m\u001b[0m\u001b[0;34m\u001b[0m\u001b[0m\n\u001b[1;32m    130\u001b[0m                     \u001b[0mdata_shape\u001b[0m \u001b[0;34m=\u001b[0m \u001b[0mdata_shape\u001b[0m\u001b[0;34m[\u001b[0m\u001b[0;36m1\u001b[0m\u001b[0;34m:\u001b[0m\u001b[0;34m]\u001b[0m\u001b[0;34m\u001b[0m\u001b[0;34m\u001b[0m\u001b[0m\n",
            "\u001b[0;31mValueError\u001b[0m: Error when checking input: expected dense_85_input to have 2 dimensions, but got array with shape (18992, 64, 64, 3)"
          ]
        }
      ]
    }
  ]
}