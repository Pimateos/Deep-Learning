{
  "nbformat": 4,
  "nbformat_minor": 0,
  "metadata": {
    "colab": {
      "name": "PrácticaFinal.ipynb",
      "version": "0.3.2",
      "provenance": [],
      "collapsed_sections": [],
      "toc_visible": true,
      "include_colab_link": true
    },
    "kernelspec": {
      "name": "python3",
      "display_name": "Python 3"
    },
    "accelerator": "GPU"
  },
  "cells": [
    {
      "cell_type": "markdown",
      "metadata": {
        "id": "view-in-github",
        "colab_type": "text"
      },
      "source": [
        "<a href=\"https://colab.research.google.com/github/Pimateos/Deep-Learning/blob/master/Pr%C3%A1cticaFinal.ipynb\" target=\"_parent\"><img src=\"https://colab.research.google.com/assets/colab-badge.svg\" alt=\"Open In Colab\"/></a>"
      ]
    },
    {
      "metadata": {
        "colab_type": "text",
        "id": "5H1nWhikvlVl"
      },
      "cell_type": "markdown",
      "source": [
        "# Parte 1: Cuestionario (2.5 puntos)"
      ]
    },
    {
      "metadata": {
        "colab_type": "text",
        "id": "ggztemaDwvQC"
      },
      "cell_type": "markdown",
      "source": [
        "### 1.1 *(0.5 puntos)* Explicar por qué es preferible hacer np.dot(X, Y), donde X e Y son arrays bidimensionales, que ejecutar un triple bucle con el algoritmo básico de la multiplicación de matrices."
      ]
    },
    {
      "metadata": {
        "colab_type": "text",
        "id": "fmPuCTrqxFbS"
      },
      "cell_type": "markdown",
      "source": [
        "Porque numpy calcula en paralelo las matrices en lugar del metodo clasico que se itera."
      ]
    },
    {
      "metadata": {
        "colab_type": "text",
        "id": "FLtL4jdOxJNY"
      },
      "cell_type": "markdown",
      "source": [
        "### 1.2 *(0.5 puntos)* Explicar qué ventajas nos aporta utilizar un grafo de computación a la hora de entrenar redes neuronales."
      ]
    },
    {
      "metadata": {
        "colab_type": "text",
        "id": "JvFvPIkix044"
      },
      "cell_type": "markdown",
      "source": [
        "Sabemos el orden que tienen las operaciones y si son compatibles.\n",
        "\n",
        "Mas velocidad de ejecución.\n",
        "\n",
        "Nos permite poder establecer el punto desde el cual queremos computar. Ademas de establecer paralelismos. Esto nos ayuda a ejecutar en entornos distribuidos y/o GPUs.\n",
        "\n",
        "Los frameworks modernos tienen operaciones embebidas en los nodos de los grafos, por ejemplo, el backward propagation.  Esto lo hacen automaticamente y es muy importante en redes muy grandes(autodiferenciación)"
      ]
    },
    {
      "metadata": {
        "colab_type": "text",
        "id": "tsZHOJWdx2yV"
      },
      "cell_type": "markdown",
      "source": [
        "### 1.3 *(0.5 puntos)* Hemos visto cómo con TensorFlow es posible añadir una operación de optimización (como *tf.train.GradientDescentOptimizer*) y aplicar con ésta la minimización de la función de pérdida. Explicar cómo afecta esto al grafo de computación y cuál es su relación con el entrenamiento de una red neuronal."
      ]
    },
    {
      "metadata": {
        "colab_type": "text",
        "id": "i_c_BBjzx25o"
      },
      "cell_type": "markdown",
      "source": [
        "Gradient Descent Optimizer nos permite calcular el array cuando tenemos variables variables minimizando el error de las mismas al valor que establezcamos, pero computandola optimizando el calculo de matrices."
      ]
    },
    {
      "metadata": {
        "colab_type": "text",
        "id": "1vFhP_iYx281"
      },
      "cell_type": "markdown",
      "source": [
        "### 1.4 *(0.5 puntos)* ¿Qué diferencias hay entre grafos estáticos y grafos dinámicos?\n",
        "\n",
        "\n"
      ]
    },
    {
      "metadata": {
        "colab_type": "text",
        "id": "xcgjyogx0FOw"
      },
      "cell_type": "markdown",
      "source": [
        "Los grafos estáticos se calculan antes de ejecutar el código. Mientras que los grafos dinámicos se calculan mientras se estan ejecutando. Pytorch los calcula dinámicamente. Mientras que Tensorflow estáticamente en versiones antiguas. A partir de Tensorflow 2.0 se calculan por defecto dinámicamente y se puede cambiar a forma estática.\n",
        "\n",
        "Los grafos dinamicos son buenos para experimentación. Sin embargo, para producción son mejores los estáticos."
      ]
    },
    {
      "metadata": {
        "colab_type": "text",
        "id": "0Rm79mkb0FT3"
      },
      "cell_type": "markdown",
      "source": [
        "### 1.5 *(0.5 puntos)* Algunas ops en redes neuronales tienen un comportamiento diferente durante *training time* (cuando entrenamos la red) que durante *inference time* (cuando utilizamos la red ya entrenada). Da un ejemplo de una operación usada en redes neuronales de este tipo y explicar la diferencia en ejecución. ¿Qué consecuencias tiene esto en relación al grafo de computación?"
      ]
    },
    {
      "metadata": {
        "colab_type": "text",
        "id": "32uwO8Gc0FYf"
      },
      "cell_type": "markdown",
      "source": [
        "Dropout se utiliza para prevenir el overfitting. No teniendo en cuenta aleatoriamente una neurona. Consiguiendo con su introduccion en el entrenamiento, modelos mas robustos.\n",
        "\n",
        "En la parte de inferencia no tendria sentido utilizar esta técnica, ya que, ya tenemos entrenada la red y no tendria sentido meter un componente aleatorio en la predicción también. Porque la salida nos daria una predicción aleatoria.\n"
      ]
    },
    {
      "metadata": {
        "colab_type": "text",
        "id": "mX8gZlVyCCbz"
      },
      "cell_type": "markdown",
      "source": [
        "# Parte 2: Laboratorio (7.5 puntos)\n",
        "\n",
        "---\n",
        "\n",
        "\n",
        "\n",
        "En este laboratorio, vamos a trabajar con Convolutional Neural Networks para resolver un problema de clasificación de imágenes. En particular, vamos a clasificar imágenes de personajes de la conocida serie de los Simpsons.\n",
        "\n",
        "Como las CNN profundas son un tipo de modelo bastante avanzado y computacionalmente costoso, se recomienda hacer la práctica en Google Colaboratory con soporte para GPUs. En [este enlace](https://medium.com/deep-learning-turkey/google-colab-free-gpu-tutorial-e113627b9f5d) se explica cómo activar un entorno con GPUs. *Nota: para leer las imágenes y estandarizarlas al mismo tamaño se usa la librería opencv. Esta ĺibrería está ya instalada en el entorno de Colab, pero si trabajáis de manera local tendréis que instalarla.*\n",
        "\n",
        "<center><img src=\"https://i.imgur.com/i8zIGqX.jpg\" style=\"text-align: center\" height=\"300px\"></center>\n",
        "\n",
        "El dataset a utilizar consiste en imágenes de personajes de los Simpsons extraídas directamente de capítulos de la serie. Este dataset ha sido recopilado por [Alexandre Attia](http://www.alexattia.fr/) y es más complejo que el clásico dataset de MNIST. Aparte de tener más clases (vamos a utilizar los 18 personajes con más imágenes), los personajes pueden aparecer en distintas poses, en distintas posiciones de la imagen o con otros personajes en pantalla (si bien el personaje a clasificar siempre aparece en la posición predominante).\n",
        "\n",
        "El dataset de training puede ser descargado desde aquí:\n",
        "\n",
        "[Training data](https://onedrive.live.com/download?cid=C506CF0A4F373B0F&resid=C506CF0A4F373B0F%219337&authkey=AMzI92bJPx8Sd60) (~500MB)\n",
        "\n",
        "Por otro lado, el dataset de test puede ser descargado de aquí:\n",
        "\n",
        "[Test data](https://onedrive.live.com/download?cid=C506CF0A4F373B0F&resid=C506CF0A4F373B0F%219341&authkey=ANnjK3Uq1FhuAe8) (~10MB)\n",
        "\n",
        "Antes de empezar la práctica, se recomienda descargar las imágenes y echarlas un vistazo.\n"
      ]
    },
    {
      "metadata": {
        "colab_type": "text",
        "id": "QI274F8LQC59"
      },
      "cell_type": "markdown",
      "source": [
        "## Carga de los datos"
      ]
    },
    {
      "metadata": {
        "colab_type": "code",
        "id": "D7tKOZ9BFfki",
        "colab": {}
      },
      "cell_type": "code",
      "source": [
        "import cv2\n",
        "import os\n",
        "import numpy as np \n",
        "import keras\n",
        "import matplotlib.pyplot as plt\n",
        "import glob\n",
        "\n",
        "\n",
        "# Primero, bajamos los datos de entrenamiento\n",
        "keras.utils.get_file(fname=\"simpsons_train.tar.gz\", \n",
        "                     origin=\"https://onedrive.live.com/download?cid=C506CF0A4F373B0F&resid=C506CF0A4F373B0F%219337&authkey=AMzI92bJPx8Sd60\")\n",
        "\n",
        "# Descomprimimos el archivo\n",
        "!tar -xzf /root/.keras/datasets/simpsons_train.tar.gz -C /root/.keras/datasets\n",
        "\n",
        "# Hacemos lo mismo con los datos de test\n",
        "keras.utils.get_file(fname=\"simpsons_test.tar.gz\", \n",
        "                     origin=\"https://onedrive.live.com/download?cid=C506CF0A4F373B0F&resid=C506CF0A4F373B0F%219341&authkey=ANnjK3Uq1FhuAe8\")\n",
        "!tar -xzf /root/.keras/datasets/simpsons_test.tar.gz -C /root/.keras/datasets"
      ],
      "execution_count": 0,
      "outputs": []
    },
    {
      "metadata": {
        "colab_type": "code",
        "id": "hMFhe3COFwSD",
        "colab": {}
      },
      "cell_type": "code",
      "source": [
        "# Esta variable contiene un mapeo de número de clase a personaje.\n",
        "# Utilizamos sólo los 18 personajes del dataset que tienen más imágenes.\n",
        "MAP_CHARACTERS = {\n",
        "    0: 'abraham_grampa_simpson', 1: 'apu_nahasapeemapetilon', 2: 'bart_simpson',\n",
        "    3: 'charles_montgomery_burns', 4: 'chief_wiggum', 5: 'comic_book_guy', 6: 'edna_krabappel', \n",
        "    7: 'homer_simpson', 8: 'kent_brockman', 9: 'krusty_the_clown', 10: 'lisa_simpson', \n",
        "    11: 'marge_simpson', 12: 'milhouse_van_houten', 13: 'moe_szyslak', \n",
        "    14: 'ned_flanders', 15: 'nelson_muntz', 16: 'principal_skinner', 17: 'sideshow_bob'\n",
        "}\n",
        "\n",
        "# Vamos a standarizar todas las imágenes a tamaño 64x64\n",
        "IMG_SIZE = 64"
      ],
      "execution_count": 0,
      "outputs": []
    },
    {
      "metadata": {
        "colab_type": "code",
        "id": "5bJ0NsbCbupF",
        "colab": {}
      },
      "cell_type": "code",
      "source": [
        "def load_train_set(dirname, map_characters, verbose=True):\n",
        "    \"\"\"Esta función carga los datos de training en imágenes.\n",
        "    \n",
        "    Como las imágenes tienen tamaños distintas, utilizamos la librería opencv\n",
        "    para hacer un resize y adaptarlas todas a tamaño IMG_SIZE x IMG_SIZE.\n",
        "    \n",
        "    Args:\n",
        "        dirname: directorio completo del que leer los datos\n",
        "        map_characters: variable de mapeo entre labels y personajes\n",
        "        verbose: si es True, muestra información de las imágenes cargadas\n",
        "     \n",
        "    Returns:\n",
        "        X, y: X es un array con todas las imágenes cargadas con tamaño\n",
        "                IMG_SIZE x IMG_SIZE\n",
        "              y es un array con las labels de correspondientes a cada imagen\n",
        "    \"\"\"\n",
        "    X_train = []\n",
        "    y_train = []\n",
        "    for label, character in map_characters.items():        \n",
        "        files = os.listdir(os.path.join(dirname, character))\n",
        "        images = [file for file in files if file.endswith(\"jpg\")]\n",
        "        if verbose:\n",
        "          print(\"Leyendo {} imágenes encontradas de {}\".format(len(images), character))\n",
        "        for image_name in images:\n",
        "            image = cv2.imread(os.path.join(dirname, character, image_name))\n",
        "            X_train.append(cv2.resize(image,(IMG_SIZE, IMG_SIZE)))\n",
        "            y_train.append(label)\n",
        "    return np.array(X_train), np.array(y_train)\n"
      ],
      "execution_count": 0,
      "outputs": []
    },
    {
      "metadata": {
        "colab_type": "code",
        "id": "NslxhnnDK6uA",
        "colab": {}
      },
      "cell_type": "code",
      "source": [
        "def load_test_set(dirname, map_characters, verbose=True):\n",
        "    \"\"\"Esta función funciona de manera equivalente a la función load_train_set\n",
        "    pero cargando los datos de test.\"\"\"\n",
        "    X_test = []\n",
        "    y_test = []\n",
        "    reverse_dict = {v: k for k, v in map_characters.items()}\n",
        "    for filename in glob.glob(dirname + '/*.*'):\n",
        "        char_name = \"_\".join(filename.split('/')[-1].split('_')[:-1])\n",
        "        if char_name in reverse_dict:\n",
        "            image = cv2.imread(filename)\n",
        "            image = cv2.resize(image, (IMG_SIZE, IMG_SIZE))\n",
        "            X_test.append(image)\n",
        "            y_test.append(reverse_dict[char_name])\n",
        "    if verbose:\n",
        "        print(\"Leídas {} imágenes de test\".format(len(X_test)))\n",
        "    return np.array(X_test), np.array(y_test)\n"
      ],
      "execution_count": 0,
      "outputs": []
    },
    {
      "metadata": {
        "colab_type": "code",
        "id": "WVWqKxFcbwTu",
        "outputId": "146da7e8-6505-46d2-ec38-018824dd86ad",
        "colab": {
          "base_uri": "https://localhost:8080/",
          "height": 340
        }
      },
      "cell_type": "code",
      "source": [
        "# Cargamos los datos. Si no estás trabajando en colab, cambia los paths por\n",
        "# los de los ficheros donde hayas descargado los datos.\n",
        "DATASET_TRAIN_PATH_COLAB = \"/root/.keras/datasets/simpsons\"\n",
        "DATASET_TEST_PATH_COLAB = \"/root/.keras/datasets/simpsons_testset\"\n",
        "\n",
        "X, y = load_train_set(DATASET_TRAIN_PATH_COLAB, MAP_CHARACTERS)\n",
        "X_t, y_t = load_test_set(DATASET_TEST_PATH_COLAB, MAP_CHARACTERS)"
      ],
      "execution_count": 29,
      "outputs": [
        {
          "output_type": "stream",
          "text": [
            "Leyendo 913 imágenes encontradas de abraham_grampa_simpson\n",
            "Leyendo 623 imágenes encontradas de apu_nahasapeemapetilon\n",
            "Leyendo 1342 imágenes encontradas de bart_simpson\n",
            "Leyendo 1193 imágenes encontradas de charles_montgomery_burns\n",
            "Leyendo 986 imágenes encontradas de chief_wiggum\n",
            "Leyendo 469 imágenes encontradas de comic_book_guy\n",
            "Leyendo 457 imágenes encontradas de edna_krabappel\n",
            "Leyendo 2246 imágenes encontradas de homer_simpson\n",
            "Leyendo 498 imágenes encontradas de kent_brockman\n",
            "Leyendo 1206 imágenes encontradas de krusty_the_clown\n",
            "Leyendo 1354 imágenes encontradas de lisa_simpson\n",
            "Leyendo 1291 imágenes encontradas de marge_simpson\n",
            "Leyendo 1079 imágenes encontradas de milhouse_van_houten\n",
            "Leyendo 1452 imágenes encontradas de moe_szyslak\n",
            "Leyendo 1454 imágenes encontradas de ned_flanders\n",
            "Leyendo 358 imágenes encontradas de nelson_muntz\n",
            "Leyendo 1194 imágenes encontradas de principal_skinner\n",
            "Leyendo 877 imágenes encontradas de sideshow_bob\n",
            "Leídas 890 imágenes de test\n"
          ],
          "name": "stdout"
        }
      ]
    },
    {
      "metadata": {
        "colab_type": "text",
        "id": "pBbmz9DMhVhc"
      },
      "cell_type": "markdown",
      "source": [
        "## Entregable\n",
        "\n",
        "Utilizando Convolutional Neural Networks con TensorFlow (ya sea tf.keras, TensorFlow Eager, o TensorFlow tradicional), entrenar un clasificador que sea capaz de reconocer personajes en imágenes de los Simpsons con una accuracy en el dataset de test de **88%**. Redactar un informe analizando varias de las alternativas probadas y los resultados obtenidos.\n",
        "\n",
        "El entregable (en formato .ipynb, aunque puede apoyarse con un archivo pdf) tiene que contener los siguientes elementos:\n",
        "\n",
        "**1 (1.5 puntos): Implementación con una red neuronal clásica**. Implementar primero un modelo feed-forward clásico, sin convoluciones. Mostrar código y  resultados de entrenamiento y accuracy en el test set.\n",
        "\n"
      ]
    },
    {
      "metadata": {
        "id": "zu2H1KqzsNdu",
        "colab_type": "code",
        "outputId": "2950a701-00f5-4a9f-a0cb-465f3d1c9149",
        "colab": {
          "base_uri": "https://localhost:8080/",
          "height": 51
        }
      },
      "cell_type": "code",
      "source": [
        "print(X.shape)\n",
        "print(X_t.shape)"
      ],
      "execution_count": 30,
      "outputs": [
        {
          "output_type": "stream",
          "text": [
            "(18992, 64, 64, 3)\n",
            "(890, 64, 64, 3)\n"
          ],
          "name": "stdout"
        }
      ]
    },
    {
      "metadata": {
        "id": "n_4L-HYngDje",
        "colab_type": "code",
        "colab": {}
      },
      "cell_type": "code",
      "source": [
        "def plot_history(history):\n",
        "    \n",
        "    # Plot training & validation accuracy values\n",
        "    plt.plot(history.history['acc'])\n",
        "    plt.plot(history.history['val_acc'])\n",
        "    plt.title('Model accuracy')\n",
        "    plt.ylabel('Accuracy')\n",
        "    plt.xlabel('Epoch')\n",
        "    plt.legend(['Train', 'Test'], loc='upper left')\n",
        "    plt.show()\n",
        "\n",
        "    # Plot training & validation loss values\n",
        "    plt.plot(history.history['loss'])\n",
        "    plt.plot(history.history['val_loss'])\n",
        "    plt.title('Model loss')\n",
        "    plt.ylabel('Loss')\n",
        "    plt.xlabel('Epoch')\n",
        "    plt.legend(['Train', 'Test'], loc='upper left')\n",
        "    plt.show()"
      ],
      "execution_count": 0,
      "outputs": []
    },
    {
      "metadata": {
        "id": "Iwq-DPLbqzG6",
        "colab_type": "code",
        "colab": {}
      },
      "cell_type": "code",
      "source": [
        "from __future__ import print_function\n",
        "\n",
        "import keras\n",
        "from keras.datasets import mnist\n",
        "from keras.models import Sequential\n",
        "from keras.layers import Dense, Dropout, Flatten\n",
        "from keras.optimizers import RMSprop\n",
        "from keras import backend as K\n"
      ],
      "execution_count": 0,
      "outputs": []
    },
    {
      "metadata": {
        "id": "7m9YDLS7Ef9r",
        "colab_type": "code",
        "colab": {}
      },
      "cell_type": "code",
      "source": [
        "batch_size = 32\n",
        "num_classes = 18\n",
        "epochs = 20\n",
        "\n"
      ],
      "execution_count": 0,
      "outputs": []
    },
    {
      "metadata": {
        "id": "2HL3OIeUCWQx",
        "colab_type": "code",
        "outputId": "1454e274-9a54-4fd2-c37b-5fa3ac1d5f51",
        "colab": {
          "base_uri": "https://localhost:8080/",
          "height": 68
        }
      },
      "cell_type": "code",
      "source": [
        "# the data, split between train and test sets\n",
        "img_rows=64\n",
        "img_cols=64\n",
        "if K.image_data_format() == 'channels_first':\n",
        "    x_train = X.reshape(X.shape[0], 1, img_rows, img_cols)\n",
        "    x_test = X_t.reshape(X_t.shape[0], 1, img_rows, img_cols)\n",
        "    input_shape = (1, img_rows, img_cols)\n",
        "else:\n",
        "    x_train = X.reshape(X.shape[0], img_rows, img_cols,3)\n",
        "    x_test = X_t.reshape(X_t.shape[0], img_rows, img_cols,3)\n",
        "    input_shape = (img_rows, img_cols,3)\n",
        "\n",
        "x_train = x_train.astype('float32')\n",
        "x_test = x_test.astype('float32')\n",
        "x_train /= 255\n",
        "x_test /= 255\n",
        "y_train= y\n",
        "y_test=y_t\n",
        "print('x_train shape:', x_train.shape)\n",
        "print(x_train.shape[0], 'train samples')\n",
        "print(x_test.shape[0], 'test samples')\n",
        "\n",
        "# convert class vectors to binary class matrices\n",
        "y_train = keras.utils.to_categorical(y_train, num_classes)\n",
        "y_test = keras.utils.to_categorical(y_test, num_classes)\n"
      ],
      "execution_count": 34,
      "outputs": [
        {
          "output_type": "stream",
          "text": [
            "x_train shape: (18992, 64, 64, 3)\n",
            "18992 train samples\n",
            "890 test samples\n"
          ],
          "name": "stdout"
        }
      ]
    },
    {
      "metadata": {
        "id": "SmJW2gmtuSOC",
        "colab_type": "code",
        "outputId": "bd66b1c8-9091-4370-918f-2d0b4a234c73",
        "colab": {
          "base_uri": "https://localhost:8080/",
          "height": 68
        }
      },
      "cell_type": "code",
      "source": [
        "print(64*64*3)\n",
        "print(input_shape)\n",
        "print(x_test.shape)"
      ],
      "execution_count": 35,
      "outputs": [
        {
          "output_type": "stream",
          "text": [
            "12288\n",
            "(64, 64, 3)\n",
            "(890, 64, 64, 3)\n"
          ],
          "name": "stdout"
        }
      ]
    },
    {
      "metadata": {
        "id": "DsxJ4lINtw4I",
        "colab_type": "code",
        "outputId": "a0c475fa-5089-4b70-ee71-9dbbae5c33f2",
        "colab": {
          "base_uri": "https://localhost:8080/",
          "height": 340
        }
      },
      "cell_type": "code",
      "source": [
        "model = Sequential()\n",
        "model.add(Dense(3, activation='relu', input_shape=input_shape))\n",
        "model.add(Dropout(0.2))\n",
        "model.add(Dense(512, activation='relu'))\n",
        "model.add(Dropout(0.2))\n",
        "model.add(Flatten())\n",
        "model.add(Dense(num_classes, activation='softmax'))\n",
        "model.summary()"
      ],
      "execution_count": 36,
      "outputs": [
        {
          "output_type": "stream",
          "text": [
            "_________________________________________________________________\n",
            "Layer (type)                 Output Shape              Param #   \n",
            "=================================================================\n",
            "dense_4 (Dense)              (None, 64, 64, 3)         12        \n",
            "_________________________________________________________________\n",
            "dropout_3 (Dropout)          (None, 64, 64, 3)         0         \n",
            "_________________________________________________________________\n",
            "dense_5 (Dense)              (None, 64, 64, 512)       2048      \n",
            "_________________________________________________________________\n",
            "dropout_4 (Dropout)          (None, 64, 64, 512)       0         \n",
            "_________________________________________________________________\n",
            "flatten_2 (Flatten)          (None, 2097152)           0         \n",
            "_________________________________________________________________\n",
            "dense_6 (Dense)              (None, 18)                37748754  \n",
            "=================================================================\n",
            "Total params: 37,750,814\n",
            "Trainable params: 37,750,814\n",
            "Non-trainable params: 0\n",
            "_________________________________________________________________\n"
          ],
          "name": "stdout"
        }
      ]
    },
    {
      "metadata": {
        "id": "jZAcCmK5t0IK",
        "colab_type": "code",
        "colab": {}
      },
      "cell_type": "code",
      "source": [
        "model.compile(loss='categorical_crossentropy',\n",
        "              optimizer=RMSprop(),\n",
        "              metrics=['accuracy'])\n",
        "history = model.fit(x_train, y_train,\n",
        "                    batch_size=batch_size,\n",
        "                    epochs=epochs,\n",
        "                    verbose=1,\n",
        "                    validation_data=(x_test, y_test),shuffle=True)\n",
        "\n",
        "score = model.evaluate(x_test, y_test, verbose=0)\n",
        "print('Test loss:', score[0])\n",
        "print('Test accuracy:', score[1])\n",
        "plot_history(history)"
      ],
      "execution_count": 0,
      "outputs": []
    },
    {
      "metadata": {
        "id": "B4GD0ck6q0SE",
        "colab_type": "text"
      },
      "cell_type": "markdown",
      "source": [
        "**2 (4.5 puntos): Implementación con CNNs**. Implementar una arquitectura CNN que consiga un 88% de accuracy en el test set. Mostrar código y resultados de entrenamiento y accuracy en el test set. Explicar brevemente la arquitectura utilizada y las pruebas realizadas.\n",
        "\n"
      ]
    },
    {
      "metadata": {
        "id": "ZrSD_W_WcQbX",
        "colab_type": "text"
      },
      "cell_type": "markdown",
      "source": [
        "# Implementacion con CNN"
      ]
    },
    {
      "metadata": {
        "id": "h2uOAt1Vu_kd",
        "colab_type": "code",
        "colab": {}
      },
      "cell_type": "code",
      "source": [
        "from keras.models import Sequential\n",
        "from keras.layers import Conv2D\n",
        "from keras.layers import MaxPooling2D\n",
        "from keras.layers import Flatten\n",
        "from keras.layers import Dense\n",
        "from keras.preprocessing.image import ImageDataGenerator\n",
        "from timeit import default_timer as timer\n",
        "from keras.preprocessing import image\n",
        "import numpy as np\n",
        "import os\n",
        "image_height = 64\n",
        "image_width = 64"
      ],
      "execution_count": 0,
      "outputs": []
    },
    {
      "metadata": {
        "id": "FETKEBIS8aI7",
        "colab_type": "code",
        "outputId": "b3d1fe95-8087-4a70-bc15-ff5a7e0a9ded",
        "colab": {
          "base_uri": "https://localhost:8080/",
          "height": 340
        }
      },
      "cell_type": "code",
      "source": [
        "# Cargamos los datos. Si no estás trabajando en colab, cambia los paths por\n",
        "# los de los ficheros donde hayas descargado los datos.\n",
        "DATASET_TRAIN_PATH_COLAB = \"/root/.keras/datasets/simpsons\"\n",
        "DATASET_TEST_PATH_COLAB = \"/root/.keras/datasets/simpsons_testset\"\n",
        "\n",
        "X, y = load_train_set(DATASET_TRAIN_PATH_COLAB, MAP_CHARACTERS)\n",
        "X_t, y_t = load_test_set(DATASET_TEST_PATH_COLAB, MAP_CHARACTERS)"
      ],
      "execution_count": 39,
      "outputs": [
        {
          "output_type": "stream",
          "text": [
            "Leyendo 913 imágenes encontradas de abraham_grampa_simpson\n",
            "Leyendo 623 imágenes encontradas de apu_nahasapeemapetilon\n",
            "Leyendo 1342 imágenes encontradas de bart_simpson\n",
            "Leyendo 1193 imágenes encontradas de charles_montgomery_burns\n",
            "Leyendo 986 imágenes encontradas de chief_wiggum\n",
            "Leyendo 469 imágenes encontradas de comic_book_guy\n",
            "Leyendo 457 imágenes encontradas de edna_krabappel\n",
            "Leyendo 2246 imágenes encontradas de homer_simpson\n",
            "Leyendo 498 imágenes encontradas de kent_brockman\n",
            "Leyendo 1206 imágenes encontradas de krusty_the_clown\n",
            "Leyendo 1354 imágenes encontradas de lisa_simpson\n",
            "Leyendo 1291 imágenes encontradas de marge_simpson\n",
            "Leyendo 1079 imágenes encontradas de milhouse_van_houten\n",
            "Leyendo 1452 imágenes encontradas de moe_szyslak\n",
            "Leyendo 1454 imágenes encontradas de ned_flanders\n",
            "Leyendo 358 imágenes encontradas de nelson_muntz\n",
            "Leyendo 1194 imágenes encontradas de principal_skinner\n",
            "Leyendo 877 imágenes encontradas de sideshow_bob\n",
            "Leídas 890 imágenes de test\n"
          ],
          "name": "stdout"
        }
      ]
    },
    {
      "metadata": {
        "id": "zjmOy024A6SB",
        "colab_type": "code",
        "outputId": "7bdc472d-2086-45b8-8e64-3204c9ad9598",
        "colab": {
          "base_uri": "https://localhost:8080/",
          "height": 68
        }
      },
      "cell_type": "code",
      "source": [
        "from __future__ import print_function\n",
        "import keras\n",
        "from keras.datasets import mnist\n",
        "from keras.models import Sequential\n",
        "from keras.layers import Dense, Dropout, Flatten\n",
        "from keras.layers import Conv2D, MaxPooling2D\n",
        "from keras import backend as K\n",
        "\n",
        "batch_size = 128\n",
        "num_classes = 18\n",
        "epochs = 20\n",
        "#Se realiza el reshape y se normaliza para poder entrenar la red neuronal\n",
        "img_rows=64\n",
        "img_cols=64\n",
        "if K.image_data_format() == 'channels_first':\n",
        "    x_train = X.reshape(X.shape[0], 3, img_rows, img_cols)\n",
        "    x_test = X_t.reshape(X_t.shape[0],3, img_rows, img_cols)\n",
        "    input_shape = (3, img_rows, img_cols)\n",
        "else:\n",
        "    x_train = X.reshape(X.shape[0], img_rows, img_cols,3)\n",
        "    x_test = X_t.reshape(X_t.shape[0], img_rows, img_cols,3)\n",
        "    input_shape = (img_rows, img_cols,3)\n",
        "\n",
        "x_train = x_train.astype('float32')\n",
        "x_test = x_test.astype('float32')\n",
        "x_train /= 255\n",
        "x_test /= 255\n",
        "y_train= y\n",
        "y_test=y_t\n",
        "print('x_train shape:', x_train.shape)\n",
        "print(x_train.shape[0], 'train samples')\n",
        "print(x_test.shape[0], 'test samples')\n",
        "\n",
        "# Se convierte las clases en matrices\n",
        "y_train = keras.utils.to_categorical(y_train, num_classes)\n",
        "y_test = keras.utils.to_categorical(y_test, num_classes)\n",
        "\n",
        "\n",
        "\n",
        "\n",
        "\n",
        "\n",
        "\n",
        "\n"
      ],
      "execution_count": 45,
      "outputs": [
        {
          "output_type": "stream",
          "text": [
            "x_train shape: (18992, 64, 64, 3)\n",
            "18992 train samples\n",
            "890 test samples\n"
          ],
          "name": "stdout"
        }
      ]
    },
    {
      "metadata": {
        "id": "kishhiUPEZdc",
        "colab_type": "code",
        "outputId": "81e89717-233f-4000-d755-59c69f47f434",
        "colab": {
          "base_uri": "https://localhost:8080/",
          "height": 34
        }
      },
      "cell_type": "code",
      "source": [
        "x_train.shape"
      ],
      "execution_count": 41,
      "outputs": [
        {
          "output_type": "execute_result",
          "data": {
            "text/plain": [
              "(18992, 64, 64, 3)"
            ]
          },
          "metadata": {
            "tags": []
          },
          "execution_count": 41
        }
      ]
    },
    {
      "metadata": {
        "id": "mTjxYRo3EeTU",
        "colab_type": "code",
        "outputId": "71ccbc89-43d9-4a4b-aefe-e3f0494583b7",
        "colab": {
          "base_uri": "https://localhost:8080/",
          "height": 34
        }
      },
      "cell_type": "code",
      "source": [
        "x_test.shape"
      ],
      "execution_count": 18,
      "outputs": [
        {
          "output_type": "execute_result",
          "data": {
            "text/plain": [
              "(890, 64, 64, 3)"
            ]
          },
          "metadata": {
            "tags": []
          },
          "execution_count": 18
        }
      ]
    },
    {
      "metadata": {
        "id": "bjmNyihvCPsn",
        "colab_type": "code",
        "colab": {}
      },
      "cell_type": "code",
      "source": [
        "from keras.preprocessing.image import ImageDataGenerator, array_to_img, img_to_array, load_img\n",
        "from keras.models import Sequential\n",
        "from keras.layers import Conv2D, MaxPooling2D\n",
        "from keras.layers import Activation, Dropout, Flatten, Dense\n",
        "from keras import backend as K\n",
        "import os\n",
        "import sys\n",
        "import tarfile\n",
        "import numpy as np\n",
        "img_width, img_height = 64, 64\n",
        "#Se establece el input_shape de la red neuronal con los channels y las dimensiones de las imagenes 64 y 64 (altura y anchura)\n",
        "if K.image_data_format() == 'channels_first':\n",
        "    input_shape = (img_width, img_height,3)\n",
        "else:\n",
        "    input_shape = (3,img_width, img_height)\n",
        "#Se crea la red neuronal convolucional con 3 capas convolucionales y 3 capas densas. Se añade dropout del 50% para que no se sobreentrene y como es tenemos 18 clases\n",
        "#se añade una capa final densa con el numero de clases 18 y con funcion de activacion softmax\n",
        "model = Sequential()\n",
        "model.add(Conv2D(64, (3, 3), input_shape=(64,64,3)))\n",
        "model.add(Activation('relu'))\n",
        "#model.add(MaxPooling2D(pool_size=(2, 2)))\n",
        "\n",
        "model.add(Conv2D(64, (3, 3)))\n",
        "model.add(Activation('relu'))\n",
        "model.add(MaxPooling2D(pool_size=(2, 2)))\n",
        "\n",
        "model.add(Conv2D(128, (3, 3)))\n",
        "model.add(Activation('relu'))\n",
        "model.add(MaxPooling2D(pool_size=(2, 2)))\n",
        "\n",
        "model.add(Flatten())\n",
        "model.add(Dense(128))\n",
        "model.add(Activation('relu'))\n",
        "model.add(Dropout(0.5))\n",
        "model.add(Dense(64))\n",
        "model.add(Activation('relu'))\n",
        "model.add(Dropout(0.5))\n",
        "model.add(Dense(18))\n",
        "model.add(Activation('softmax'))\n",
        "\n",
        "model.compile(loss='categorical_crossentropy',\n",
        "              optimizer='adam',\n",
        "              metrics=['accuracy'])"
      ],
      "execution_count": 0,
      "outputs": []
    },
    {
      "metadata": {
        "id": "01uVCuF4XAek",
        "colab_type": "code",
        "outputId": "fb467e4e-c5f9-4455-daee-81af1e2c086d",
        "colab": {
          "base_uri": "https://localhost:8080/",
          "height": 4206
        }
      },
      "cell_type": "code",
      "source": [
        "#Se entrena\n",
        "history = model.fit(x_train, y_train,\n",
        "                    batch_size=batch_size,\n",
        "                    epochs=100,\n",
        "                    verbose=1,\n",
        "                    validation_data=(x_test, y_test),shuffle=True)\n",
        "#Se calcula como se comporta\n",
        "score = model.evaluate(x_test, y_test, verbose=0)\n",
        "print('Test loss:', score[0])\n",
        "print('Test accuracy:', score[1])\n",
        "#Se muestra graficamente\n",
        "plot_history(history)"
      ],
      "execution_count": 48,
      "outputs": [
        {
          "output_type": "stream",
          "text": [
            "Train on 18992 samples, validate on 890 samples\n",
            "Epoch 1/100\n",
            "18992/18992 [==============================] - 20s 1ms/step - loss: 2.7046 - acc: 0.1476 - val_loss: 2.5055 - val_acc: 0.2011\n",
            "Epoch 2/100\n",
            "18992/18992 [==============================] - 16s 837us/step - loss: 2.2276 - acc: 0.3039 - val_loss: 1.9965 - val_acc: 0.4427\n",
            "Epoch 3/100\n",
            "18992/18992 [==============================] - 16s 836us/step - loss: 1.8307 - acc: 0.4321 - val_loss: 1.4656 - val_acc: 0.5674\n",
            "Epoch 4/100\n",
            "18992/18992 [==============================] - 16s 835us/step - loss: 1.5457 - acc: 0.5168 - val_loss: 1.1508 - val_acc: 0.6449\n",
            "Epoch 5/100\n",
            "18992/18992 [==============================] - 16s 835us/step - loss: 1.3288 - acc: 0.5815 - val_loss: 1.0169 - val_acc: 0.7022\n",
            "Epoch 6/100\n",
            "18992/18992 [==============================] - 16s 836us/step - loss: 1.1569 - acc: 0.6314 - val_loss: 0.8301 - val_acc: 0.7472\n",
            "Epoch 7/100\n",
            "18992/18992 [==============================] - 16s 835us/step - loss: 1.0343 - acc: 0.6667 - val_loss: 0.7193 - val_acc: 0.7775\n",
            "Epoch 8/100\n",
            "18992/18992 [==============================] - 16s 835us/step - loss: 0.9117 - acc: 0.7079 - val_loss: 0.5927 - val_acc: 0.8270\n",
            "Epoch 9/100\n",
            "18992/18992 [==============================] - 16s 835us/step - loss: 0.8354 - acc: 0.7265 - val_loss: 0.5109 - val_acc: 0.8382\n",
            "Epoch 10/100\n",
            "18992/18992 [==============================] - 16s 836us/step - loss: 0.7504 - acc: 0.7516 - val_loss: 0.4472 - val_acc: 0.8663\n",
            "Epoch 11/100\n",
            "18992/18992 [==============================] - 16s 835us/step - loss: 0.6840 - acc: 0.7697 - val_loss: 0.3879 - val_acc: 0.8888\n",
            "Epoch 12/100\n",
            "18992/18992 [==============================] - 16s 837us/step - loss: 0.6480 - acc: 0.7810 - val_loss: 0.3491 - val_acc: 0.9101\n",
            "Epoch 13/100\n",
            "18992/18992 [==============================] - 16s 836us/step - loss: 0.6046 - acc: 0.7979 - val_loss: 0.3015 - val_acc: 0.9191\n",
            "Epoch 14/100\n",
            "18992/18992 [==============================] - 16s 837us/step - loss: 0.5705 - acc: 0.8064 - val_loss: 0.2904 - val_acc: 0.9191\n",
            "Epoch 15/100\n",
            "18992/18992 [==============================] - 16s 837us/step - loss: 0.5315 - acc: 0.8205 - val_loss: 0.2393 - val_acc: 0.9483\n",
            "Epoch 16/100\n",
            "18992/18992 [==============================] - 16s 838us/step - loss: 0.4969 - acc: 0.8325 - val_loss: 0.2104 - val_acc: 0.9573\n",
            "Epoch 17/100\n",
            "18992/18992 [==============================] - 16s 837us/step - loss: 0.4773 - acc: 0.8402 - val_loss: 0.1968 - val_acc: 0.9506\n",
            "Epoch 18/100\n",
            "18992/18992 [==============================] - 16s 834us/step - loss: 0.4599 - acc: 0.8458 - val_loss: 0.2020 - val_acc: 0.9427\n",
            "Epoch 19/100\n",
            "18992/18992 [==============================] - 16s 834us/step - loss: 0.4388 - acc: 0.8510 - val_loss: 0.1609 - val_acc: 0.9596\n",
            "Epoch 20/100\n",
            "18992/18992 [==============================] - 16s 836us/step - loss: 0.4342 - acc: 0.8569 - val_loss: 0.1570 - val_acc: 0.9685\n",
            "Epoch 21/100\n",
            "18992/18992 [==============================] - 16s 838us/step - loss: 0.4016 - acc: 0.8647 - val_loss: 0.1377 - val_acc: 0.9708\n",
            "Epoch 22/100\n",
            "18992/18992 [==============================] - 16s 839us/step - loss: 0.3979 - acc: 0.8665 - val_loss: 0.1457 - val_acc: 0.9618\n",
            "Epoch 23/100\n",
            "18992/18992 [==============================] - 16s 835us/step - loss: 0.3796 - acc: 0.8746 - val_loss: 0.1229 - val_acc: 0.9719\n",
            "Epoch 24/100\n",
            "18992/18992 [==============================] - 16s 833us/step - loss: 0.3730 - acc: 0.8763 - val_loss: 0.1269 - val_acc: 0.9708\n",
            "Epoch 25/100\n",
            "18992/18992 [==============================] - 16s 835us/step - loss: 0.3595 - acc: 0.8813 - val_loss: 0.0992 - val_acc: 0.9742\n",
            "Epoch 26/100\n",
            "18992/18992 [==============================] - 16s 834us/step - loss: 0.3567 - acc: 0.8834 - val_loss: 0.1153 - val_acc: 0.9798\n",
            "Epoch 27/100\n",
            "18992/18992 [==============================] - 16s 838us/step - loss: 0.3352 - acc: 0.8881 - val_loss: 0.0979 - val_acc: 0.9809\n",
            "Epoch 28/100\n",
            "18992/18992 [==============================] - 16s 836us/step - loss: 0.3359 - acc: 0.8887 - val_loss: 0.1019 - val_acc: 0.9719\n",
            "Epoch 29/100\n",
            "18992/18992 [==============================] - 16s 834us/step - loss: 0.3221 - acc: 0.8943 - val_loss: 0.0857 - val_acc: 0.9831\n",
            "Epoch 30/100\n",
            "18992/18992 [==============================] - 16s 836us/step - loss: 0.3049 - acc: 0.8988 - val_loss: 0.0921 - val_acc: 0.9843\n",
            "Epoch 31/100\n",
            "18992/18992 [==============================] - 16s 837us/step - loss: 0.3065 - acc: 0.9020 - val_loss: 0.0930 - val_acc: 0.9775\n",
            "Epoch 32/100\n",
            "18992/18992 [==============================] - 16s 837us/step - loss: 0.2981 - acc: 0.8994 - val_loss: 0.0743 - val_acc: 0.9865\n",
            "Epoch 33/100\n",
            "18992/18992 [==============================] - 16s 838us/step - loss: 0.3085 - acc: 0.9009 - val_loss: 0.0733 - val_acc: 0.9854\n",
            "Epoch 34/100\n",
            "18992/18992 [==============================] - 16s 834us/step - loss: 0.2861 - acc: 0.9069 - val_loss: 0.0656 - val_acc: 0.9888\n",
            "Epoch 35/100\n",
            "18992/18992 [==============================] - 16s 834us/step - loss: 0.2721 - acc: 0.9114 - val_loss: 0.0626 - val_acc: 0.9888\n",
            "Epoch 36/100\n",
            "18992/18992 [==============================] - 16s 830us/step - loss: 0.2711 - acc: 0.9126 - val_loss: 0.0669 - val_acc: 0.9876\n",
            "Epoch 37/100\n",
            "18992/18992 [==============================] - 16s 831us/step - loss: 0.2544 - acc: 0.9156 - val_loss: 0.0770 - val_acc: 0.9843\n",
            "Epoch 38/100\n",
            "18992/18992 [==============================] - 16s 829us/step - loss: 0.2513 - acc: 0.9184 - val_loss: 0.0860 - val_acc: 0.9809\n",
            "Epoch 39/100\n",
            "18992/18992 [==============================] - 16s 831us/step - loss: 0.2561 - acc: 0.9155 - val_loss: 0.0759 - val_acc: 0.9854\n",
            "Epoch 40/100\n",
            "18992/18992 [==============================] - 16s 831us/step - loss: 0.2676 - acc: 0.9135 - val_loss: 0.0478 - val_acc: 0.9899\n",
            "Epoch 41/100\n",
            "18992/18992 [==============================] - 16s 836us/step - loss: 0.2724 - acc: 0.9120 - val_loss: 0.0427 - val_acc: 0.9921\n",
            "Epoch 42/100\n",
            "18992/18992 [==============================] - 16s 834us/step - loss: 0.2476 - acc: 0.9207 - val_loss: 0.0457 - val_acc: 0.9933\n",
            "Epoch 43/100\n",
            "18992/18992 [==============================] - 16s 836us/step - loss: 0.2454 - acc: 0.9203 - val_loss: 0.0454 - val_acc: 0.9955\n",
            "Epoch 44/100\n",
            "18992/18992 [==============================] - 16s 837us/step - loss: 0.2473 - acc: 0.9198 - val_loss: 0.0403 - val_acc: 0.9933\n",
            "Epoch 45/100\n",
            "18992/18992 [==============================] - 16s 840us/step - loss: 0.2415 - acc: 0.9222 - val_loss: 0.0475 - val_acc: 0.9944\n",
            "Epoch 46/100\n",
            "18992/18992 [==============================] - 16s 838us/step - loss: 0.2436 - acc: 0.9211 - val_loss: 0.0413 - val_acc: 0.9944\n",
            "Epoch 47/100\n",
            "18992/18992 [==============================] - 16s 837us/step - loss: 0.2315 - acc: 0.9248 - val_loss: 0.0482 - val_acc: 0.9910\n",
            "Epoch 48/100\n",
            "18992/18992 [==============================] - 16s 838us/step - loss: 0.2296 - acc: 0.9254 - val_loss: 0.0392 - val_acc: 0.9978\n",
            "Epoch 49/100\n",
            "18992/18992 [==============================] - 16s 836us/step - loss: 0.2275 - acc: 0.9267 - val_loss: 0.0491 - val_acc: 0.9910\n",
            "Epoch 50/100\n",
            "18992/18992 [==============================] - 16s 837us/step - loss: 0.2133 - acc: 0.9322 - val_loss: 0.0319 - val_acc: 0.9955\n",
            "Epoch 51/100\n",
            "18992/18992 [==============================] - 16s 836us/step - loss: 0.2229 - acc: 0.9288 - val_loss: 0.0397 - val_acc: 0.9944\n",
            "Epoch 52/100\n",
            "18992/18992 [==============================] - 16s 834us/step - loss: 0.2240 - acc: 0.9304 - val_loss: 0.0401 - val_acc: 0.9966\n",
            "Epoch 53/100\n",
            "18992/18992 [==============================] - 16s 836us/step - loss: 0.2068 - acc: 0.9339 - val_loss: 0.0329 - val_acc: 0.9966\n",
            "Epoch 54/100\n",
            "18992/18992 [==============================] - 16s 838us/step - loss: 0.2115 - acc: 0.9330 - val_loss: 0.0453 - val_acc: 0.9933\n",
            "Epoch 55/100\n",
            "18992/18992 [==============================] - 16s 835us/step - loss: 0.1970 - acc: 0.9349 - val_loss: 0.0264 - val_acc: 0.9955\n",
            "Epoch 56/100\n",
            "18992/18992 [==============================] - 16s 837us/step - loss: 0.2183 - acc: 0.9309 - val_loss: 0.0304 - val_acc: 0.9966\n",
            "Epoch 57/100\n",
            "18992/18992 [==============================] - 16s 839us/step - loss: 0.1991 - acc: 0.9363 - val_loss: 0.0283 - val_acc: 0.9989\n",
            "Epoch 58/100\n",
            "18992/18992 [==============================] - 16s 838us/step - loss: 0.2017 - acc: 0.9360 - val_loss: 0.0313 - val_acc: 0.9955\n",
            "Epoch 59/100\n",
            "18992/18992 [==============================] - 16s 836us/step - loss: 0.1892 - acc: 0.9390 - val_loss: 0.0229 - val_acc: 0.9989\n",
            "Epoch 60/100\n",
            "18992/18992 [==============================] - 16s 836us/step - loss: 0.1993 - acc: 0.9372 - val_loss: 0.0308 - val_acc: 0.9955\n",
            "Epoch 61/100\n",
            "18992/18992 [==============================] - 16s 836us/step - loss: 0.2006 - acc: 0.9359 - val_loss: 0.0381 - val_acc: 0.9944\n",
            "Epoch 62/100\n",
            "18992/18992 [==============================] - 16s 836us/step - loss: 0.1980 - acc: 0.9384 - val_loss: 0.0323 - val_acc: 0.9966\n",
            "Epoch 63/100\n",
            "18992/18992 [==============================] - 16s 831us/step - loss: 0.2020 - acc: 0.9356 - val_loss: 0.0356 - val_acc: 0.9933\n",
            "Epoch 64/100\n",
            "18992/18992 [==============================] - 16s 834us/step - loss: 0.1930 - acc: 0.9386 - val_loss: 0.0405 - val_acc: 0.9944\n",
            "Epoch 65/100\n",
            "18992/18992 [==============================] - 16s 829us/step - loss: 0.1879 - acc: 0.9401 - val_loss: 0.0304 - val_acc: 0.9966\n",
            "Epoch 66/100\n",
            "18992/18992 [==============================] - 16s 829us/step - loss: 0.1909 - acc: 0.9426 - val_loss: 0.0311 - val_acc: 0.9955\n",
            "Epoch 67/100\n",
            "18992/18992 [==============================] - 16s 832us/step - loss: 0.1862 - acc: 0.9419 - val_loss: 0.0263 - val_acc: 0.9978\n",
            "Epoch 68/100\n",
            "18992/18992 [==============================] - 16s 837us/step - loss: 0.1820 - acc: 0.9431 - val_loss: 0.0243 - val_acc: 0.9978\n",
            "Epoch 69/100\n",
            "18992/18992 [==============================] - 16s 835us/step - loss: 0.1845 - acc: 0.9438 - val_loss: 0.0280 - val_acc: 0.9966\n",
            "Epoch 70/100\n",
            "18992/18992 [==============================] - 16s 836us/step - loss: 0.1793 - acc: 0.9440 - val_loss: 0.0295 - val_acc: 0.9966\n",
            "Epoch 71/100\n",
            "18992/18992 [==============================] - 16s 836us/step - loss: 0.1808 - acc: 0.9433 - val_loss: 0.0225 - val_acc: 0.9989\n",
            "Epoch 72/100\n",
            "18992/18992 [==============================] - 16s 837us/step - loss: 0.1685 - acc: 0.9458 - val_loss: 0.0223 - val_acc: 0.9989\n",
            "Epoch 73/100\n",
            "18992/18992 [==============================] - 16s 836us/step - loss: 0.1734 - acc: 0.9445 - val_loss: 0.0395 - val_acc: 0.9921\n",
            "Epoch 74/100\n",
            "18992/18992 [==============================] - 16s 835us/step - loss: 0.1743 - acc: 0.9448 - val_loss: 0.0428 - val_acc: 0.9955\n",
            "Epoch 75/100\n",
            "18992/18992 [==============================] - 16s 838us/step - loss: 0.1795 - acc: 0.9424 - val_loss: 0.0232 - val_acc: 0.9978\n",
            "Epoch 76/100\n",
            "18992/18992 [==============================] - 16s 835us/step - loss: 0.1532 - acc: 0.9520 - val_loss: 0.0163 - val_acc: 0.9989\n",
            "Epoch 77/100\n",
            "18992/18992 [==============================] - 16s 831us/step - loss: 0.1696 - acc: 0.9462 - val_loss: 0.0224 - val_acc: 0.9978\n",
            "Epoch 78/100\n",
            "18992/18992 [==============================] - 16s 832us/step - loss: 0.1652 - acc: 0.9480 - val_loss: 0.0288 - val_acc: 0.9955\n",
            "Epoch 79/100\n",
            "18992/18992 [==============================] - 16s 829us/step - loss: 0.1596 - acc: 0.9492 - val_loss: 0.0241 - val_acc: 0.9978\n",
            "Epoch 80/100\n",
            "18992/18992 [==============================] - 16s 831us/step - loss: 0.1665 - acc: 0.9486 - val_loss: 0.0187 - val_acc: 0.9989\n",
            "Epoch 81/100\n",
            "18992/18992 [==============================] - 16s 835us/step - loss: 0.1540 - acc: 0.9495 - val_loss: 0.0246 - val_acc: 0.9966\n",
            "Epoch 82/100\n",
            "18992/18992 [==============================] - 16s 835us/step - loss: 0.1659 - acc: 0.9494 - val_loss: 0.0207 - val_acc: 0.9978\n",
            "Epoch 83/100\n",
            "18992/18992 [==============================] - 16s 837us/step - loss: 0.1540 - acc: 0.9523 - val_loss: 0.0176 - val_acc: 0.9978\n",
            "Epoch 84/100\n",
            "18992/18992 [==============================] - 16s 837us/step - loss: 0.1501 - acc: 0.9531 - val_loss: 0.0197 - val_acc: 0.9978\n",
            "Epoch 85/100\n",
            "18992/18992 [==============================] - 16s 837us/step - loss: 0.1538 - acc: 0.9521 - val_loss: 0.0195 - val_acc: 0.9989\n",
            "Epoch 86/100\n",
            "18992/18992 [==============================] - 16s 837us/step - loss: 0.1575 - acc: 0.9509 - val_loss: 0.0303 - val_acc: 0.9933\n",
            "Epoch 87/100\n",
            "18992/18992 [==============================] - 16s 836us/step - loss: 0.1646 - acc: 0.9486 - val_loss: 0.0222 - val_acc: 0.9955\n",
            "Epoch 88/100\n",
            "18992/18992 [==============================] - 16s 829us/step - loss: 0.1504 - acc: 0.9536 - val_loss: 0.0337 - val_acc: 0.9966\n",
            "Epoch 89/100\n",
            "18992/18992 [==============================] - 16s 833us/step - loss: 0.1520 - acc: 0.9531 - val_loss: 0.0195 - val_acc: 0.9989\n",
            "Epoch 90/100\n",
            "18992/18992 [==============================] - 16s 835us/step - loss: 0.1479 - acc: 0.9555 - val_loss: 0.0229 - val_acc: 0.9978\n",
            "Epoch 91/100\n",
            "18992/18992 [==============================] - 16s 835us/step - loss: 0.1510 - acc: 0.9531 - val_loss: 0.0184 - val_acc: 0.9978\n",
            "Epoch 92/100\n",
            "18992/18992 [==============================] - 16s 830us/step - loss: 0.1434 - acc: 0.9549 - val_loss: 0.0220 - val_acc: 0.9966\n",
            "Epoch 93/100\n",
            "18992/18992 [==============================] - 16s 829us/step - loss: 0.1416 - acc: 0.9565 - val_loss: 0.0158 - val_acc: 0.9989\n",
            "Epoch 94/100\n",
            "18992/18992 [==============================] - 16s 830us/step - loss: 0.1418 - acc: 0.9560 - val_loss: 0.0276 - val_acc: 0.9989\n",
            "Epoch 95/100\n",
            "18992/18992 [==============================] - 16s 831us/step - loss: 0.1484 - acc: 0.9536 - val_loss: 0.0185 - val_acc: 0.9966\n",
            "Epoch 96/100\n",
            "18992/18992 [==============================] - 16s 830us/step - loss: 0.1407 - acc: 0.9550 - val_loss: 0.0143 - val_acc: 0.9978\n",
            "Epoch 97/100\n",
            "18992/18992 [==============================] - 16s 831us/step - loss: 0.1324 - acc: 0.9581 - val_loss: 0.0250 - val_acc: 0.9989\n",
            "Epoch 98/100\n",
            "18992/18992 [==============================] - 16s 831us/step - loss: 0.1333 - acc: 0.9584 - val_loss: 0.0126 - val_acc: 0.9989\n",
            "Epoch 99/100\n",
            "18992/18992 [==============================] - 16s 830us/step - loss: 0.1436 - acc: 0.9551 - val_loss: 0.0147 - val_acc: 0.9989\n",
            "Epoch 100/100\n",
            "18992/18992 [==============================] - 16s 832us/step - loss: 0.1434 - acc: 0.9556 - val_loss: 0.0184 - val_acc: 0.9989\n",
            "Test loss: 0.018386583848531996\n",
            "Test accuracy: 0.998876404494382\n"
          ],
          "name": "stdout"
        },
        {
          "output_type": "display_data",
          "data": {
            "image/png": "[encoded data removed]",
            "text/plain": [
              "<Figure size 576x396 with 1 Axes>"
            ]
          },
          "metadata": {
            "tags": []
          }
        },
        {
          "output_type": "display_data",
          "data": {
            "image/png": "[encoded data removed]",
            "text/plain": [
              "<Figure size 576x396 with 1 Axes>"
            ]
          },
          "metadata": {
            "tags": []
          }
        }
      ]
    },
    {
      "metadata": {
        "id": "_SUuZziCvDSP",
        "colab_type": "text"
      },
      "cell_type": "markdown",
      "source": [
        "Probamos otra arquitectura de red con 4 capas convolucionales y distintos numeros de neuronas aumentando de 64 a 128 a 256 y finalmente disminuyendo y compleentando con 3 capas densas. La final con 18 neuronas, numero de clases a clasificar."
      ]
    },
    {
      "metadata": {
        "id": "hEiwA2LJdIPv",
        "colab_type": "code",
        "outputId": "4e9ca167-c40f-46e6-80d4-7ff7d89334a0",
        "colab": {
          "base_uri": "https://localhost:8080/",
          "height": 2842
        }
      },
      "cell_type": "code",
      "source": [
        "from keras.preprocessing.image import ImageDataGenerator, array_to_img, img_to_array, load_img\n",
        "from keras.models import Sequential\n",
        "from keras.layers import Conv2D, MaxPooling2D\n",
        "from keras.layers import Activation, Dropout, Flatten, Dense\n",
        "from keras import backend as K\n",
        "import os\n",
        "import sys\n",
        "import tarfile\n",
        "import numpy as np\n",
        "img_width, img_height = 64, 64\n",
        "if K.image_data_format() == 'channels_first':\n",
        "    input_shape = ( 3,img_width, img_height)\n",
        "else:\n",
        "    input_shape = (3,img_width, img_height)\n",
        "\n",
        "model = Sequential()\n",
        "model.add(Conv2D(64, (3, 3), input_shape=(64,64,3)))\n",
        "model.add(Activation('relu'))\n",
        "#model.add(MaxPooling2D(pool_size=(2, 2)))\n",
        "\n",
        "model.add(Conv2D(128, (3, 3)))\n",
        "model.add(Activation('relu'))\n",
        "#model.add(MaxPooling2D(pool_size=(2, 2)))\n",
        "\n",
        "model.add(Conv2D(256, (3, 3)))\n",
        "model.add(Activation('relu'))\n",
        "#model.add(MaxPooling2D(pool_size=(2, 2)))\n",
        "\n",
        "model.add(Conv2D(64,(3,3)))\n",
        "model.add(Activation('relu'))\n",
        "model.add(MaxPooling2D(pool_size=(2, 2)))\n",
        "\n",
        "\n",
        "model.add(Flatten())\n",
        "model.add(Dense(128))\n",
        "model.add(Activation('relu'))\n",
        "model.add(Dropout(0.5))\n",
        "model.add(Dense(64))\n",
        "model.add(Activation('relu'))\n",
        "model.add(Dropout(0.5))\n",
        "model.add(Dense(18))\n",
        "model.add(Activation('softmax'))\n",
        "\n",
        "model.compile(loss='categorical_crossentropy',\n",
        "              optimizer='adam',\n",
        "              metrics=['accuracy'])\n",
        "history = model.fit(x_train, y_train,\n",
        "                    batch_size=batch_size,\n",
        "                    epochs=100,\n",
        "                    verbose=1,\n",
        "                    validation_data=(x_test, y_test),shuffle=True)\n",
        "\n",
        "score = model.evaluate(x_test, y_test, verbose=0)\n",
        "print('Test loss:', score[0])\n",
        "print('Test accuracy:', score[1])\n",
        "plot_history(history)"
      ],
      "execution_count": 0,
      "outputs": [
        {
          "output_type": "stream",
          "text": [
            "Train on 18992 samples, validate on 890 samples\n",
            "Epoch 1/100\n",
            "18992/18992 [==============================] - 78s 4ms/step - loss: 2.6879 - acc: 0.1525 - val_loss: 2.5695 - val_acc: 0.1798\n",
            "Epoch 2/100\n",
            "18992/18992 [==============================] - 69s 4ms/step - loss: 2.3619 - acc: 0.2592 - val_loss: 2.2548 - val_acc: 0.3056\n",
            "Epoch 3/100\n",
            "18992/18992 [==============================] - 69s 4ms/step - loss: 2.1007 - acc: 0.3416 - val_loss: 1.9698 - val_acc: 0.3966\n",
            "Epoch 4/100\n",
            "18992/18992 [==============================] - 69s 4ms/step - loss: 1.8610 - acc: 0.4205 - val_loss: 1.6699 - val_acc: 0.4742\n",
            "Epoch 5/100\n",
            "18992/18992 [==============================] - 69s 4ms/step - loss: 1.6644 - acc: 0.4812 - val_loss: 1.4651 - val_acc: 0.5360\n",
            "Epoch 6/100\n",
            "18992/18992 [==============================] - 69s 4ms/step - loss: 1.4888 - acc: 0.5312 - val_loss: 1.2606 - val_acc: 0.5989\n",
            "Epoch 7/100\n",
            "18992/18992 [==============================] - 69s 4ms/step - loss: 1.3148 - acc: 0.5852 - val_loss: 1.0080 - val_acc: 0.6831\n",
            "Epoch 8/100\n",
            "18992/18992 [==============================] - 69s 4ms/step - loss: 1.1575 - acc: 0.6341 - val_loss: 0.8611 - val_acc: 0.7258\n",
            "Epoch 9/100\n",
            "18992/18992 [==============================] - 69s 4ms/step - loss: 1.0072 - acc: 0.6813 - val_loss: 0.7304 - val_acc: 0.7876\n",
            "Epoch 10/100\n",
            "18992/18992 [==============================] - 69s 4ms/step - loss: 0.8958 - acc: 0.7174 - val_loss: 0.5698 - val_acc: 0.8315\n",
            "Epoch 11/100\n",
            "18992/18992 [==============================] - 69s 4ms/step - loss: 0.7799 - acc: 0.7549 - val_loss: 0.4781 - val_acc: 0.8640\n",
            "Epoch 12/100\n",
            "18992/18992 [==============================] - 69s 4ms/step - loss: 0.6883 - acc: 0.7769 - val_loss: 0.4021 - val_acc: 0.8955\n",
            "Epoch 13/100\n",
            "18992/18992 [==============================] - 69s 4ms/step - loss: 0.6264 - acc: 0.8013 - val_loss: 0.3716 - val_acc: 0.9169\n",
            "Epoch 14/100\n",
            "18992/18992 [==============================] - 69s 4ms/step - loss: 0.5867 - acc: 0.8188 - val_loss: 0.3010 - val_acc: 0.9303\n",
            "Epoch 15/100\n",
            "18992/18992 [==============================] - 69s 4ms/step - loss: 0.5219 - acc: 0.8350 - val_loss: 0.2508 - val_acc: 0.9404\n",
            "Epoch 16/100\n",
            "18992/18992 [==============================] - 69s 4ms/step - loss: 0.4755 - acc: 0.8456 - val_loss: 0.2220 - val_acc: 0.9506\n",
            "Epoch 17/100\n",
            "18992/18992 [==============================] - 69s 4ms/step - loss: 0.4496 - acc: 0.8609 - val_loss: 0.2041 - val_acc: 0.9551\n",
            "Epoch 18/100\n",
            "18992/18992 [==============================] - 69s 4ms/step - loss: 0.4096 - acc: 0.8701 - val_loss: 0.1641 - val_acc: 0.9596\n",
            "Epoch 19/100\n",
            "18992/18992 [==============================] - 69s 4ms/step - loss: 0.3858 - acc: 0.8805 - val_loss: 0.1402 - val_acc: 0.9652\n",
            "Epoch 20/100\n",
            "18992/18992 [==============================] - 69s 4ms/step - loss: 0.3585 - acc: 0.8875 - val_loss: 0.1350 - val_acc: 0.9730\n",
            "Epoch 21/100\n",
            "18992/18992 [==============================] - 69s 4ms/step - loss: 0.3495 - acc: 0.8928 - val_loss: 0.1230 - val_acc: 0.9753\n",
            "Epoch 22/100\n",
            "18992/18992 [==============================] - 69s 4ms/step - loss: 0.3287 - acc: 0.9003 - val_loss: 0.1053 - val_acc: 0.9820\n",
            "Epoch 23/100\n",
            "18992/18992 [==============================] - 69s 4ms/step - loss: 0.3331 - acc: 0.8961 - val_loss: 0.1244 - val_acc: 0.9685\n",
            "Epoch 24/100\n",
            "18992/18992 [==============================] - 69s 4ms/step - loss: 0.3230 - acc: 0.8973 - val_loss: 0.1022 - val_acc: 0.9798\n",
            "Epoch 25/100\n",
            "18992/18992 [==============================] - 69s 4ms/step - loss: 0.2950 - acc: 0.9070 - val_loss: 0.0888 - val_acc: 0.9798\n",
            "Epoch 26/100\n",
            "18992/18992 [==============================] - 69s 4ms/step - loss: 0.2783 - acc: 0.9145 - val_loss: 0.0818 - val_acc: 0.9798\n",
            "Epoch 27/100\n",
            "18992/18992 [==============================] - 69s 4ms/step - loss: 0.2571 - acc: 0.9186 - val_loss: 0.0657 - val_acc: 0.9843\n",
            "Epoch 28/100\n",
            "18992/18992 [==============================] - 69s 4ms/step - loss: 0.2609 - acc: 0.9181 - val_loss: 0.0935 - val_acc: 0.9775\n",
            "Epoch 29/100\n",
            "18992/18992 [==============================] - 69s 4ms/step - loss: 0.2547 - acc: 0.9218 - val_loss: 0.0639 - val_acc: 0.9865\n",
            "Epoch 30/100\n",
            "18992/18992 [==============================] - 69s 4ms/step - loss: 0.2405 - acc: 0.9245 - val_loss: 0.0618 - val_acc: 0.9865\n",
            "Epoch 31/100\n",
            "18992/18992 [==============================] - 69s 4ms/step - loss: 0.2292 - acc: 0.9272 - val_loss: 0.0692 - val_acc: 0.9876\n",
            "Epoch 32/100\n",
            "18992/18992 [==============================] - 69s 4ms/step - loss: 0.2345 - acc: 0.9293 - val_loss: 0.0545 - val_acc: 0.9921\n",
            "Epoch 33/100\n",
            "18992/18992 [==============================] - 69s 4ms/step - loss: 0.2256 - acc: 0.9300 - val_loss: 0.0507 - val_acc: 0.9910\n",
            "Epoch 34/100\n",
            "18992/18992 [==============================] - 69s 4ms/step - loss: 0.2266 - acc: 0.9317 - val_loss: 0.0462 - val_acc: 0.9876\n",
            "Epoch 35/100\n",
            "18992/18992 [==============================] - 69s 4ms/step - loss: 0.2087 - acc: 0.9342 - val_loss: 0.0517 - val_acc: 0.9888\n",
            "Epoch 36/100\n",
            "18992/18992 [==============================] - 69s 4ms/step - loss: 0.2146 - acc: 0.9352 - val_loss: 0.0487 - val_acc: 0.9933\n",
            "Epoch 37/100\n",
            "18992/18992 [==============================] - 69s 4ms/step - loss: 0.1982 - acc: 0.9396 - val_loss: 0.0521 - val_acc: 0.9899\n",
            "Epoch 38/100\n",
            "18992/18992 [==============================] - 69s 4ms/step - loss: 0.2016 - acc: 0.9380 - val_loss: 0.0590 - val_acc: 0.9876\n",
            "Epoch 39/100\n",
            "18992/18992 [==============================] - 69s 4ms/step - loss: 0.1967 - acc: 0.9387 - val_loss: 0.0400 - val_acc: 0.9933\n",
            "Epoch 40/100\n",
            "18992/18992 [==============================] - 69s 4ms/step - loss: 0.2006 - acc: 0.9376 - val_loss: 0.0379 - val_acc: 0.9944\n",
            "Epoch 41/100\n",
            "18992/18992 [==============================] - 69s 4ms/step - loss: 0.1859 - acc: 0.9444 - val_loss: 0.0408 - val_acc: 0.9944\n",
            "Epoch 42/100\n",
            "18992/18992 [==============================] - 69s 4ms/step - loss: 0.1851 - acc: 0.9433 - val_loss: 0.0357 - val_acc: 0.9978\n",
            "Epoch 43/100\n",
            "18992/18992 [==============================] - 69s 4ms/step - loss: 0.1723 - acc: 0.9470 - val_loss: 0.0362 - val_acc: 0.9955\n",
            "Epoch 44/100\n",
            "18992/18992 [==============================] - 69s 4ms/step - loss: 0.1797 - acc: 0.9439 - val_loss: 0.0334 - val_acc: 0.9966\n",
            "Epoch 45/100\n",
            "18992/18992 [==============================] - 69s 4ms/step - loss: 0.1745 - acc: 0.9463 - val_loss: 0.0306 - val_acc: 0.9966\n",
            "Epoch 46/100\n",
            "18992/18992 [==============================] - 69s 4ms/step - loss: 0.1737 - acc: 0.9462 - val_loss: 0.0333 - val_acc: 0.9966\n",
            "Epoch 47/100\n",
            "18992/18992 [==============================] - 69s 4ms/step - loss: 0.1575 - acc: 0.9521 - val_loss: 0.0292 - val_acc: 0.9978\n",
            "Epoch 48/100\n",
            "18992/18992 [==============================] - 69s 4ms/step - loss: 0.1714 - acc: 0.9478 - val_loss: 0.0331 - val_acc: 0.9955\n",
            "Epoch 49/100\n",
            "18992/18992 [==============================] - 69s 4ms/step - loss: 0.1634 - acc: 0.9498 - val_loss: 0.0384 - val_acc: 0.9978\n",
            "Epoch 50/100\n",
            "18992/18992 [==============================] - 69s 4ms/step - loss: 0.1733 - acc: 0.9477 - val_loss: 0.0293 - val_acc: 0.9944\n",
            "Epoch 51/100\n",
            "18992/18992 [==============================] - 69s 4ms/step - loss: 0.1542 - acc: 0.9530 - val_loss: 0.0296 - val_acc: 0.9966\n",
            "Epoch 52/100\n",
            "18992/18992 [==============================] - 69s 4ms/step - loss: 0.1467 - acc: 0.9553 - val_loss: 0.0262 - val_acc: 0.9978\n",
            "Epoch 53/100\n",
            "18992/18992 [==============================] - 69s 4ms/step - loss: 0.1482 - acc: 0.9559 - val_loss: 0.0264 - val_acc: 0.9978\n",
            "Epoch 54/100\n",
            "18992/18992 [==============================] - 69s 4ms/step - loss: 0.1554 - acc: 0.9542 - val_loss: 0.0340 - val_acc: 0.9966\n",
            "Epoch 55/100\n",
            "18992/18992 [==============================] - 68s 4ms/step - loss: 0.1494 - acc: 0.9552 - val_loss: 0.0295 - val_acc: 0.9944\n",
            "Epoch 56/100\n",
            "18992/18992 [==============================] - 69s 4ms/step - loss: 0.1560 - acc: 0.9530 - val_loss: 0.0303 - val_acc: 0.9966\n",
            "Epoch 57/100\n",
            "18992/18992 [==============================] - 69s 4ms/step - loss: 0.1361 - acc: 0.9567 - val_loss: 0.0271 - val_acc: 0.9944\n",
            "Epoch 58/100\n",
            "18992/18992 [==============================] - 68s 4ms/step - loss: 0.1360 - acc: 0.9592 - val_loss: 0.0304 - val_acc: 0.9966\n",
            "Epoch 59/100\n",
            "18992/18992 [==============================] - 69s 4ms/step - loss: 0.1470 - acc: 0.9553 - val_loss: 0.0382 - val_acc: 0.9944\n",
            "Epoch 60/100\n",
            "18992/18992 [==============================] - 69s 4ms/step - loss: 0.1494 - acc: 0.9539 - val_loss: 0.0268 - val_acc: 0.9933\n",
            "Epoch 61/100\n",
            "18992/18992 [==============================] - 69s 4ms/step - loss: 0.1369 - acc: 0.9592 - val_loss: 0.0330 - val_acc: 0.9933\n",
            "Epoch 62/100\n",
            "18992/18992 [==============================] - 69s 4ms/step - loss: 0.1367 - acc: 0.9584 - val_loss: 0.0258 - val_acc: 0.9944\n",
            "Epoch 63/100\n",
            "18992/18992 [==============================] - 69s 4ms/step - loss: 0.1269 - acc: 0.9606 - val_loss: 0.0235 - val_acc: 0.9978\n",
            "Epoch 64/100\n",
            "18992/18992 [==============================] - 68s 4ms/step - loss: 0.1352 - acc: 0.9588 - val_loss: 0.0204 - val_acc: 0.9978\n",
            "Epoch 65/100\n",
            "18992/18992 [==============================] - 68s 4ms/step - loss: 0.1266 - acc: 0.9595 - val_loss: 0.0257 - val_acc: 0.9989\n",
            "Epoch 66/100\n",
            "18992/18992 [==============================] - 68s 4ms/step - loss: 0.1339 - acc: 0.9615 - val_loss: 0.0598 - val_acc: 0.9933\n",
            "Epoch 67/100\n",
            "18992/18992 [==============================] - 69s 4ms/step - loss: 0.1370 - acc: 0.9595 - val_loss: 0.0236 - val_acc: 0.9966\n",
            "Epoch 68/100\n",
            "18992/18992 [==============================] - 68s 4ms/step - loss: 0.1239 - acc: 0.9621 - val_loss: 0.0266 - val_acc: 0.9944\n",
            "Epoch 69/100\n",
            "18992/18992 [==============================] - 69s 4ms/step - loss: 0.1177 - acc: 0.9623 - val_loss: 0.0261 - val_acc: 0.9978\n",
            "Epoch 70/100\n",
            "18992/18992 [==============================] - 68s 4ms/step - loss: 0.1147 - acc: 0.9648 - val_loss: 0.0284 - val_acc: 0.9978\n",
            "Epoch 71/100\n",
            "18992/18992 [==============================] - 68s 4ms/step - loss: 0.1137 - acc: 0.9646 - val_loss: 0.0237 - val_acc: 0.9966\n",
            "Epoch 72/100\n",
            "18992/18992 [==============================] - 68s 4ms/step - loss: 0.1193 - acc: 0.9645 - val_loss: 0.0240 - val_acc: 0.9978\n",
            "Epoch 73/100\n",
            "18992/18992 [==============================] - 68s 4ms/step - loss: 0.1216 - acc: 0.9629 - val_loss: 0.0251 - val_acc: 0.9955\n",
            "Epoch 74/100\n",
            "18992/18992 [==============================] - 68s 4ms/step - loss: 0.1127 - acc: 0.9655 - val_loss: 0.0252 - val_acc: 0.9966\n",
            "Epoch 75/100\n",
            "18992/18992 [==============================] - 68s 4ms/step - loss: 0.1167 - acc: 0.9649 - val_loss: 0.0281 - val_acc: 0.9955\n",
            "Epoch 76/100\n",
            "18992/18992 [==============================] - 68s 4ms/step - loss: 0.1204 - acc: 0.9635 - val_loss: 0.0315 - val_acc: 0.9966\n",
            "Epoch 77/100\n",
            "18992/18992 [==============================] - 68s 4ms/step - loss: 0.1226 - acc: 0.9635 - val_loss: 0.0267 - val_acc: 0.9921\n",
            "Epoch 78/100\n",
            "18992/18992 [==============================] - 68s 4ms/step - loss: 0.1070 - acc: 0.9675 - val_loss: 0.0294 - val_acc: 0.9933\n",
            "Epoch 79/100\n",
            "18992/18992 [==============================] - 68s 4ms/step - loss: 0.1087 - acc: 0.9675 - val_loss: 0.0221 - val_acc: 0.9978\n",
            "Epoch 80/100\n",
            "18992/18992 [==============================] - 68s 4ms/step - loss: 0.1247 - acc: 0.9625 - val_loss: 0.0341 - val_acc: 0.9944\n",
            "Epoch 81/100\n",
            "18992/18992 [==============================] - 68s 4ms/step - loss: 0.1101 - acc: 0.9666 - val_loss: 0.0315 - val_acc: 0.9944\n",
            "Epoch 82/100\n",
            "15872/18992 [========================>.....] - ETA: 11s - loss: 0.1524 - acc: 0.9560"
          ],
          "name": "stdout"
        }
      ]
    },
    {
      "metadata": {
        "id": "4X_vvYQysv3r",
        "colab_type": "text"
      },
      "cell_type": "markdown",
      "source": [
        "**3 (1 punto): Comparación GPU/CPU**. Comparar el tiempo de entrenamiento de tu modelo por epoch utilizando GPUs y CPUs. Explicar por qué el uso de una aceleradora como una GPU acelera el entrenamiento de la red neuronal."
      ]
    },
    {
      "metadata": {
        "id": "el5xzijCsxC4",
        "colab_type": "code",
        "colab": {}
      },
      "cell_type": "code",
      "source": [
        "with tf.device('/gpu:0'):\n",
        "  start_gpu = time.time()\n",
        "  model.compile(loss='categorical_crossentropy', optimizer='adam', metrics=['accuracy'])\n",
        "  model.fit(x_train, y_train, batch_size=10, nb_epoch=10, verbose=1, validation_data=(x_test, y_test))\n",
        "  loss, acc = model.evaluate(x_test, y_test, verbose=0)\n",
        "  print('\\nTesting loss: {}, acc: {}\\n'.format(loss, acc))\n",
        "  print (\"Compilation Time : \", time.time() - start_gpu)"
      ],
      "execution_count": 0,
      "outputs": []
    },
    {
      "metadata": {
        "id": "BYzrpe_pxVh3",
        "colab_type": "code",
        "colab": {}
      },
      "cell_type": "code",
      "source": [
        "with tf.device('/cpu:0'):\n",
        "  start_cpu = time.time()\n",
        "  model.compile(loss='categorical_crossentropy', optimizer='adam', metrics=['accuracy'])\n",
        "  model.fit(x_train, y_train, batch_size=10, nb_epoch=10, verbose=1, validation_data=(x_test, y_test))\n",
        "  loss, acc = model.evaluate(x_test, y_test, verbose=0)\n",
        "  print('\\nTesting loss: {}, acc: {}\\n'.format(loss, acc))\n",
        "  print (\"Compilation Time : \", time.time() - start_cpu)"
      ],
      "execution_count": 0,
      "outputs": []
    },
    {
      "metadata": {
        "id": "WFjeP9WXsybK",
        "colab_type": "text"
      },
      "cell_type": "markdown",
      "source": [
        ""
      ]
    },
    {
      "metadata": {
        "id": "sJtDm1vyrAha",
        "colab_type": "text"
      },
      "cell_type": "markdown",
      "source": [
        "\n",
        "\n",
        "*texto en cursiva*"
      ]
    },
    {
      "metadata": {
        "id": "qoMAXX9VtFom",
        "colab_type": "text"
      },
      "cell_type": "markdown",
      "source": [
        "**4 (0.5 puntos): Utilización de tf.data**. Si no se ha entrenado el modelo en el paso 2 con tf.data, repetir la ingesta de datos (incluyendo el preprocesamiento de imágenes) para el modelo utilizando tf.data."
      ]
    },
    {
      "metadata": {
        "id": "nhmkZL1vymT4",
        "colab_type": "code",
        "colab": {}
      },
      "cell_type": "code",
      "source": [
        "# create the training datasets\n",
        "dx_train = tf.data.Dataset.from_tensor_slices(x_train)\n",
        "# apply a one-hot transformation to each label for use in the neural network\n",
        "dy_train = tf.data.Dataset.from_tensor_slices(y_train).map(lambda z: tf.one_hot(z, 10))\n",
        "# zip the x and y training data together and shuffle, batch etc.\n",
        "train_dataset = tf.data.Dataset.zip((dx_train, dy_train)).shuffle(500).repeat().batch(30)"
      ],
      "execution_count": 0,
      "outputs": []
    },
    {
      "metadata": {
        "id": "1_MXh-ajzxkc",
        "colab_type": "code",
        "colab": {}
      },
      "cell_type": "code",
      "source": [
        "# do the same operations for the validation set\n",
        "dx_valid = tf.data.Dataset.from_tensor_slices(x_test)\n",
        "dy_valid = tf.data.Dataset.from_tensor_slices(y_test).map(lambda z: tf.one_hot(z, 10))\n",
        "valid_dataset = tf.data.Dataset.zip((dx_valid, dy_valid)).shuffle(500).repeat().batch(30)"
      ],
      "execution_count": 0,
      "outputs": []
    },
    {
      "metadata": {
        "id": "BvRyPnIJ3Qqz",
        "colab_type": "code",
        "colab": {}
      },
      "cell_type": "code",
      "source": [
        "# create general iterator\n",
        "iterator = tf.data.Iterator.from_structure(train_dataset.output_types,\n",
        "                                               train_dataset.output_shapes)\n",
        "next_element = iterator.get_next()"
      ],
      "execution_count": 0,
      "outputs": []
    },
    {
      "metadata": {
        "id": "Ngf46X8j3XBD",
        "colab_type": "code",
        "colab": {}
      },
      "cell_type": "code",
      "source": [
        "# make datasets that we can initialize separately, but using the same structure via the common iterator\n",
        "training_init_op = iterator.make_initializer(train_dataset)\n",
        "validation_init_op = iterator.make_initializer(valid_dataset)"
      ],
      "execution_count": 0,
      "outputs": []
    },
    {
      "metadata": {
        "id": "ENZf6RyM3cTG",
        "colab_type": "code",
        "colab": {}
      },
      "cell_type": "code",
      "source": [
        "def nn_model(in_data):\n",
        "    bn = tf.layers.batch_normalization(in_data)\n",
        "    fc1 = tf.layers.dense(bn, 50)\n",
        "    fc2 = tf.layers.dense(fc1, 50)\n",
        "    fc2 = tf.layers.dropout(fc2)\n",
        "    fc3 = tf.layers.dense(fc2, 10)\n",
        "    return fc3"
      ],
      "execution_count": 0,
      "outputs": []
    },
    {
      "metadata": {
        "id": "IsDzAYKo3i7I",
        "colab_type": "code",
        "colab": {}
      },
      "cell_type": "code",
      "source": [
        "# create the neural network model\n",
        "logits = nn_model(next_element[0])"
      ],
      "execution_count": 0,
      "outputs": []
    },
    {
      "metadata": {
        "id": "NqnnrQgZ3wNG",
        "colab_type": "code",
        "colab": {}
      },
      "cell_type": "code",
      "source": [
        "# add the optimizer and loss\n",
        "loss = tf.reduce_sum(tf.nn.softmax_cross_entropy_with_logits_v2(labels=next_element[1], logits=logits))\n",
        "optimizer = tf.train.AdamOptimizer().minimize(loss)\n",
        "# get accuracy\n",
        "prediction = tf.argmax(logits, 1)\n",
        "equality = tf.equal(prediction, tf.argmax(next_element[1], 1))\n",
        "accuracy = tf.reduce_mean(tf.cast(equality, tf.float32))\n",
        "init_op = tf.global_variables_initializer()"
      ],
      "execution_count": 0,
      "outputs": []
    },
    {
      "metadata": {
        "id": "WUsQ_g4330Qg",
        "colab_type": "code",
        "colab": {}
      },
      "cell_type": "code",
      "source": [
        "# run the training\n",
        "epochs = 600\n",
        "with tf.Session() as sess:\n",
        "    sess.run(init_op)\n",
        "    sess.run(training_init_op)\n",
        "    for i in range(epochs):\n",
        "        l, _, acc = sess.run([loss, optimizer, accuracy])\n",
        "        if i % 50 == 0:\n",
        "            print(\"Epoch: {}, loss: {:.3f}, training accuracy: {:.2f}%\".format(i, l, acc * 100))\n",
        "    # now setup the validation run\n",
        "    valid_iters = 100\n",
        "    # re-initialize the iterator, but this time with validation data\n",
        "    sess.run(validation_init_op)\n",
        "    avg_acc = 0\n",
        "    for i in range(valid_iters):\n",
        "        acc = sess.run([accuracy])\n",
        "        avg_acc += acc[0]\n",
        "    print(\"Average validation set accuracy over {} iterations is {:.2f}%\".format(valid_iters,                                                                              (avg_acc / valid_iters) * 100))"
      ],
      "execution_count": 0,
      "outputs": []
    },
    {
      "metadata": {
        "id": "vjwjw11qdbi8",
        "colab_type": "text"
      },
      "cell_type": "markdown",
      "source": [
        "\n",
        "\n",
        "**5 [optativo] (1 punto extra). Implementar el modelo en TensorFlow Eager o TF de bajo nivel, sin usar tf.keras.** El bucle de entrenamiento batch a batch también tiene que hacerse utilizando operaciones de bajo nivel. En resumen, no vale utilizar capas de Keras como convoluciones o Dense ni funciones como .fit(), hay que implementarlas. Podéis programar el modelo sin embargo utilizando Keras subclassing (tf.keras.Model).\n"
      ]
    },
    {
      "metadata": {
        "id": "csMIZYQxhVfi",
        "colab_type": "code",
        "colab": {}
      },
      "cell_type": "code",
      "source": [
        ""
      ],
      "execution_count": 0,
      "outputs": []
    },
    {
      "metadata": {
        "id": "AW75skhgdSgu",
        "colab_type": "text"
      },
      "cell_type": "markdown",
      "source": [
        "\n",
        "\n",
        "**6 [optativo] (0.5 puntos extra). Utilizar data augmentation.** Utilizar la técnica de data augmentation y comentar los resultados. Esto puede conseguirse con la clase [ImageDataGenerator](https://keras.io/preprocessing/image/#imagedatagenerator-class) de Keras o con tf.data.\n",
        "\n",
        "\n",
        "Notas: \n",
        "* Recuerda que suele ser útil partir los datos en training/validation para tener una buena estimación de los valores que nuestro modelo tendrá en los datos de test, así como comprobar que no estamos cayendo en overfitting. Una posible partición puede ser 80 / 20.\n",
        "* No es necesario mostrar en el notebook las trazas de entrenamiento de todos los modelos entrenados, si bien una buena idea seria guardar gráficas de esos entrenamientos para su análisis. Sin embargo, recordar que **se debe mostrar el entrenamiento completo del modelo final obtenido y la evaluación de los datos de test con este modelo**.\n",
        "* Las imágenes **no están normalizadas**. Hay que normalizarlas (píxeles de 0 a 255 tienen que ir a un número real entre 0 y 1).\n",
        "* El test set del problema tiene imágenes un poco más \"fáciles\", por lo que es posible encontrarse con métricas en el test set bastante mejores que lo que vemos en el validation set de nuestro modelo.\n",
        "* No es necesario probar modelos tan grandes que tarden horas en entrenar. Es posible alcanzar la accuracy requerida con modelos que entrenan rápido en GPUs.\n",
        "* Ojo: los datos devueltos por las funciones *load_train_set* y *load_test_set* están ordenados personaje a personaje."
      ]
    },
    {
      "metadata": {
        "id": "U-h7UmO0wY8j",
        "colab_type": "code",
        "colab": {}
      },
      "cell_type": "code",
      "source": [
        "from keras.layers import Flatten\n",
        "from keras.layers import Dense\n",
        "from keras.preprocessing.image import ImageDataGenerator\n",
        "from timeit import default_timer as timer\n",
        "from keras.preprocessing import image\n",
        "import numpy as np\n",
        "import os\n",
        "image_height = 64\n",
        "image_width = 64"
      ],
      "execution_count": 0,
      "outputs": []
    },
    {
      "metadata": {
        "id": "013X0oqHdLsQ",
        "colab_type": "code",
        "outputId": "84db1ae8-732f-4867-8729-e08b562b146d",
        "colab": {
          "base_uri": "https://localhost:8080/",
          "height": 85
        }
      },
      "cell_type": "code",
      "source": [
        "train_datagen = ImageDataGenerator(rescale = 1./255,\n",
        "                                   shear_range = 0.2,\n",
        "                                   zoom_range = 0.2,\n",
        "                                   horizontal_flip = True)\n",
        "\n",
        "#ImageDataGenerator augments images, creating multiple versions of the same image\n",
        "test_datagen = ImageDataGenerator(rescale = 1./255)\n",
        "#Se cargan los datos descargados y almacenados en mi onedrive\n",
        "training_set = train_datagen.flow_from_directory('/root/.keras/datasets/simpsons',\n",
        "                                                 target_size = (image_height, image_width),\n",
        "                                                 batch_size = 50,\n",
        "                                                 class_mode = 'categorical')\n",
        "test_set = test_datagen.flow_from_directory('/root/.keras/datasets/simpsons_testset',\n",
        "                                            target_size = (image_height, image_width),\n",
        "                                            batch_size = 50,\n",
        "                                            class_mode = 'categorical')"
      ],
      "execution_count": 0,
      "outputs": [
        {
          "output_type": "stream",
          "text": [
            "18992 train samples\n",
            "890 test samples\n",
            "(18992, 64, 64, 3)\n",
            "(18992, 64, 64, 3)\n"
          ],
          "name": "stdout"
        }
      ]
    },
    {
      "metadata": {
        "id": "HqKRJFW2wE-p",
        "colab_type": "code",
        "colab": {}
      },
      "cell_type": "code",
      "source": [
        "# Initialising the CNN\n",
        "predator = Sequential()\n",
        "# Step 1 - Convolution\n",
        "predator.add(Conv2D(64, (3, 3), activation=\"relu\", input_shape=(image_height, image_width, 3)))\n",
        "# Step 2 - Pooling\n",
        "predator.add(MaxPooling2D(pool_size = (2, 2)))\n",
        "# Adding a second convolutional layer\n",
        "predator.add(Conv2D(128, (3, 3), activation=\"relu\"))\n",
        "predator.add(MaxPooling2D(pool_size = (2, 2)))\n",
        "# Adding a third convolutional layer\n",
        "predator.add(Conv2D(256, (3, 3), activation=\"relu\"))\n",
        "predator.add(MaxPooling2D(pool_size = (2, 2)))\n",
        "# Adding a fourth convolutional layer\n",
        "predator.add(Conv2D(128, (3, 3), activation=\"relu\"))\n",
        "predator.add(MaxPooling2D(pool_size = (2, 2)))\n",
        "# Adding a fifth convolutional layer\n",
        "predator.add(Conv2D(64, (3, 3), activation=\"relu\"))\n",
        "predator.add(MaxPooling2D(pool_size = (2, 2)))\n",
        "# Step 3 - Flattening\n",
        "predator.add(Flatten())    #flattens the 3D image array to a single row array\n",
        "# Step 4 - Full connection\n",
        "predator.add(Dense(units=32, activation=\"relu\"))\n",
        "predator.add(Dense(units=47, activation=\"softmax\"))   #output layer with 10 neurons.. each corresponding to a character\n",
        "# Compiling the CNN\n",
        "predator.compile(optimizer = 'adam', loss = 'categorical_crossentropy', metrics = ['accuracy'])"
      ],
      "execution_count": 0,
      "outputs": []
    },
    {
      "metadata": {
        "id": "fFAZgfv_fSkl",
        "colab_type": "code",
        "colab": {}
      },
      "cell_type": "code",
      "source": [
        "predator.fit_generator(training_set,\n",
        "                         steps_per_epoch = 16,\n",
        "                         epochs = 100,\n",
        "                         validation_data = test_set,\n",
        "                         validation_steps = 4)"
      ],
      "execution_count": 0,
      "outputs": []
    },
    {
      "metadata": {
        "id": "qTXcSwWIeFM_",
        "colab_type": "code",
        "outputId": "d93c8985-5486-4779-9617-710fbfcca316",
        "colab": {
          "base_uri": "https://localhost:8080/",
          "height": 306
        }
      },
      "cell_type": "code",
      "source": [
        ""
      ],
      "execution_count": 0,
      "outputs": [
        {
          "output_type": "stream",
          "text": [
            "_________________________________________________________________\n",
            "Layer (type)                 Output Shape              Param #   \n",
            "=================================================================\n",
            "dense_85 (Dense)             (None, 4096)              50335744  \n",
            "_________________________________________________________________\n",
            "dropout_41 (Dropout)         (None, 4096)              0         \n",
            "_________________________________________________________________\n",
            "dense_86 (Dense)             (None, 4096)              16781312  \n",
            "_________________________________________________________________\n",
            "dropout_42 (Dropout)         (None, 4096)              0         \n",
            "_________________________________________________________________\n",
            "dense_87 (Dense)             (None, 47)                192559    \n",
            "=================================================================\n",
            "Total params: 67,309,615\n",
            "Trainable params: 67,309,615\n",
            "Non-trainable params: 0\n",
            "_________________________________________________________________\n"
          ],
          "name": "stdout"
        }
      ]
    },
    {
      "metadata": {
        "id": "d_ioim0TeOjR",
        "colab_type": "code",
        "colab": {}
      },
      "cell_type": "code",
      "source": [
        "model.compile(loss='categorical_crossentropy',\n",
        "              optimizer=RMSprop(),\n",
        "              metrics=['accuracy'])"
      ],
      "execution_count": 0,
      "outputs": []
    },
    {
      "metadata": {
        "id": "1jH7PQrCeVbH",
        "colab_type": "code",
        "outputId": "47e9a950-c4fb-4c10-d5c2-79bf1aca27bb",
        "colab": {
          "base_uri": "https://localhost:8080/",
          "height": 748
        }
      },
      "cell_type": "code",
      "source": [
        "history = model.fit(x_train, y_train,\n",
        "                    batch_size=batch_size,\n",
        "                    epochs=epochs,\n",
        "                    verbose=1,\n",
        "                   validation_data=(x_test, y_test))\n",
        "score = model.evaluate(x_test, y_test, verbose=0)\n",
        "print('Test loss:', score[0])\n",
        "print('Test accuracy:', score[1])"
      ],
      "execution_count": 0,
      "outputs": [
        {
          "output_type": "stream",
          "text": [
            "Train on 18992 samples, validate on 890 samples\n",
            "Epoch 1/20\n",
            "18992/18992 [==============================] - 11s 573us/step - loss: 2.8367 - acc: 0.1025 - val_loss: 2.9846 - val_acc: 0.0697\n",
            "Epoch 2/20\n",
            "18992/18992 [==============================] - 8s 409us/step - loss: 2.7647 - acc: 0.1277 - val_loss: 2.8389 - val_acc: 0.1348\n",
            "Epoch 3/20\n",
            "18992/18992 [==============================] - 8s 408us/step - loss: 2.6733 - acc: 0.1647 - val_loss: 2.7583 - val_acc: 0.1236\n",
            "Epoch 4/20\n",
            "18992/18992 [==============================] - 8s 409us/step - loss: 2.5475 - acc: 0.2025 - val_loss: 2.6389 - val_acc: 0.1978\n",
            "Epoch 5/20\n",
            "18992/18992 [==============================] - 8s 412us/step - loss: 2.4227 - acc: 0.2445 - val_loss: 2.5212 - val_acc: 0.2270\n",
            "Epoch 6/20\n",
            "18992/18992 [==============================] - 8s 413us/step - loss: 2.3215 - acc: 0.2836 - val_loss: 2.3082 - val_acc: 0.3090\n",
            "Epoch 7/20\n",
            "18992/18992 [==============================] - 8s 411us/step - loss: 2.1868 - acc: 0.3214 - val_loss: 2.2481 - val_acc: 0.3281\n",
            "Epoch 8/20\n",
            "18992/18992 [==============================] - 8s 410us/step - loss: 2.0910 - acc: 0.3553 - val_loss: 2.0791 - val_acc: 0.3730\n",
            "Epoch 9/20\n",
            "18992/18992 [==============================] - 8s 411us/step - loss: 1.9834 - acc: 0.3895 - val_loss: 1.9899 - val_acc: 0.4393\n",
            "Epoch 10/20\n",
            "18992/18992 [==============================] - 8s 413us/step - loss: 1.8935 - acc: 0.4200 - val_loss: 1.7535 - val_acc: 0.4798\n",
            "Epoch 11/20\n",
            "18992/18992 [==============================] - 8s 411us/step - loss: 1.8090 - acc: 0.4454 - val_loss: 1.6444 - val_acc: 0.5079\n",
            "Epoch 12/20\n",
            "18992/18992 [==============================] - 8s 410us/step - loss: 1.7147 - acc: 0.4773 - val_loss: 1.8528 - val_acc: 0.4371\n",
            "Epoch 13/20\n",
            "18992/18992 [==============================] - 8s 411us/step - loss: 1.6398 - acc: 0.4942 - val_loss: 1.5347 - val_acc: 0.5483\n",
            "Epoch 14/20\n",
            "18992/18992 [==============================] - 8s 411us/step - loss: 1.5760 - acc: 0.5169 - val_loss: 1.4375 - val_acc: 0.5596\n",
            "Epoch 15/20\n",
            "18992/18992 [==============================] - 8s 410us/step - loss: 1.5055 - acc: 0.5412 - val_loss: 1.3703 - val_acc: 0.5944\n",
            "Epoch 16/20\n",
            "18992/18992 [==============================] - 8s 411us/step - loss: 1.4404 - acc: 0.5598 - val_loss: 1.2830 - val_acc: 0.5955\n",
            "Epoch 17/20\n",
            "18992/18992 [==============================] - 8s 410us/step - loss: 1.3707 - acc: 0.5848 - val_loss: 1.2099 - val_acc: 0.6202\n",
            "Epoch 18/20\n",
            "18992/18992 [==============================] - 8s 412us/step - loss: 1.3099 - acc: 0.6007 - val_loss: 1.2895 - val_acc: 0.6067\n",
            "Epoch 19/20\n",
            "18992/18992 [==============================] - 8s 412us/step - loss: 1.2670 - acc: 0.6129 - val_loss: 1.3525 - val_acc: 0.5719\n",
            "Epoch 20/20\n",
            "18992/18992 [==============================] - 8s 411us/step - loss: 1.1944 - acc: 0.6324 - val_loss: 0.9846 - val_acc: 0.6955\n",
            "Test loss: 0.9846352172701547\n",
            "Test accuracy: 0.695505617709642\n"
          ],
          "name": "stdout"
        }
      ]
    }
  ]
}